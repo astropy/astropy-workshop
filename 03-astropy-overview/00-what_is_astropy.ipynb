{
 "cells": [
  {
   "cell_type": "markdown",
   "id": "a255c4b5-205f-4d3b-901b-4b42bc47e93a",
   "metadata": {
    "jp-MarkdownHeadingCollapsed": true
   },
   "source": [
    "# 🌴 🌊 🔭 Aloha! 🌌 🐬 🌋\n",
    "\n",
    "## As you settle in, open Jupyter lab and navigate in the left panel to `03-astropy-overview` and open `00-what_is_astropy.ipynb`\n",
    "\n",
    "# Raise your hand 🙋 if you do not have this notebook open \n",
    "\n",
    "Installation instructions: https://github.com/astropy/astropy-workshop/tree/ALOHA-2024/00-Install_and_Setup "
   ]
  },
  {
   "cell_type": "markdown",
   "id": "ca907b58-955d-4bbb-87f8-9db169bb172f",
   "metadata": {},
   "source": [
    "# What is astropy?\n",
    "\n",
    "1. A Python software package with core, fundamental astronomy tools\n",
    "2. A project, which manages the software, grant funding, and the broader array of astropy content.\n",
    "3. Affiliated packages which build on astropy to add specialized content: https://www.astropy.org/affiliated/index.html\n",
    "4. Tutorials and guides: https://learn.astropy.org\n",
    "   2. Sneak preview of photometry guide: https://www.astropy.org/ccd-reduction-and-photometry-guide/v/pdev/notebooks/00-00-Preface.html "
   ]
  },
  {
   "cell_type": "code",
   "execution_count": null,
   "id": "bc0b0492-a39f-41b3-bc60-bf60dc63a1f9",
   "metadata": {},
   "outputs": [],
   "source": []
  }
 ],
 "metadata": {
  "kernelspec": {
   "display_name": "Python 3 (ipykernel)",
   "language": "python",
   "name": "python3"
  },
  "language_info": {
   "codemirror_mode": {
    "name": "ipython",
    "version": 3
   },
   "file_extension": ".py",
   "mimetype": "text/x-python",
   "name": "python",
   "nbconvert_exporter": "python",
   "pygments_lexer": "ipython3",
   "version": "3.12.7"
  }
 },
 "nbformat": 4,
 "nbformat_minor": 5
}
