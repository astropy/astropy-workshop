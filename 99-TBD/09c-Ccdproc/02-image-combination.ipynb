{
 "cells": [
  {
   "cell_type": "markdown",
   "metadata": {},
   "source": [
    "<img src=\"data/ccdproc_banner.svg\" width=500 alt=\"ccdproc logo\">"
   ]
  },
  {
   "cell_type": "markdown",
   "metadata": {},
   "source": [
    "# ccdproc\n",
    "\n",
    "+ Code: https://github.com/astropy/ccdproc\n",
    "+ Documentation: https://ccdproc.readthedocs.io/\n",
    "+ Detailed image reduction guide using ccdproc: https://github.com/astropy/ccd-reduction-and-photometry-guide\n",
    "+ Report bugs/issues here: https://github.com/astropy/ccdproc/issues\n",
    "    - Most of the bugs reported at or after the January AAS workshop are fixed in ccdproc 2.2 😃"
   ]
  },
  {
   "cell_type": "markdown",
   "metadata": {},
   "source": [
    "## In this section we will\n",
    "\n",
    "+ learn two interfaces for combining images\n",
    "+ talk through an overview of the combination methods\n",
    "+ preview of changes coming to address current performance bottlenecks\n",
    "\n",
    "<hr>"
   ]
  },
  {
   "cell_type": "markdown",
   "metadata": {},
   "source": [
    "## Preliminaries"
   ]
  },
  {
   "cell_type": "code",
   "execution_count": null,
   "metadata": {},
   "outputs": [],
   "source": [
    "# If you work with files regularly then you should use \n",
    "# pathlib, which is part of the Python standard library\n",
    "from pathlib import Path\n",
    "\n",
    "import numpy as np\n",
    "\n",
    "# Initial imports -- note the import of CCDData from astropy \n",
    "from astropy.nddata import CCDData\n",
    "from astropy import units as u\n",
    "from astropy.stats import mad_std\n",
    "\n",
    "import ccdproc as ccdp\n",
    "\n",
    "from matplotlib import pyplot as plt\n",
    "\n",
    "# This displays static plots in the notebook...it will always work\n",
    "%matplotlib inline\n",
    "\n",
    "# Use this instead for interactive plots, but note that you may need \n",
    "# to install ipympl for it to work\n",
    "\n",
    "# %matplotlib widget\n",
    "\n",
    "# This function display reasonably nicely with minimal effort\n",
    "from convenience_functions import show_image"
   ]
  },
  {
   "cell_type": "markdown",
   "metadata": {},
   "source": [
    "#### Generate some images to use in this tutorial \n",
    "\n",
    "To minimize the downloads necessary the next cell generates 10 copies of the single bias image included in this notebook, adding some random noise along the way."
   ]
  },
  {
   "cell_type": "code",
   "execution_count": null,
   "metadata": {},
   "outputs": [],
   "source": [
    "# You do NOT need to understand this cell to do the rest of the\n",
    "# tutorial (though it is another example of using ccdproc!)\n",
    "\n",
    "# Make a folder for the images\n",
    "combination_path = Path('images-combine')\n",
    "combination_path.mkdir(exist_ok=True)\n",
    "\n",
    "# Load the bias image that comes with the tutorial\n",
    "bias = CCDData.read('data/combined_bias.fit.gz')\n",
    "\n",
    "n_for_combining = 10\n",
    "\n",
    "# this is roughly correct for the camera I use most often\n",
    "read_noise = 7\n",
    "\n",
    "for i in range(n_for_combining):\n",
    "    # Copy the original bias\n",
    "    image_with_noise = bias.copy()  \n",
    "    \n",
    "    # Generate some noise the same shape as the data...\n",
    "    noise = read_noise * np.random.standard_normal(bias.shape)\n",
    "    \n",
    "    # ...and add it to the data\n",
    "    image_with_noise.data = image_with_noise.data + noise\n",
    "    \n",
    "    # Save the image\n",
    "    image_with_noise.write(combination_path / 'bias-{}.fit'.format(i))"
   ]
  },
  {
   "cell_type": "markdown",
   "metadata": {},
   "source": [
    "## Interface to image combination\n",
    "\n",
    "`ccdproc` provides two different interfaces for combining images: a `combine` function and a `Combiner` class. \n",
    "\n",
    "+ In most cases, the `combine` function (detailed description [at this link](https://ccdproc.readthedocs.io/en/latest/api/ccdproc.combine.html#ccdproc.combine)), should be used. It allows users to limit the amount of memory used by processing images in chunks and provides access to all of the features of `ccdproc`. The documentation on the function is limited, however.\n",
    "\n",
    "+ The `Combiner` class (description [here](https://ccdproc.readthedocs.io/en/latest/image_combination.html) and in more detail [here](https://ccdproc.readthedocs.io/en/latest/api/ccdproc.Combiner.html#ccdproc.Combiner)) is where all of the functionality is actually implemented. \n",
    "\n",
    "This tutorial will primarily demonstrate how to use the `Combiner` class because that it is far easier to break that into pieces, and because understanding those pieces makes it easier to understand what the `combine` function does."
   ]
  },
  {
   "cell_type": "markdown",
   "metadata": {},
   "source": [
    "## Approaches to image combination\n",
    "\n",
    "There are a few elements of image combination that, together, can make it complex and time consuming:\n",
    "\n",
    "+ Excluding extreme pixels (image clipping): Drop the min/max pixels in the stack, drop pixels above or below a particular value, sigma clip.\n",
    "+ Operate on the images before combination: Science images may need to be aligned before combining; calibration images typically do not.\n",
    "+ Combination method: Average the images, or sum them, or find the median.\n",
    "\n",
    "This tutorial will not get into which choices you should make. Some general advice is in the [CCD data reduction guide section on image combination](https://mwcraig.github.io/ccd-as-book/01-06-Image-combination.html), and examples of image combination in of each of the calibration steps are in the guide also (for example, in the [section on comibing bias images](https://mwcraig.github.io/ccd-as-book/02-04-Combine-bias-images-to-make-master.html)).\n",
    "\n",
    "When using `ccdproc` you need to exclude extreme pixels and perform any operations like reprojecting before combining, though the `combine` function takes care of this detail for you."
   ]
  },
  {
   "cell_type": "markdown",
   "metadata": {},
   "source": [
    "### Creating a `Combiner`\n",
    "\n",
    "The first step in combining images using the object interface is to create a `Combiner` from a list of `CCDData` images.\n",
    "\n",
    "That is done here using an `ImageFileCollection` to read the data."
   ]
  },
  {
   "cell_type": "code",
   "execution_count": null,
   "metadata": {},
   "outputs": [],
   "source": [
    "ifc = ccdp.ImageFileCollection(combination_path)\n",
    "\n",
    "images_to_combine = [ccd for ccd in ifc.ccds()]\n",
    "\n",
    "combiner = ccdp.Combiner(images_to_combine)"
   ]
  },
  {
   "cell_type": "markdown",
   "metadata": {},
   "source": [
    "### Removing pixels with extreme values\n",
    "\n",
    "A few methods are provided for excluding extreme values:\n",
    "\n",
    "+ min/max clipping removes the pixels above and/or below values set by the user.\n",
    "+ extrema clipping removes the largest and/or smalest value(s) from the image stack before clipping.\n",
    "+ sigma clipping removes pixels that are further than a user-set number of deviations from a central value.\n",
    "\n",
    "Each of these is described in more detail in the [ccdproc documentation](https://ccdproc.readthedocs.io/en/latest/image_combination.html#image-masks-and-clipping).\n",
    "\n",
    "The example below shows how to do implement a common choice: sigma clipping those values more than a few median absolute deviations (set by the `dev_func` argument below) from the median value (set by the `func` argument below)."
   ]
  },
  {
   "cell_type": "code",
   "execution_count": null,
   "metadata": {},
   "outputs": [],
   "source": [
    "combiner.sigma_clipping(low_thresh=5, high_thresh=5, \n",
    "                        func=np.ma.median, dev_func=mad_std)"
   ]
  },
  {
   "cell_type": "markdown",
   "metadata": {},
   "source": [
    "Though there is not any visible output here, the `combiner` has internally marked which pixels should be excluded from the combination.\n",
    "\n",
    "Several combination methods can be combined. For example, to also exclude the highest and lowest values of the pixels not masked by sigma clipping:"
   ]
  },
  {
   "cell_type": "code",
   "execution_count": null,
   "metadata": {},
   "outputs": [],
   "source": [
    "combiner.clip_extrema(nlow=1, nhigh=1)"
   ]
  },
  {
   "cell_type": "markdown",
   "metadata": {},
   "source": [
    "### Combining the images\n",
    "\n",
    "Three methods are provided for combining images:\n",
    "\n",
    "+ Average the images, taking into account the number of images actually included in the combination. Weights can be provided.\n",
    "+ Add the images in the stack\n",
    "+ Calculate the median value of the images stack\n",
    "\n",
    "The methods are similar to each other; averaging is shown below."
   ]
  },
  {
   "cell_type": "code",
   "execution_count": null,
   "metadata": {},
   "outputs": [],
   "source": [
    "combined_images = combiner.average_combine()"
   ]
  },
  {
   "cell_type": "markdown",
   "metadata": {},
   "source": [
    "### Before and after\n",
    "\n",
    "The image on the left below is a single bias image and the image on the right is the combination."
   ]
  },
  {
   "cell_type": "code",
   "execution_count": null,
   "metadata": {},
   "outputs": [],
   "source": [
    "fig, axes = plt.subplots(1, 2, sharey=True, tight_layout=True, figsize=(20, 10))\n",
    "\n",
    "# Dsiplay the first of the bias images\n",
    "show_image(images_to_combine[0].data, ax=axes[0], fig=fig)\n",
    "axes[0].set_title('Single bias images')\n",
    "\n",
    "# Display the combined image -- the perceintile for the low end of the color bar is set\n",
    "# so as to make the range of the data the same in each case.\n",
    "show_image(combined_images, ax=axes[1], fig=fig, percl=99.5)\n",
    "axes[1].set_title('Combined biases')"
   ]
  },
  {
   "cell_type": "markdown",
   "metadata": {},
   "source": [
    "Note that:\n",
    "\n",
    "+ The noise is reduced in the combined images.\n",
    "+ There is a faint vertical line around `x = 135` that is swamped by noise in the individual images but shows up more clearly in the combined image."
   ]
  },
  {
   "cell_type": "markdown",
   "metadata": {},
   "source": [
    "### Summary of other features\n",
    "\n",
    "+ Images can be scaled to the same central (average or median) value before combining. This is useful for creating twilight or sky flats. See this example from the [ccdproc documentation](https://ccdproc.readthedocs.io/en/latest/image_combination.html#combination-with-image-scaling) or this [discussion in the CCD guide](https://mwcraig.github.io/ccd-as-book/05-04-Combining-flats.html).\n",
    "\n",
    "+ Though `ccdproc` itself cannot currently shift, align, or reproject science images before combining them, an example showing how to do so is [in the documentation](https://ccdproc.readthedocs.io/en/latest/image_combination.html#combination-with-image-transformation-and-alignment).\n"
   ]
  },
  {
   "cell_type": "markdown",
   "metadata": {},
   "source": [
    "### Limitations and planned improvements\n",
    "\n",
    "Some of the current limitations and planned improvements are:\n",
    "\n",
    "+ The memory required can be as large as a few times the size of the images being combined when using the `Combiner` interface. Use the `combine` function instead to control memory use.\n",
    "    + Memory use will be better controlled in many cases in the next release.\n",
    "+ Using average or sum to combine images is unnecessarily slow.\n",
    "    + This will be improved by a factor of a few in the next release.\n",
    "+ Use of medians in clipping or combination is slow. \n",
    "    + This is more challenging, but efforts are underway to write a small package with optimized code for performing these operations on astronomical images. \n",
    "    + When that is ready, it will be incorporated into `ccdproc`"
   ]
  }
 ],
 "metadata": {
  "kernelspec": {
   "display_name": "Python 3",
   "language": "python",
   "name": "python3"
  },
  "language_info": {
   "codemirror_mode": {
    "name": "ipython",
    "version": 3
   },
   "file_extension": ".py",
   "mimetype": "text/x-python",
   "name": "python",
   "nbconvert_exporter": "python",
   "pygments_lexer": "ipython3",
   "version": "3.8.5"
  }
 },
 "nbformat": 4,
 "nbformat_minor": 4
}
