{
 "cells": [
  {
   "cell_type": "markdown",
   "metadata": {
    "nbpresent": {
     "id": "95b6bb9b-b79e-4ad5-8fa9-5de465ffbe66"
    }
   },
   "source": [
    "# Using JupyterLab and Jupyter Notebooks"
   ]
  },
  {
   "cell_type": "markdown",
   "metadata": {
    "nbpresent": {
     "id": "8c25ac6e-3312-4d59-a34a-9fe918f5aa57"
    }
   },
   "source": [
    "The **Jupyter notebook** allows you to write notebooks similar to e.g. Mathematica, SageMath, etc. The advantage of doing this is that you can include text, code, and plots in the same document. This makes it ideal for example to include code, notes, and plots about projects and sharing it with others. The typical way to run a Jupyter notebook is to run **JupyterLab**, which provides an interface to manage files, terminals, and Jupyter notebooks."
   ]
  },
  {
   "cell_type": "markdown",
   "metadata": {
    "nbpresent": {
     "id": "b3d2f6f7-c558-4fff-9a25-91c328d8a400"
    }
   },
   "source": [
    "## Starting up"
   ]
  },
  {
   "cell_type": "markdown",
   "metadata": {
    "nbpresent": {
     "id": "7cc8e3c4-be1d-44f7-99f7-773347ede0bd"
    }
   },
   "source": [
    "The normal way to start up the IPython notebook is:\n",
    "\n",
    "    jupyter lab\n",
    "    \n",
    "Once you do this, your web browser should open and go to a page showing a list of folders."
   ]
  },
  {
   "cell_type": "markdown",
   "metadata": {
    "nbpresent": {
     "id": "def841eb-06c3-45dd-929f-62b453f548fb"
    }
   },
   "source": [
    "## First steps"
   ]
  },
  {
   "cell_type": "markdown",
   "metadata": {
    "nbpresent": {
     "id": "120f3258-88a8-4bdb-908f-e94d98600e8e"
    }
   },
   "source": [
    "Click on **Python 3 (ipykernel)** on the right, which will open a new notebook called `Untitled.ipynb`. You can change the name of the document by right-clicking on the **Untitled** name at the top and selecting `Rename Notebook...`. Make sure you then save the document.\n",
    "\n",
    "At first glance, a notebook looks like a fairly typical application - it has a menubar (File, Edit, View, etc.) and a tool bar with icons. Below this, you will see an empty cell, in which you can type any Python code. You can write several lines of code, and once it is ready to run, you can press **shift-enter** and it will get executed:"
   ]
  },
  {
   "cell_type": "code",
   "execution_count": null,
   "metadata": {
    "nbpresent": {
     "id": "fbf2d2f2-eeb7-4509-acdc-15e4a537dd47"
    }
   },
   "outputs": [],
   "source": [
    "a = 1\n",
    "print(a)"
   ]
  },
  {
   "cell_type": "markdown",
   "metadata": {
    "nbpresent": {
     "id": "5c154836-de9a-4b14-af1c-b545929b0d2f"
    }
   },
   "source": [
    "You can then click on that cell, change the Python code, and press **shift-enter** again to re-execute the code. Once you have executed a cell once, a new cell will appear below. You can again enter some code, then press shift-enter to execute it."
   ]
  },
  {
   "cell_type": "markdown",
   "metadata": {
    "nbpresent": {
     "id": "ded46a09-247b-4210-86de-10c18a434dd4"
    }
   },
   "source": [
    "## Plotting"
   ]
  },
  {
   "cell_type": "markdown",
   "metadata": {},
   "source": [
    "The plotting package we will use during today's workshop is called `matplotlib`.  To use it within Jupyter notebooks we have to first apply a `matplotlib magic` command to tell `matplotlib` where to direct the plotting.  When using Jupyter notebooks, the two most common choices are\n",
    "\n",
    "1. `%matplotlib widget`: generates an *INTERACTIVE* plot (e.g. - allowing you to pan/zoom into portions of the plot using the controls below the plot and download the resulting plot). **NOTE:** to use the widget interface you need to install the `ipympl` package.\n",
    "2. `%matplotlib inline`: generates an non-interactive plot \"inline\" underneath the cell once the plot is generated.\n"
   ]
  },
  {
   "cell_type": "code",
   "execution_count": 1,
   "metadata": {
    "nbpresent": {
     "id": "c6dfdbcc-d701-49b2-ab03-54cfa38ce867"
    }
   },
   "outputs": [],
   "source": [
    "# Direct all subsequent matplotlib plots to an interactive on-screen image\n",
    "%matplotlib inline"
   ]
  },
  {
   "cell_type": "markdown",
   "metadata": {
    "nbpresent": {
     "id": "1b5dbad8-35d8-4e2a-8877-e10162c1a5ce"
    }
   },
   "source": [
    "To make plots, enter any Matplotlib commands (which we'll learn about in the plotting section of the workshop), and just press shift-enter - note that all commands for a plot should be entered in one cell, you cannot split it up over multiple cells:"
   ]
  },
  {
   "cell_type": "code",
   "execution_count": 2,
   "metadata": {},
   "outputs": [
    {
     "data": {
      "text/plain": [
       "Text(0, 0.5, 'y')"
      ]
     },
     "execution_count": 2,
     "metadata": {},
     "output_type": "execute_result"
    },
    {
     "data": {
      "image/png": "[encoded data removed]",
      "text/plain": [
       "<Figure size 640x480 with 1 Axes>"
      ]
     },
     "metadata": {},
     "output_type": "display_data"
    }
   ],
   "source": [
    "import matplotlib.pyplot as plt\n",
    "plt.plot([1, 2, 3], [4, 5, 6])\n",
    "plt.xlabel(\"x\")\n",
    "plt.ylabel(\"y\")"
   ]
  },
  {
   "cell_type": "markdown",
   "metadata": {
    "nbpresent": {
     "id": "80fe17d0-fcc2-4126-898a-a1761287dc27"
    }
   },
   "source": [
    "As before, you can always go back and edit the cell to make changes and then re-make the plot.  You can also go back and change the matplotlib magic command and change where you are directing the output (if you make a matplotlib magic command change, it only affects the output of cells executed AFTER the change). \n",
    "\n",
    "If you want to save the plot, make sure you include ``plt.savefig(filename)`` as the last command, where ``filename`` is the name of the plot, such as ``my_plot.png``.  The suffix of the filename determines the file format."
   ]
  },
  {
   "cell_type": "markdown",
   "metadata": {
    "nbpresent": {
     "id": "9105381c-8a2a-4f6a-aebd-0d2c81e8863a"
    }
   },
   "source": [
    "## Text"
   ]
  },
  {
   "cell_type": "markdown",
   "metadata": {
    "nbpresent": {
     "id": "7d99ead2-a133-40b4-90d9-53fbfa7f0f93"
    }
   },
   "source": [
    "To enter actual text (non-code) in the notebook, click on a cell, and in the drop-down menu in the toolbar, select 'Markdown'. This is a specific type of syntax for writing text. You can just write text normally and press shift-enter to *render* it:\n",
    "\n",
    "    This is some plain text\n",
    "\n",
    "To edit it, double click on the cell. You can also enter section headings using the following syntax:\n",
    "\n",
    "    # This is a title\n",
    "\n",
    "    ## This is a sub-title\n",
    "\n",
    "which will look like:\n",
    "\n",
    "# This is a title\n",
    "\n",
    "## This is a sub-title\n",
    "\n",
    "Finally, if you are familiar with LaTeX, you can enter equations using:\n",
    "\n",
    "    $$E = m c^2$$\n",
    "\n",
    "on a separate line, or:\n",
    "\n",
    "    The equation $p=\\frac{h}{\\lambda}$ is very important\n",
    "\n",
    "to include it in a sentence. This will look like:\n",
    "\n",
    "$$E = m c^2$$\n",
    "\n",
    "The equation $p=\\frac{h}{\\lambda}$ is very important"
   ]
  },
  {
   "cell_type": "markdown",
   "metadata": {
    "nbpresent": {
     "id": "c932cfdc-66e3-469a-8acc-2265cfdbfb74"
    }
   },
   "source": [
    "## Splitting/deleting/moving cells"
   ]
  },
  {
   "cell_type": "markdown",
   "metadata": {
    "nbpresent": {
     "id": "2d24cab1-ee8a-4a05-b62d-178c2ba27cd5"
    }
   },
   "source": [
    "You can split, delete, and move cells by right-clicking on cell and selecting the appropriate option. You can also use the toolbar at the top of the notebook, and there are keyboard shortcuts for these options. Cells can be rearranged in the notebook by clicking and dragging them."
   ]
  },
  {
   "cell_type": "markdown",
   "metadata": {
    "nbpresent": {
     "id": "a5eb353e-4949-47c8-ab2b-fd0dd1397442"
    }
   },
   "source": [
    "## Sharing your notebook"
   ]
  },
  {
   "cell_type": "markdown",
   "metadata": {
    "nbpresent": {
     "id": "2930326f-4ac8-4c3d-8f9b-eeb9133d3316"
    }
   },
   "source": [
    "Once you are happy with your notebook, you can share it with other people. The file containing your notebook is the ``.ipynb`` file that is in the directory in which you started the notebook and has the correct name. You can send this file directly to other people, and they will be able to view it in their Jupyter notebook application.\n",
    "\n",
    "If you add a notebook to GitHub, it will also be rendered there, so this is another way of sharing notebooks. To quickly share a notebook, you can just go to [http://gist.github.com](http://gist.github.com) and drag and drop the notebook onto the page, then click on **Create Private Gist** or **Create Public Gist** (a private one is still really public, but only people with the link will be able to find it)."
   ]
  },
  {
   "cell_type": "markdown",
   "metadata": {
    "nbpresent": {
     "id": "2c369eb9-8071-45d6-8435-75d87f208cab"
    }
   },
   "source": [
    "## Important notes"
   ]
  },
  {
   "cell_type": "markdown",
   "metadata": {
    "nbpresent": {
     "id": "9346c79b-b494-41b8-b0f5-2c19cc09b5c7"
    }
   },
   "source": [
    "A few important notes about using the notebook: code *can* be executed in an order different from top to bottom, but note that if you do this, variables will not be reset. So for example if you type:"
   ]
  },
  {
   "cell_type": "code",
   "execution_count": null,
   "metadata": {
    "nbpresent": {
     "id": "713809f0-89a4-4cbd-a0bb-b004b4fa253a"
    }
   },
   "outputs": [],
   "source": [
    "a = 1"
   ]
  },
  {
   "cell_type": "markdown",
   "metadata": {
    "nbpresent": {
     "id": "417f32d9-c120-48fa-b062-045652a91ead"
    }
   },
   "source": [
    "then go higher up and type:"
   ]
  },
  {
   "cell_type": "code",
   "execution_count": null,
   "metadata": {
    "nbpresent": {
     "id": "dade77fd-912f-414b-9928-6fab30487a36"
    }
   },
   "outputs": [],
   "source": [
    "print(a)"
   ]
  },
  {
   "cell_type": "markdown",
   "metadata": {
    "nbpresent": {
     "id": "ff0c18da-f685-42c2-9580-6f0768a3f63a"
    }
   },
   "source": [
    "it will give the value you previously set. To make sure that your code works from top to bottom, go to the **Kernel** menu and select \"Restart kernel and run all cells...\" option. There is a button that does the same thingin the tollbar at the top of the notebook. It looks like a fast-forward button.\n",
    "\n",
    "In addition, even if you remove a cell, then variables set in that cell still exist unless you restart the notebook. If you want to restart a notebook, you can select **Kernel** -> **Restart**. This removes any variables from memory, and you have to start running the notebook from the start."
   ]
  }
 ],
 "metadata": {
  "anaconda-cloud": {},
  "kernelspec": {
   "display_name": "stelldev-pyd2",
   "language": "python",
   "name": "python3"
  },
  "language_info": {
   "codemirror_mode": {
    "name": "ipython",
    "version": 3
   },
   "file_extension": ".py",
   "mimetype": "text/x-python",
   "name": "python",
   "nbconvert_exporter": "python",
   "pygments_lexer": "ipython3",
   "version": "3.11.9"
  },
  "nbpresent": {
   "slides": {
    "0f58d322-a2bd-4547-83cd-6aa2b2359a56": {
     "id": "0f58d322-a2bd-4547-83cd-6aa2b2359a56",
     "prev": "975c109c-3be4-43ec-874f-3165e100c6c3",
     "regions": {
      "8988cc2e-db0b-4600-ae2a-df98ae3362d6": {
       "attrs": {
        "height": 0.8,
        "width": 0.8,
        "x": 0.1,
        "y": 0.1
       },
       "content": {
        "cell": "80fe17d0-fcc2-4126-898a-a1761287dc27",
        "part": "whole"
       },
       "id": "8988cc2e-db0b-4600-ae2a-df98ae3362d6"
      }
     }
    },
    "188d7e1c-e1fc-40ec-8b76-d82c0b466d72": {
     "id": "188d7e1c-e1fc-40ec-8b76-d82c0b466d72",
     "prev": "590e3d8f-6ae7-45ab-be14-2fc0056fd242",
     "regions": {
      "d2dbb620-244c-4b1c-94dc-332a483d9932": {
       "attrs": {
        "height": 0.8,
        "width": 0.8,
        "x": 0.1,
        "y": 0.1
       },
       "content": {
        "cell": "ded46a09-247b-4210-86de-10c18a434dd4",
        "part": "whole"
       },
       "id": "d2dbb620-244c-4b1c-94dc-332a483d9932"
      }
     }
    },
    "3267b11a-148b-4530-af3e-27e67fff1763": {
     "id": "3267b11a-148b-4530-af3e-27e67fff1763",
     "prev": "73d05e56-4397-495b-9e1f-94d218026202",
     "regions": {
      "35ad5b3c-b09b-4a61-a1b5-40ab27a4f5b6": {
       "attrs": {
        "height": 0.8,
        "width": 0.8,
        "x": 0.1,
        "y": 0.1
       },
       "content": {
        "cell": "8c25ac6e-3312-4d59-a34a-9fe918f5aa57",
        "part": "whole"
       },
       "id": "35ad5b3c-b09b-4a61-a1b5-40ab27a4f5b6"
      }
     }
    },
    "3792cc0c-cf59-4bf9-9412-3241856af11e": {
     "id": "3792cc0c-cf59-4bf9-9412-3241856af11e",
     "prev": "fec55f28-172e-4ec5-bd5e-420237798ccf",
     "regions": {
      "2e5ce04e-c10a-4a41-ac8a-b567037e3842": {
       "attrs": {
        "height": 0.8,
        "width": 0.8,
        "x": 0.1,
        "y": 0.1
       },
       "content": {
        "cell": "c932cfdc-66e3-469a-8acc-2265cfdbfb74",
        "part": "whole"
       },
       "id": "2e5ce04e-c10a-4a41-ac8a-b567037e3842"
      }
     }
    },
    "392780b1-6544-430d-a25d-0645832d5dfa": {
     "id": "392780b1-6544-430d-a25d-0645832d5dfa",
     "prev": "ded3744c-d5d6-4ac7-9308-f111ef45b61a",
     "regions": {
      "097041d5-3f09-48fe-b4e9-3f22e946f08c": {
       "attrs": {
        "height": 0.8,
        "width": 0.8,
        "x": 0.1,
        "y": 0.1
       },
       "content": {
        "cell": "ff0c18da-f685-42c2-9580-6f0768a3f63a",
        "part": "whole"
       },
       "id": "097041d5-3f09-48fe-b4e9-3f22e946f08c"
      }
     }
    },
    "41e91d85-a937-4036-9a05-9154fc9326b7": {
     "id": "41e91d85-a937-4036-9a05-9154fc9326b7",
     "prev": "ce4f74a7-ed22-4fa1-b63d-46508ecae61a",
     "regions": {
      "6af22ce4-2c7f-4a85-a4d1-cbb81893ce41": {
       "attrs": {
        "height": 0.8,
        "width": 0.8,
        "x": 0.1,
        "y": 0.1
       },
       "content": {
        "cell": "2c369eb9-8071-45d6-8435-75d87f208cab",
        "part": "whole"
       },
       "id": "6af22ce4-2c7f-4a85-a4d1-cbb81893ce41"
      }
     }
    },
    "49139172-8e43-45b7-b96e-95d57dd012ed": {
     "id": "49139172-8e43-45b7-b96e-95d57dd012ed",
     "prev": "3792cc0c-cf59-4bf9-9412-3241856af11e",
     "regions": {
      "789747c6-2bf0-4789-a07a-3ba318a9ed6c": {
       "attrs": {
        "height": 0.8,
        "width": 0.8,
        "x": 0.1,
        "y": 0.1
       },
       "content": {
        "cell": "2d24cab1-ee8a-4a05-b62d-178c2ba27cd5",
        "part": "whole"
       },
       "id": "789747c6-2bf0-4789-a07a-3ba318a9ed6c"
      }
     }
    },
    "590e3d8f-6ae7-45ab-be14-2fc0056fd242": {
     "id": "590e3d8f-6ae7-45ab-be14-2fc0056fd242",
     "prev": "f864c1c5-c61e-4f2e-8634-51a15b78459c",
     "regions": {
      "4de53284-9671-41b4-b7d5-42ba50a11998": {
       "attrs": {
        "height": 0.8,
        "width": 0.8,
        "x": 0.1,
        "y": 0.1
       },
       "content": {
        "cell": "5c154836-de9a-4b14-af1c-b545929b0d2f",
        "part": "whole"
       },
       "id": "4de53284-9671-41b4-b7d5-42ba50a11998"
      }
     }
    },
    "676fb43c-136c-4c2e-b431-fc3d9e73ab95": {
     "id": "676fb43c-136c-4c2e-b431-fc3d9e73ab95",
     "prev": "6cb28851-ca74-4a4c-891f-24447bc93179",
     "regions": {
      "94738b4c-0b88-4732-b595-7561dab26b75": {
       "attrs": {
        "height": 0.8,
        "width": 0.8,
        "x": 0.1,
        "y": 0.1
       },
       "content": {
        "cell": "120f3258-88a8-4bdb-908f-e94d98600e8e",
        "part": "whole"
       },
       "id": "94738b4c-0b88-4732-b595-7561dab26b75"
      }
     }
    },
    "6cb28851-ca74-4a4c-891f-24447bc93179": {
     "id": "6cb28851-ca74-4a4c-891f-24447bc93179",
     "prev": "a3fd22e7-cee3-4230-a79c-745e008064fa",
     "regions": {
      "4e964a33-1972-40fe-b873-a87a6dee659f": {
       "attrs": {
        "height": 0.8,
        "width": 0.8,
        "x": 0.1,
        "y": 0.1
       },
       "content": {
        "cell": "def841eb-06c3-45dd-929f-62b453f548fb",
        "part": "whole"
       },
       "id": "4e964a33-1972-40fe-b873-a87a6dee659f"
      }
     }
    },
    "73d05e56-4397-495b-9e1f-94d218026202": {
     "id": "73d05e56-4397-495b-9e1f-94d218026202",
     "prev": null,
     "regions": {
      "f37ee98f-1599-4160-9422-4e8bf90b72f7": {
       "attrs": {
        "height": 0.8,
        "width": 0.8,
        "x": 0.1,
        "y": 0.1
       },
       "content": {
        "cell": "95b6bb9b-b79e-4ad5-8fa9-5de465ffbe66",
        "part": "whole"
       },
       "id": "f37ee98f-1599-4160-9422-4e8bf90b72f7"
      }
     }
    },
    "82b8d982-30f9-4f1f-891d-ed19ca3edcb1": {
     "id": "82b8d982-30f9-4f1f-891d-ed19ca3edcb1",
     "prev": "0f58d322-a2bd-4547-83cd-6aa2b2359a56",
     "regions": {
      "5a880491-7648-4652-927a-f080deb447c3": {
       "attrs": {
        "height": 0.8,
        "width": 0.8,
        "x": 0.1,
        "y": 0.1
       },
       "content": {
        "cell": "9105381c-8a2a-4f6a-aebd-0d2c81e8863a",
        "part": "whole"
       },
       "id": "5a880491-7648-4652-927a-f080deb447c3"
      }
     }
    },
    "832232ba-6d14-48df-ad16-13c33233ca8c": {
     "id": "832232ba-6d14-48df-ad16-13c33233ca8c",
     "prev": "49139172-8e43-45b7-b96e-95d57dd012ed",
     "regions": {
      "5618f978-8a6b-4267-ab1e-d215f6255a0b": {
       "attrs": {
        "height": 0.8,
        "width": 0.8,
        "x": 0.1,
        "y": 0.1
       },
       "content": {
        "cell": "a5eb353e-4949-47c8-ab2b-fd0dd1397442",
        "part": "whole"
       },
       "id": "5618f978-8a6b-4267-ab1e-d215f6255a0b"
      }
     }
    },
    "90d2cd1d-5c08-48ce-8efc-dca18349efb5": {
     "id": "90d2cd1d-5c08-48ce-8efc-dca18349efb5",
     "prev": "eef4e7a5-5421-472f-a810-8d811f739c71",
     "regions": {
      "8a21d0bf-f158-4e61-afba-9828f4c9f18f": {
       "attrs": {
        "height": 0.8,
        "width": 0.8,
        "x": 0.1,
        "y": 0.1
       },
       "content": {
        "cell": "713809f0-89a4-4cbd-a0bb-b004b4fa253a",
        "part": "whole"
       },
       "id": "8a21d0bf-f158-4e61-afba-9828f4c9f18f"
      }
     }
    },
    "975c109c-3be4-43ec-874f-3165e100c6c3": {
     "id": "975c109c-3be4-43ec-874f-3165e100c6c3",
     "prev": "b3985054-a78b-466c-89bd-8b94c1267f52",
     "regions": {
      "4cf4cbde-12ed-42ad-8efb-7aaa2a51b9f2": {
       "attrs": {
        "height": 0.8,
        "width": 0.8,
        "x": 0.1,
        "y": 0.1
       },
       "content": {
        "cell": "c6dfdbcc-d701-49b2-ab03-54cfa38ce867",
        "part": "whole"
       },
       "id": "4cf4cbde-12ed-42ad-8efb-7aaa2a51b9f2"
      }
     }
    },
    "a3fd22e7-cee3-4230-a79c-745e008064fa": {
     "id": "a3fd22e7-cee3-4230-a79c-745e008064fa",
     "prev": "fbb51a89-482e-4ce6-8618-3e4bb47a3897",
     "regions": {
      "a75ef572-b4ca-4bb8-a60b-8ea0f00647b2": {
       "attrs": {
        "height": 0.8,
        "width": 0.8,
        "x": 0.1,
        "y": 0.1
       },
       "content": {
        "cell": "7cc8e3c4-be1d-44f7-99f7-773347ede0bd",
        "part": "whole"
       },
       "id": "a75ef572-b4ca-4bb8-a60b-8ea0f00647b2"
      }
     }
    },
    "b3985054-a78b-466c-89bd-8b94c1267f52": {
     "id": "b3985054-a78b-466c-89bd-8b94c1267f52",
     "prev": "188d7e1c-e1fc-40ec-8b76-d82c0b466d72",
     "regions": {
      "40c0e460-7da1-4221-bc13-ce6d92cab50f": {
       "attrs": {
        "height": 0.8,
        "width": 0.8,
        "x": 0.1,
        "y": 0.1
       },
       "content": {
        "cell": "1b5dbad8-35d8-4e2a-8877-e10162c1a5ce",
        "part": "whole"
       },
       "id": "40c0e460-7da1-4221-bc13-ce6d92cab50f"
      }
     }
    },
    "ce4f74a7-ed22-4fa1-b63d-46508ecae61a": {
     "id": "ce4f74a7-ed22-4fa1-b63d-46508ecae61a",
     "prev": "832232ba-6d14-48df-ad16-13c33233ca8c",
     "regions": {
      "78536718-b9c4-42bb-ac63-0569ab4afa6b": {
       "attrs": {
        "height": 0.8,
        "width": 0.8,
        "x": 0.1,
        "y": 0.1
       },
       "content": {
        "cell": "2930326f-4ac8-4c3d-8f9b-eeb9133d3316",
        "part": "whole"
       },
       "id": "78536718-b9c4-42bb-ac63-0569ab4afa6b"
      }
     }
    },
    "ded3744c-d5d6-4ac7-9308-f111ef45b61a": {
     "id": "ded3744c-d5d6-4ac7-9308-f111ef45b61a",
     "prev": "f2b7ee47-381f-42d0-bd27-04085e3855cf",
     "regions": {
      "9d05eb8c-3cfc-4515-a852-77e5c1ea145f": {
       "attrs": {
        "height": 0.8,
        "width": 0.8,
        "x": 0.1,
        "y": 0.1
       },
       "content": {
        "cell": "dade77fd-912f-414b-9928-6fab30487a36",
        "part": "whole"
       },
       "id": "9d05eb8c-3cfc-4515-a852-77e5c1ea145f"
      }
     }
    },
    "eef4e7a5-5421-472f-a810-8d811f739c71": {
     "id": "eef4e7a5-5421-472f-a810-8d811f739c71",
     "prev": "41e91d85-a937-4036-9a05-9154fc9326b7",
     "regions": {
      "9ab36876-bcf5-4db2-a838-c8decaa84907": {
       "attrs": {
        "height": 0.8,
        "width": 0.8,
        "x": 0.1,
        "y": 0.1
       },
       "content": {
        "cell": "9346c79b-b494-41b8-b0f5-2c19cc09b5c7",
        "part": "whole"
       },
       "id": "9ab36876-bcf5-4db2-a838-c8decaa84907"
      }
     }
    },
    "f2b7ee47-381f-42d0-bd27-04085e3855cf": {
     "id": "f2b7ee47-381f-42d0-bd27-04085e3855cf",
     "prev": "90d2cd1d-5c08-48ce-8efc-dca18349efb5",
     "regions": {
      "3f25d3fd-74f6-477d-806f-b737b5327ee2": {
       "attrs": {
        "height": 0.8,
        "width": 0.8,
        "x": 0.1,
        "y": 0.1
       },
       "content": {
        "cell": "417f32d9-c120-48fa-b062-045652a91ead",
        "part": "whole"
       },
       "id": "3f25d3fd-74f6-477d-806f-b737b5327ee2"
      }
     }
    },
    "f864c1c5-c61e-4f2e-8634-51a15b78459c": {
     "id": "f864c1c5-c61e-4f2e-8634-51a15b78459c",
     "prev": "676fb43c-136c-4c2e-b431-fc3d9e73ab95",
     "regions": {
      "43d982ea-9933-4ba1-96f2-b6f71d487530": {
       "attrs": {
        "height": 0.8,
        "width": 0.8,
        "x": 0.1,
        "y": 0.1
       },
       "content": {
        "cell": "fbf2d2f2-eeb7-4509-acdc-15e4a537dd47",
        "part": "whole"
       },
       "id": "43d982ea-9933-4ba1-96f2-b6f71d487530"
      }
     }
    },
    "fbb51a89-482e-4ce6-8618-3e4bb47a3897": {
     "id": "fbb51a89-482e-4ce6-8618-3e4bb47a3897",
     "prev": "3267b11a-148b-4530-af3e-27e67fff1763",
     "regions": {
      "9323ea38-c11a-427b-97bc-c644d87520ee": {
       "attrs": {
        "height": 0.8,
        "width": 0.8,
        "x": 0.1,
        "y": 0.1
       },
       "content": {
        "cell": "b3d2f6f7-c558-4fff-9a25-91c328d8a400",
        "part": "whole"
       },
       "id": "9323ea38-c11a-427b-97bc-c644d87520ee"
      }
     }
    },
    "fec55f28-172e-4ec5-bd5e-420237798ccf": {
     "id": "fec55f28-172e-4ec5-bd5e-420237798ccf",
     "prev": "82b8d982-30f9-4f1f-891d-ed19ca3edcb1",
     "regions": {
      "a861688b-c457-4b83-9508-72be11d11be4": {
       "attrs": {
        "height": 0.8,
        "width": 0.8,
        "x": 0.1,
        "y": 0.1
       },
       "content": {
        "cell": "7d99ead2-a133-40b4-90d9-53fbfa7f0f93",
        "part": "whole"
       },
       "id": "a861688b-c457-4b83-9508-72be11d11be4"
      }
     }
    }
   },
   "themes": {}
  }
 },
 "nbformat": 4,
 "nbformat_minor": 1
}
