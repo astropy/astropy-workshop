{
 "cells": [
  {
   "cell_type": "markdown",
   "metadata": {
    "slideshow": {
     "slide_type": "slide"
    }
   },
   "source": [
    "<img src=\"data/photutils_banner.svg\" width=500 alt=\"Photutils logo\" style=\"margin-left: 0;\">"
   ]
  },
  {
   "cell_type": "markdown",
   "metadata": {
    "slideshow": {
     "slide_type": "slide"
    }
   },
   "source": [
    "<div class=\"alert alert-block alert-info\">\n",
    "<h2 style=\"margin-top: 0\">In this notebook, we will cover:</h2>\n",
    "\n",
    "- Aperture Photometry\n",
    "    - Performing aperture photometry at multiple positions with the same aperture\n",
    "      - Using the aperture_photometry function\n",
    "      - Using the ApertureStats class\n",
    "    - Performing aperture photometry at multiple positions using different apertures\n",
    "      - Using the aperture_photometry function\n",
    "      - Using the ApertureStats class\n",
    "    - Bad pixel masking\n",
    "      - Using the aperture_photometry function\n",
    "      - Using the ApertureStats class\n",
    "    - Encircled flux\n",
    "      - Using the aperture_photometry function\n",
    "      - Using the ApertureStats class\n",
    "\n",
    "- ApertureMask objects\n",
    "</div>"
   ]
  },
  {
   "cell_type": "markdown",
   "metadata": {},
   "source": [
    "## Preliminaries"
   ]
  },
  {
   "cell_type": "code",
   "execution_count": null,
   "metadata": {
    "slideshow": {
     "slide_type": "slide"
    }
   },
   "outputs": [],
   "source": [
    "# initial imports\n",
    "import numpy as np\n",
    "import matplotlib.pyplot as plt\n",
    "\n",
    "# change some default plotting parameters\n",
    "import matplotlib as mpl\n",
    "mpl.rcParams['image.origin'] = 'lower'\n",
    "mpl.rcParams['image.interpolation'] = 'nearest'\n",
    "\n",
    "# Run the %matplotlib magic command to enable inline plotting\n",
    "# in the current notebook.  Choose one of these:\n",
    "%matplotlib inline\n",
    "# %matplotlib notebook"
   ]
  },
  {
   "cell_type": "markdown",
   "metadata": {},
   "source": [
    "### Load the data"
   ]
  },
  {
   "cell_type": "markdown",
   "metadata": {
    "slideshow": {
     "slide_type": "-"
    }
   },
   "source": [
    "We'll start by reading science data and error arrays from FITS files located in the [**data/**](data) subdirectory.  The FITS files contain 2D cutout images from the [Hubble Extreme-Deep Field (XDF)](https://archive.stsci.edu/prepds/xdf/) taken with the [Wide Field Camera 3 (WFC3)](https://www.stsci.edu/hst/instrumentation/wfc3) IR channel in the F160W filter (centered at ~1.6 $\\mu m$)."
   ]
  },
  {
   "cell_type": "code",
   "execution_count": null,
   "metadata": {
    "slideshow": {
     "slide_type": "-"
    }
   },
   "outputs": [],
   "source": [
    "from astropy.io import fits\n",
    "from astropy.wcs import WCS\n",
    "\n",
    "sci_fn = 'data/xdf_hst_wfc3ir_60mas_f160w_sci.fits'\n",
    "rms_fn = 'data/xdf_hst_wfc3ir_60mas_f160w_rms.fits'\n",
    "sci_hdulist = fits.open(sci_fn)\n",
    "rms_hdulist = fits.open(rms_fn)\n",
    "\n",
    "data = sci_hdulist[0].data.astype(float)\n",
    "error = rms_hdulist[0].data.astype(float)\n",
    "hdr = sci_hdulist[0].header\n",
    "wcs = WCS(hdr)"
   ]
  },
  {
   "cell_type": "code",
   "execution_count": null,
   "metadata": {
    "slideshow": {
     "slide_type": "fragment"
    }
   },
   "outputs": [],
   "source": [
    "from astropy.visualization import simple_norm\n",
    "\n",
    "plt.figure(figsize=(5, 5))\n",
    "norm = simple_norm(data, 'sqrt', percent=99.)\n",
    "plt.imshow(data, norm=norm)\n",
    "plt.title('XDF F160W Cutout');"
   ]
  },
  {
   "cell_type": "markdown",
   "metadata": {
    "slideshow": {
     "slide_type": "slide"
    }
   },
   "source": [
    "# Aperture Photometry"
   ]
  },
  {
   "cell_type": "markdown",
   "metadata": {
    "slideshow": {
     "slide_type": "slide"
    }
   },
   "source": [
    "## Performing aperture photometry at multiple positions with the same aperture\n",
    "\n",
    "The aperture is the same size for each source.\n",
    "\n",
    "*Note that the background has already been subtracted from this dataset.*"
   ]
  },
  {
   "cell_type": "code",
   "execution_count": null,
   "metadata": {
    "slideshow": {
     "slide_type": "-"
    }
   },
   "outputs": [],
   "source": [
    "import astropy.units as u\n",
    "from photutils.utils import calc_total_error\n",
    "from photutils.aperture import ApertureStats, CircularAperture, aperture_photometry\n",
    "\n",
    "positions = [(90.73, 59.43), (73.63, 139.41), (43.62, 61.63)]\n",
    "radius = 5.0\n",
    "aperture = CircularAperture(positions, r=radius)\n",
    "\n",
    "eff_gain = hdr['TEXPTIME']\n",
    "total_error = calc_total_error(data, error, eff_gain)\n",
    "\n",
    "unit = u.electron / u.s"
   ]
  },
  {
   "cell_type": "markdown",
   "metadata": {},
   "source": [
    "### Using the `aperture_photometry` function"
   ]
  },
  {
   "cell_type": "code",
   "execution_count": null,
   "metadata": {
    "slideshow": {
     "slide_type": "-"
    }
   },
   "outputs": [],
   "source": [
    "phot = aperture_photometry(data << unit, aperture, error=total_error << unit)\n",
    "phot"
   ]
  },
  {
   "cell_type": "markdown",
   "metadata": {},
   "source": [
    "### Using the `ApertureStats` class"
   ]
  },
  {
   "cell_type": "code",
   "execution_count": null,
   "metadata": {},
   "outputs": [],
   "source": [
    "apstats = ApertureStats(data << unit, aperture, error=total_error << unit)\n",
    "apstats.sum, apstats.sum_err"
   ]
  },
  {
   "cell_type": "code",
   "execution_count": null,
   "metadata": {},
   "outputs": [],
   "source": [
    "apstats.to_table()  # all source properties within the aperture"
   ]
  },
  {
   "cell_type": "markdown",
   "metadata": {},
   "source": [
    "## Performing aperture photometry at multiple positions using multiple apertures\n",
    "\n",
    "Photometry is measured for each of the three sources in four apertures of different radii."
   ]
  },
  {
   "cell_type": "markdown",
   "metadata": {},
   "source": [
    "We create separate `CircularAperture` object for each of the radii (with all three positions) and then create a list of these circular apertures.  The following example uses a Python list comprehension to create the list of apertures.\n",
    "\n",
    "*Note that the background has already been subtracted from this dataset.*"
   ]
  },
  {
   "cell_type": "code",
   "execution_count": null,
   "metadata": {},
   "outputs": [],
   "source": [
    "positions = [(90.73, 59.43), (73.63, 139.41), (43.62, 61.63)]\n",
    "radii = [5.0, 7.5, 9.0, 11.0]\n",
    "apertures = [CircularAperture(positions, r=r) for r in radii]\n",
    "apertures"
   ]
  },
  {
   "cell_type": "code",
   "execution_count": null,
   "metadata": {},
   "outputs": [],
   "source": [
    "apertures[2]  # the apertures for the third radius (r=9.0)"
   ]
  },
  {
   "cell_type": "code",
   "execution_count": null,
   "metadata": {},
   "outputs": [],
   "source": [
    "apertures[2][1]  # the aperture for the third radius (r=9.0) at the second position"
   ]
  },
  {
   "cell_type": "markdown",
   "metadata": {},
   "source": [
    "### Using `aperture_photometry`"
   ]
  },
  {
   "cell_type": "code",
   "execution_count": null,
   "metadata": {},
   "outputs": [],
   "source": [
    "phot = aperture_photometry(data << unit, apertures, error=total_error << unit)\n",
    "phot"
   ]
  },
  {
   "cell_type": "markdown",
   "metadata": {},
   "source": [
    "The output table above now contains multiple columns for the `aperture_sum` and `aperture_sum_err` for each aperture.  The column names are appended with `_N`, where N is running index of the apertures in the input `apertures` list, i.e., the first aperture is `_0`, the second is `_1`, etc."
   ]
  },
  {
   "cell_type": "markdown",
   "metadata": {},
   "source": [
    "We could add columns to the table to store the value of the aperture radii used:"
   ]
  },
  {
   "cell_type": "code",
   "execution_count": null,
   "metadata": {},
   "outputs": [],
   "source": [
    "for i, radius in enumerate(radii):\n",
    "    phot[f'aperture_radius_{i}'] = np.ones(len(phot)) * radius * u.pix\n",
    "\n",
    "phot"
   ]
  },
  {
   "cell_type": "markdown",
   "metadata": {},
   "source": [
    "Since the column values are all the same, it's perhaps better to store the radii values in the table metadata:"
   ]
  },
  {
   "cell_type": "code",
   "execution_count": null,
   "metadata": {},
   "outputs": [],
   "source": [
    "for i, radius in enumerate(radii):\n",
    "    phot.meta[f'aperture_{i}'] = f'Circular aperture with r={radius} pix'\n",
    "\n",
    "phot.meta"
   ]
  },
  {
   "cell_type": "markdown",
   "metadata": {},
   "source": [
    "### Using `ApertureStats`"
   ]
  },
  {
   "cell_type": "code",
   "execution_count": null,
   "metadata": {},
   "outputs": [],
   "source": [
    "apstats = []\n",
    "for aper in apertures:\n",
    "    apstat = ApertureStats(data << unit, aper, error=total_error << unit)\n",
    "    apstat.meta['radius'] = apstat.aperture.r\n",
    "    apstats.append(apstat)\n",
    "\n",
    "for apstat in apstats:\n",
    "    print(apstat.meta['radius'])"
   ]
  },
  {
   "cell_type": "code",
   "execution_count": null,
   "metadata": {},
   "outputs": [],
   "source": [
    "for apstat in apstats:\n",
    "    print(apstat.sum)"
   ]
  },
  {
   "cell_type": "code",
   "execution_count": null,
   "metadata": {},
   "outputs": [],
   "source": [
    "for apstat in apstats:\n",
    "    print(apstat.sum_err)"
   ]
  },
  {
   "cell_type": "code",
   "execution_count": null,
   "metadata": {},
   "outputs": [],
   "source": [
    "apstats[0].to_table()  # all source properties within the first radius (r=5.0)"
   ]
  },
  {
   "cell_type": "markdown",
   "metadata": {
    "slideshow": {
     "slide_type": "slide"
    }
   },
   "source": [
    "## Bad pixel masking"
   ]
  },
  {
   "cell_type": "markdown",
   "metadata": {},
   "source": [
    "Pixels can be ignored/excluded (e.g., bad pixels) from the aperture photometry by providing a boolean (True/False) mask image via the mask keyword."
   ]
  },
  {
   "cell_type": "code",
   "execution_count": null,
   "metadata": {},
   "outputs": [],
   "source": [
    "# let's create a single bad pixel (with a large value) within the first source\n",
    "data2 = data.copy()\n",
    "y, x = 59, 91\n",
    "data2[y, x] = 100.0\n",
    "\n",
    "aperture_photometry(data2, aperture, error=total_error)"
   ]
  },
  {
   "cell_type": "markdown",
   "metadata": {},
   "source": [
    "Note the large `aperture_sum` in the first source due to the bad pixel.\n",
    "\n",
    "Now let's mask the bad pixel so that it does not contribute to the photometry."
   ]
  },
  {
   "cell_type": "code",
   "execution_count": null,
   "metadata": {
    "slideshow": {
     "slide_type": "fragment"
    }
   },
   "outputs": [],
   "source": [
    "mask = np.zeros_like(data2, dtype=bool)\n",
    "mask[y, x] = True  # True values are ignored"
   ]
  },
  {
   "cell_type": "markdown",
   "metadata": {},
   "source": [
    "### Using `aperture_photometry`"
   ]
  },
  {
   "cell_type": "code",
   "execution_count": null,
   "metadata": {
    "slideshow": {
     "slide_type": "fragment"
    }
   },
   "outputs": [],
   "source": [
    "aperture_photometry(data2, aperture, error=total_error, mask=mask)"
   ]
  },
  {
   "cell_type": "markdown",
   "metadata": {},
   "source": [
    "### Using `ApertureStats`"
   ]
  },
  {
   "cell_type": "code",
   "execution_count": null,
   "metadata": {},
   "outputs": [],
   "source": [
    "apstats = ApertureStats(data2, aperture, error=total_error, mask=mask)\n",
    "apstats.to_table()"
   ]
  },
  {
   "cell_type": "markdown",
   "metadata": {
    "slideshow": {
     "slide_type": "slide"
    }
   },
   "source": [
    "## Encircled flux"
   ]
  },
  {
   "cell_type": "markdown",
   "metadata": {},
   "source": [
    "For this example we will perform aperture photometry at a *single* position, but with *many* apertures of different radii.\n",
    "\n",
    "Instead of generating a big table with many columns (one for each radius), we'll simply loop over the apertures and extract the fluxes from individual tables.\n",
    "\n",
    "In this example, we manually compute the curve of growth using aperture photometry.  However, note that Photutils has a [Radial Profiles subpackage](https://photutils.readthedocs.io/en/latest/profiles.html) that makes it easy to compute a radial profile or a curve of growth."
   ]
  },
  {
   "cell_type": "markdown",
   "metadata": {},
   "source": [
    "### Using `aperture_photometry`"
   ]
  },
  {
   "cell_type": "code",
   "execution_count": null,
   "metadata": {},
   "outputs": [],
   "source": [
    "radii = np.linspace(0.1, 20, 100)  # 100 radii from r=0.1 to 20 pixels\n",
    "fluxes1 = []\n",
    "for radius in radii:\n",
    "    aper = CircularAperture(positions[1], r=radius)  # single position\n",
    "    phot = aperture_photometry(data, aper)\n",
    "    fluxes1.append(phot['aperture_sum'][0])\n",
    "\n",
    "plt.plot(radii, fluxes1, 'o-')\n",
    "plt.title('Encircled Flux')\n",
    "plt.xlabel('Radius (pixels)')\n",
    "plt.ylabel('Aperture Sum ($e^{-1}/s$)');"
   ]
  },
  {
   "cell_type": "markdown",
   "metadata": {},
   "source": [
    "### Using `ApertureStats`"
   ]
  },
  {
   "cell_type": "code",
   "execution_count": null,
   "metadata": {},
   "outputs": [],
   "source": [
    "radii = np.linspace(0.1, 20, 100)  # 100 radii from r=0.1 to 20 pixels\n",
    "apstats = []\n",
    "for radius in radii:\n",
    "    aper = CircularAperture(positions[1], r=radius)  # single position\n",
    "    apstats.append(ApertureStats(data, aper))\n",
    "\n",
    "fluxes2 = []\n",
    "areas = []\n",
    "for apstat in apstats:\n",
    "    fluxes2.append(apstat.sum)\n",
    "    areas.append(apstat.sum_aper_area.value)\n",
    "\n",
    "plt.plot(radii, fluxes2, 'o-')\n",
    "plt.title('Encircled Flux')\n",
    "plt.xlabel('Radius (pixels)')\n",
    "plt.ylabel('Aperture Sum ($e^{-1}/s$)');"
   ]
  },
  {
   "cell_type": "code",
   "execution_count": null,
   "metadata": {},
   "outputs": [],
   "source": [
    "plt.plot(radii, areas, 'o-')\n",
    "plt.xlabel('Radius (pixels)')\n",
    "plt.ylabel('Aperture Area ($pix^2$)');"
   ]
  },
  {
   "cell_type": "markdown",
   "metadata": {},
   "source": [
    "# ApertureMask objects"
   ]
  },
  {
   "cell_type": "markdown",
   "metadata": {},
   "source": [
    "All `PixelAperture` objects have a `to_mask` method that returns an [ApertureMask](https://photutils.readthedocs.io/en/latest/api/photutils.aperture.ApertureMask.html#photutils.aperture.ApertureMask) object (for a single aperture position) or a list of `ApertureMask` objects, one for each aperture position.\n",
    "\n",
    "The `ApertureMask` object contains a cutout of the aperture-mask weights and a [BoundingBox](https://photutils.readthedocs.io/en/latest/api/photutils.aperture.BoundingBox.html#photutils.aperture.BoundingBox) object that provides the bounding box where the mask is to be applied.  The `ApertureMask` object is useful for extracting the data values within an aperture, either as a 1D or 2D array."
   ]
  },
  {
   "cell_type": "markdown",
   "metadata": {},
   "source": [
    "Let’s start by creating a circular aperture object."
   ]
  },
  {
   "cell_type": "code",
   "execution_count": null,
   "metadata": {},
   "outputs": [],
   "source": [
    "positions = [(90.73, 59.43), (73.63, 139.41), (43.62, 61.63)]\n",
    "radius = 5.0\n",
    "apertures = CircularAperture(positions, r=radius)"
   ]
  },
  {
   "cell_type": "markdown",
   "metadata": {},
   "source": [
    "Now, let's create a list of `ApertureMask` objects using the `to_mask` method."
   ]
  },
  {
   "cell_type": "code",
   "execution_count": null,
   "metadata": {},
   "outputs": [],
   "source": [
    "masks = apertures.to_mask(method='exact')"
   ]
  },
  {
   "cell_type": "markdown",
   "metadata": {},
   "source": [
    "Let's plot the first one, which shows a cutout of the aperture mask weights within its bounding box.  The values in the mask range from 0 (no overlap) to 1 (complete overlap)."
   ]
  },
  {
   "cell_type": "code",
   "execution_count": null,
   "metadata": {},
   "outputs": [],
   "source": [
    "mask = masks[0]  # the first mask\n",
    "plt.imshow(mask)\n",
    "plt.colorbar()"
   ]
  },
  {
   "cell_type": "markdown",
   "metadata": {},
   "source": [
    "We can also create a cutout from a data image over the mask bounding box. The values here are directly from the data array without any aperture weighting applied."
   ]
  },
  {
   "cell_type": "code",
   "execution_count": null,
   "metadata": {},
   "outputs": [],
   "source": [
    "data_cutout = mask.cutout(data)\n",
    "plt.imshow(data_cutout)\n",
    "plt.colorbar()"
   ]
  },
  {
   "cell_type": "markdown",
   "metadata": {},
   "source": [
    "We can also create an aperture mask-weighted cutout from the data, properly handling the cases of partial or no overlap of the aperture mask with the data. Let’s plot the aperture mask weights multiplied with the data. Here the circular aperture mask has been applied to the data."
   ]
  },
  {
   "cell_type": "code",
   "execution_count": null,
   "metadata": {},
   "outputs": [],
   "source": [
    "data_weighted = mask.multiply(data)\n",
    "plt.imshow(data_weighted)"
   ]
  },
  {
   "cell_type": "markdown",
   "metadata": {},
   "source": [
    "If one only wants to get the aperture-mask-weighted data values as a 1D array, the `get_values` method can be used."
   ]
  },
  {
   "cell_type": "code",
   "execution_count": null,
   "metadata": {},
   "outputs": [],
   "source": [
    "mask.get_values(data)"
   ]
  },
  {
   "cell_type": "markdown",
   "metadata": {},
   "source": [
    "We can also create an image with the aperture mask at its position and also plot its bounding box."
   ]
  },
  {
   "cell_type": "code",
   "execution_count": null,
   "metadata": {},
   "outputs": [],
   "source": [
    "maskimg = mask.to_image(shape=((200, 200)))\n",
    "plt.imshow(maskimg)\n",
    "mask.bbox.plot(color='red')\n",
    "plt.colorbar()"
   ]
  },
  {
   "cell_type": "code",
   "execution_count": null,
   "metadata": {},
   "outputs": [],
   "source": [
    "plt.figure(figsize=(5, 5))\n",
    "norm = simple_norm(data, 'sqrt', percent=99.)\n",
    "plt.imshow(data, norm=norm)\n",
    "mask.bbox.plot(color='red')\n",
    "plt.title('XDF F160W Cutout');"
   ]
  },
  {
   "cell_type": "markdown",
   "metadata": {},
   "source": [
    "Finally, let's use a `CircularAnnulus` aperture to create an aperture mask-weighted cutout from the data. Here the aperture mask weights have been applied to the data."
   ]
  },
  {
   "cell_type": "code",
   "execution_count": null,
   "metadata": {},
   "outputs": [],
   "source": [
    "from photutils.aperture import CircularAnnulus\n",
    "\n",
    "positions = [(90.73, 59.43), (73.63, 139.41), (43.62, 61.63)]\n",
    "annulus_aperture = CircularAnnulus(positions, r_in=10, r_out=15)\n",
    "masks = annulus_aperture.to_mask(method='exact')\n",
    "plt.imshow(masks[0].multiply(data))"
   ]
  },
  {
   "cell_type": "code",
   "execution_count": null,
   "metadata": {},
   "outputs": [],
   "source": [
    "# 1D array of aperture-weighted data values within the annulus\n",
    "masks[0].get_values(data)"
   ]
  },
  {
   "cell_type": "code",
   "execution_count": null,
   "metadata": {},
   "outputs": [],
   "source": [
    "plt.figure(figsize=(5, 5))\n",
    "norm = simple_norm(data, 'sqrt', percent=99.)\n",
    "plt.imshow(data, norm=norm)\n",
    "masks[0].bbox.plot(color='red')\n",
    "plt.imshow(masks[0].to_image(data.shape), alpha=0.3)\n",
    "plt.title('XDF F160W Cutout');"
   ]
  },
  {
   "cell_type": "markdown",
   "metadata": {},
   "source": [
    "<div class=\"alert alert-warning alert-block\">\n",
    "<h3 style='margin-top: 0;'>Learn More</h3>\n",
    "\n",
    "The [local background subtraction notebook](03-aperture_local_bkgsub.ipynb) covers:\n",
    "\n",
    "- Aperture photometry with local background subtraction using CircularAnnulus apertures\n",
    "  - Using the mean within a circular annulus\n",
    "  - Using the sigma-clipped median within a circular annulus\n",
    "</div>"
   ]
  }
 ],
 "metadata": {
  "anaconda-cloud": {},
  "kernelspec": {
   "display_name": "Python 3 (ipykernel)",
   "language": "python",
   "name": "python3"
  },
  "language_info": {
   "codemirror_mode": {
    "name": "ipython",
    "version": 3
   },
   "file_extension": ".py",
   "mimetype": "text/x-python",
   "name": "python",
   "nbconvert_exporter": "python",
   "pygments_lexer": "ipython3",
   "version": "3.12.1"
  }
 },
 "nbformat": 4,
 "nbformat_minor": 4
}
