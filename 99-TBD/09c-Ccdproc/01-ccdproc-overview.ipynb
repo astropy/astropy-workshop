{
 "cells": [
  {
   "cell_type": "markdown",
   "metadata": {},
   "source": [
    "<img src=\"data/ccdproc_banner.svg\" width=500 alt=\"ccdproc logo\">"
   ]
  },
  {
   "cell_type": "markdown",
   "metadata": {},
   "source": [
    "# ccdproc\n",
    "\n",
    "+ Code: https://github.com/astropy/ccdproc\n",
    "+ Documentation: https://ccdproc.readthedocs.io/\n",
    "+ Detailed image reduction guide using ccdproc: https://github.com/astropy/ccd-reduction-and-photometry-guide\n",
    "+ Report bugs/issues here: https://github.com/astropy/ccdproc/issues\n",
    "    - Most of the bugs reported at or after the January AAS workshop are fixed in ccdproc 2.2 😃"
   ]
  },
  {
   "cell_type": "markdown",
   "metadata": {},
   "source": [
    "## ccdproc can\n",
    "\n",
    "+ Perform essential image reduction operations\n",
    "+ Combine images\n",
    "+ Tools for working on sets of images"
   ]
  },
  {
   "cell_type": "markdown",
   "metadata": {},
   "source": [
    "## In this section we will\n",
    "\n",
    "+ learn how ccdproc represents images in Python\n",
    "+ learn how to reduce images\n",
    "\n",
    "<hr>"
   ]
  },
  {
   "cell_type": "markdown",
   "metadata": {},
   "source": [
    "## Preliminaries"
   ]
  },
  {
   "cell_type": "code",
   "execution_count": null,
   "metadata": {},
   "outputs": [],
   "source": [
    "# If you work with files regularly then you should use \n",
    "# pathlib, which is part of the Python standard library\n",
    "from pathlib import Path\n",
    "\n",
    "# Initial imports -- note the import of CCDData from astropy \n",
    "from astropy.nddata import CCDData\n",
    "from astropy import units as u\n",
    "import ccdproc as ccdp\n",
    "\n",
    "from matplotlib import pyplot as plt\n",
    "\n",
    "# This displays static plots in the notebook...it will always work\n",
    "%matplotlib inline\n",
    "\n",
    "# Use this instead for interactive plots, but note that you may need \n",
    "# to install ipympl for it to work\n",
    "# %matplotlib widget\n",
    "\n",
    "# This function displays  images reasonably nicely with minimal effort\n",
    "from convenience_functions import show_image"
   ]
  },
  {
   "cell_type": "markdown",
   "metadata": {},
   "source": [
    "### ⚠️ If you get an error...\n",
    "\n",
    "..the problem is likely that `ccdproc` is not installed. Install it with: `pip install ccdproc`"
   ]
  },
  {
   "cell_type": "markdown",
   "metadata": {},
   "source": [
    "### Load an image\n",
    "\n",
    "Although images are almost always stored as FITS files, you should use `CCDData.read()` instead of [`astropy.io.fits`](https://docs.astropy.org/en/stable/io/fits/index.html) to open single images to use in `ccdproc`. Ways to work with collections of images (like a directory of images) will be discussed later."
   ]
  },
  {
   "cell_type": "code",
   "execution_count": null,
   "metadata": {},
   "outputs": [],
   "source": [
    "raw_stars = CCDData.read('data/kelt-16-b-S001-R001-C084-r.fit.gz')"
   ]
  },
  {
   "cell_type": "markdown",
   "metadata": {},
   "source": [
    "An image loaded this way has a few convient attributes:\n"
   ]
  },
  {
   "cell_type": "code",
   "execution_count": null,
   "metadata": {},
   "outputs": [],
   "source": [
    "# Display the data \n",
    "print(raw_stars.data)"
   ]
  },
  {
   "cell_type": "code",
   "execution_count": null,
   "metadata": {},
   "outputs": [],
   "source": [
    "# Display the header\n",
    "print(raw_stars.header)"
   ]
  },
  {
   "cell_type": "markdown",
   "metadata": {},
   "source": [
    "The header is a regular `astropy.io.fits` header object, so you can access keywords like it is a Python dictionary. For example, to get the exposure time by itself, run the cell below:"
   ]
  },
  {
   "cell_type": "code",
   "execution_count": null,
   "metadata": {},
   "outputs": [],
   "source": [
    "raw_stars.header['exposure']"
   ]
  },
  {
   "cell_type": "markdown",
   "metadata": {},
   "source": [
    "#### Displaying images\n",
    "\n",
    "Images from a telescope are typically very different, in terms of the histogram of values, than other images. The function `show_image`, included along with this notebook, scales and stretches the data to bring out some of the detail that is not visible using matplotlib defaults."
   ]
  },
  {
   "cell_type": "code",
   "execution_count": null,
   "metadata": {},
   "outputs": [],
   "source": [
    "show_image(raw_stars)"
   ]
  },
  {
   "cell_type": "markdown",
   "metadata": {},
   "source": [
    "### ⚠️ watch out for this\n",
    "\n",
    "When you create a `CCDData` object you need to provide a unit. The images we are using today have a unit defined in the FITS header (in the `BUNIT` keyword). You can specify a unit, if necessary, as described here: https://ccdproc.readthedocs.io/en/latest/ccddata.html#getting-data-in"
   ]
  },
  {
   "cell_type": "markdown",
   "metadata": {},
   "source": [
    "## Image reduction\n",
    "\n",
    "\n",
    "### For a more detailed discussion see the [CCD reduction guide](https://mwcraig.github.io/ccd-as-book/01-00-Understanding-an-astronomical-CCD-image.html)\n",
    "\n",
    "You can think of an astronomical image as being build from a few sources:\n",
    "\n",
    "$$\n",
    "\\text{raw image} = \\text{bias} + \\text{noise} + \\text{dark current} + \\text{flat} \\times (\\text{sky} + \\text{stars}).\n",
    "$$\n",
    "\n",
    "Solving for the counts just from the stars gives the following:\n",
    "\n",
    "$$\n",
    "\\text{stars} + \\text{noise} = \\frac{\\text{raw image} - \\text{bias} - \\text{dark current}}{\\text{flat}} - \\text{sky}\n",
    "$$\n",
    "\n",
    "**It is *impossible* to remove the noise from the raw image because the noise is\n",
    "random.**\n",
    "\n",
    "`ccdproc` provides functions for each of the operations on the right: bias subtraction, dark subtraction and flat correction. The output of one step becomes the input of the next step.\n"
   ]
  },
  {
   "cell_type": "markdown",
   "metadata": {},
   "source": [
    "### About the calibration images\n",
    "\n",
    "Each of the calibration images below was generate by combining 10 or 20 individual images. We will discuss image combination in the next notebook of this tutorial."
   ]
  },
  {
   "cell_type": "markdown",
   "metadata": {},
   "source": [
    "### Bias subtraction\n",
    "\n",
    "In this and each of the next steps we will read in the calibration file and use the appropriate function from `ccdproc` to apply it to the data. \n",
    "\n",
    "Bias calibration is done by the function `ccdproc.subtract_bias`."
   ]
  },
  {
   "cell_type": "code",
   "execution_count": null,
   "metadata": {},
   "outputs": [],
   "source": [
    "# Read the data\n",
    "\n",
    "bias = CCDData.read('data/combined_bias.fit.gz')"
   ]
  },
  {
   "cell_type": "code",
   "execution_count": null,
   "metadata": {},
   "outputs": [],
   "source": [
    "stars_minus_bias = ccdp.subtract_bias(raw_stars, bias)"
   ]
  },
  {
   "cell_type": "markdown",
   "metadata": {},
   "source": [
    "Let's check how the bias subtraction affected the image. In particular, we are looking to see whether the vertical bright line in the initial image has been removed."
   ]
  },
  {
   "cell_type": "code",
   "execution_count": null,
   "metadata": {},
   "outputs": [],
   "source": [
    "show_image(stars_minus_bias)"
   ]
  },
  {
   "cell_type": "markdown",
   "metadata": {},
   "source": [
    "### Dark subtraction\n",
    "\n",
    "The amount of dark current in an image depends on the exposure time of the image. The combined dark needs to be properly scaled if its exposure time doesn't match the exposure time of the science image. The function `ccdproc.subtract_dark` can handle that scaling for you as long as indicate which FITS keyword contains the exposure time and what the exposure time units are, or explicitly provide both the exposure time of the dark frame and the exposure time of the bias-subtracted science image."
   ]
  },
  {
   "cell_type": "code",
   "execution_count": null,
   "metadata": {},
   "outputs": [],
   "source": [
    "# Read the dark frame\n",
    "\n",
    "dark = CCDData.read('data/combined_dark_90.000.fit.gz')"
   ]
  },
  {
   "cell_type": "markdown",
   "metadata": {},
   "source": [
    "Note that the first argument to `ccdproc.subtract_dark` is the bias-subtracted image."
   ]
  },
  {
   "cell_type": "code",
   "execution_count": null,
   "metadata": {},
   "outputs": [],
   "source": [
    "stars_minus_bias_minus_dark = ccdp.subtract_dark(stars_minus_bias, dark,\n",
    "                                                 exposure_time='exposure',\n",
    "                                                 exposure_unit=u.second)"
   ]
  },
  {
   "cell_type": "markdown",
   "metadata": {},
   "source": [
    "Dark calibration should have removed the \"hot\" pixels in the initial image. Let's check that it did."
   ]
  },
  {
   "cell_type": "code",
   "execution_count": null,
   "metadata": {},
   "outputs": [],
   "source": [
    "show_image(stars_minus_bias_minus_dark)"
   ]
  },
  {
   "cell_type": "markdown",
   "metadata": {},
   "source": [
    "### Flat correction\n",
    "\n",
    "The final step in the calibration is to apply flat corrections using `ccdproc.flat_correct`. "
   ]
  },
  {
   "cell_type": "code",
   "execution_count": null,
   "metadata": {},
   "outputs": [],
   "source": [
    "flat = CCDData.read('data/combined_flat_filter_r.fit.gz')"
   ]
  },
  {
   "cell_type": "markdown",
   "metadata": {},
   "source": [
    "As with the other reduction steps, the first argument is the output of the previous reduction step and the second is the calibration image to be applied."
   ]
  },
  {
   "cell_type": "code",
   "execution_count": null,
   "metadata": {},
   "outputs": [],
   "source": [
    "stars_calibrated = ccdp.flat_correct(stars_minus_bias_minus_dark, flat)"
   ]
  },
  {
   "cell_type": "markdown",
   "metadata": {},
   "source": [
    "This calibrated image will not look that much different than the one with bias and dark subtraction, particular because this is a small section of a much larger (4k × 4k) image so there is not much variation in sensitivity across this sub-image."
   ]
  },
  {
   "cell_type": "code",
   "execution_count": null,
   "metadata": {},
   "outputs": [],
   "source": [
    "show_image(stars_calibrated)"
   ]
  },
  {
   "cell_type": "markdown",
   "metadata": {},
   "source": [
    "## Why not just subtract and/or divide arrays?\n",
    "\n",
    "### ccdproc handles uncertainty propagation -- and more!\n",
    "\n",
    "Both the bias and dark calibration images used in this tutorial have uncertainty arrays stored with them. By using `ccdproc` instead of, for example, simply subtracting the bias values from the raw science image values, those uncertainties are properly propagated. That continues with each of the subsequent steps.\n",
    "\n",
    "Another advantage of using `ccdproc` is that things like scaling of the dark calibration exposure time to that of the science image (and proper scaling of any uncertainty in the dark frame) are also taken care of.\n",
    "\n",
    "Finally, there is a built in mechanism for automatically updating headers as you procede."
   ]
  },
  {
   "cell_type": "markdown",
   "metadata": {},
   "source": [
    "## A more compact approach\n",
    "\n",
    "The function `ccd_process`, described [briefly here](https://ccdproc.readthedocs.io/en/latest/reduction_toolbox.html#basic-processing-with-a-single-command) and in [much more detail here](https://ccdproc.readthedocs.io/en/latest/api/ccdproc.ccd_process.html#ccdproc.ccd_process), performs all of the reductions steps on a single image with one call."
   ]
  },
  {
   "cell_type": "markdown",
   "metadata": {},
   "source": [
    "### Exercise\n",
    "\n",
    "Read the descriptions of `ccd_process` and try to use it to calibrate the image `raw_stars` that you loaded earlier in this notebook.\n",
    "\n",
    "Note that for the images in this tutorial you do not need provide values for `trim` or `oscan` .\n",
    "\n",
    "If you prefer to load the solution, uncomment the line below and run the cell.\n",
    "\n",
    "*We will use this solution below.*"
   ]
  },
  {
   "cell_type": "code",
   "execution_count": null,
   "metadata": {},
   "outputs": [],
   "source": [
    "# %load ccd_process_solution.py"
   ]
  },
  {
   "cell_type": "markdown",
   "metadata": {},
   "source": [
    "## Processing a directory of images\n",
    "\n",
    "Though there a number of ways using plain Python that can be used to process a directory with several images, `ccdproc` provides the `ImageFileCollection` to make it easier to work with those files."
   ]
  },
  {
   "cell_type": "markdown",
   "metadata": {},
   "source": [
    "### Create a temporary directory of images for this tutorial\n",
    "\n",
    "To keep the download size for the tutorial reasonable, only one science image was included in the data. The cell below creates a directory with a few copies of the science image for use in the next step."
   ]
  },
  {
   "cell_type": "code",
   "execution_count": null,
   "metadata": {},
   "outputs": [],
   "source": [
    "# You need to run this but you do not need to understand it in any \n",
    "# detail for the rest of the tutorial.\n",
    "\n",
    "sample_images = Path('data-copy')\n",
    "sample_images.mkdir(exist_ok=True)\n",
    "\n",
    "n_copies = 5\n",
    "\n",
    "for i in range(5):\n",
    "    this_image_name = 'kelt-16-copy-{}.fit'.format(i)\n",
    "    raw_stars.write(str(sample_images / this_image_name))"
   ]
  },
  {
   "cell_type": "markdown",
   "metadata": {},
   "source": [
    "### `ImageFileCollection`\n",
    "\n",
    "The main thing that an [`ImageFileCollection`](https://ccdproc.readthedocs.io/en/latest/image_management.html) provides is a way to iterate over the FITS files in a directory. You can filter by FITS keyword values and iterate over just the headers, just the data, or the entire `CCDData` object.\n",
    "\n",
    "First, let's create the collection."
   ]
  },
  {
   "cell_type": "code",
   "execution_count": null,
   "metadata": {},
   "outputs": [],
   "source": [
    "# The directory data-copy was created in the previous code cell\n",
    "\n",
    "ifc = ccdp.ImageFileCollection('data-copy')"
   ]
  },
  {
   "cell_type": "markdown",
   "metadata": {},
   "source": [
    "Now let's reduce all of the images in that directory. \n",
    "\n",
    "The code below does a few things:\n",
    "\n",
    "1. Create a folder, `data-reduced`, for the reduced images.\n",
    "1. Iterate over each of the images in the folder `data-copy`. \n",
    "1. Use `ccd_process` to calibrate each image.\n",
    "2. Save the reduced images to the folder."
   ]
  },
  {
   "cell_type": "code",
   "execution_count": null,
   "metadata": {},
   "outputs": [],
   "source": [
    "reduced_path = Path('data-reduced')\n",
    "reduced_path.mkdir()\n",
    "\n",
    "for ccd, name in ifc.ccds(imagetyp='light', # Only include images of type light\n",
    "                          filter='r', # and with filter r\n",
    "                          return_fname=True  # Also provide the name of the file\n",
    "                   ):\n",
    "    \n",
    "    ccd_reduced = ccdp.ccd_process(ccd,\n",
    "                                   master_bias=bias,\n",
    "                                   dark_frame=dark,\n",
    "                                   exposure_key='exposure', exposure_unit=u.second,\n",
    "                                   dark_scale=True,\n",
    "                                   master_flat=flat)\n",
    "    ccd_reduced.write(reduced_path / name)"
   ]
  },
  {
   "cell_type": "markdown",
   "metadata": {},
   "source": [
    "### More about `ImageFileCollection`\n",
    "\n",
    "An [`ImageFileCollection`](https://ccdproc.readthedocs.io/en/latest/image_management.html) also provides straightforward access to a table with the FITS keywords from the image headers. Access the table via the `summary` attribute. In the cell below we disply the file name, exposure time, image type, object and filter for each image."
   ]
  },
  {
   "cell_type": "code",
   "execution_count": null,
   "metadata": {},
   "outputs": [],
   "source": [
    "ifc.summary['file', 'imagetyp', 'exposure', 'object', 'filter']"
   ]
  },
  {
   "cell_type": "markdown",
   "metadata": {},
   "source": [
    "*Note:* If you display the full table then the `comment` and `history` entries are often huge.\n",
    "\n",
    "Astropy tables provide [powerful ways of grouping entries and iterating over those groups](https://docs.astropy.org/en/stable/table/operations.html). That can be very helpful for processing images grouped by object or by filter.\n",
    "\n",
    "By default Astropy tables only print the first ten and last ten rows to keep the size of the table reasonable. If you want to display the whole table, use the [Astropy table pretty print method](https://docs.astropy.org/en/stable/table/access_table.html#pprint-method), either `ifc.summary.pprint(max_lines=-1)` or `ifc.summary.pprint_all()`."
   ]
  }
 ],
 "metadata": {
  "kernelspec": {
   "display_name": "Python 3",
   "language": "python",
   "name": "python3"
  },
  "language_info": {
   "codemirror_mode": {
    "name": "ipython",
    "version": 3
   },
   "file_extension": ".py",
   "mimetype": "text/x-python",
   "name": "python",
   "nbconvert_exporter": "python",
   "pygments_lexer": "ipython3",
   "version": "3.8.5"
  }
 },
 "nbformat": 4,
 "nbformat_minor": 4
}
