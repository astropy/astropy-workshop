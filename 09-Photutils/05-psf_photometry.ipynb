{
 "cells": [
  {
   "cell_type": "markdown",
   "id": "6baa6b65-608e-4a6c-a66a-3a78e135366f",
   "metadata": {
    "execution": {
     "iopub.execute_input": "2024-01-03T00:46:52.559096Z",
     "iopub.status.busy": "2024-01-03T00:46:52.558766Z",
     "iopub.status.idle": "2024-01-03T00:46:52.566656Z",
     "shell.execute_reply": "2024-01-03T00:46:52.565099Z",
     "shell.execute_reply.started": "2024-01-03T00:46:52.559070Z"
    }
   },
   "source": [
    "<img src=\"data/photutils_banner.svg\" width=500 alt=\"Photutils logo\" style=\"margin-left: 0;\">"
   ]
  },
  {
   "cell_type": "markdown",
   "id": "4c32be2f-5cd0-4369-88b6-42811b800df9",
   "metadata": {
    "execution": {
     "iopub.status.busy": "2024-01-03T00:45:16.815846Z",
     "iopub.status.idle": "2024-01-03T00:45:16.816350Z",
     "shell.execute_reply": "2024-01-03T00:45:16.816199Z",
     "shell.execute_reply.started": "2024-01-03T00:45:16.816185Z"
    }
   },
   "source": [
    "<div class=\"alert alert-block alert-info\">\n",
    "<h2 style=\"margin-top: 0\">In this notebook, we will cover:</h2>\n",
    "\n",
    "- The basics of PSF photometry using a simulated 2D Gaussian PSF\n",
    "</div>"
   ]
  },
  {
   "cell_type": "markdown",
   "id": "a61a3483-4379-4a32-8555-b4f920915e2f",
   "metadata": {},
   "source": [
    "# Preliminaries"
   ]
  },
  {
   "cell_type": "code",
   "execution_count": null,
   "id": "1e2f060c-f612-4fc4-a8bf-af32abac6779",
   "metadata": {},
   "outputs": [],
   "source": [
    "# Initial imports\n",
    "import numpy as np\n",
    "import matplotlib.pyplot as plt\n",
    "\n",
    "import astropy.units as u\n",
    "from astropy.table import QTable\n",
    "from astropy.visualization import simple_norm\n",
    "from photutils.datasets import make_noise_image\n",
    "from photutils.detection import DAOStarFinder\n",
    "from photutils.psf import (CircularGaussianPRF, PSFPhotometry, IterativePSFPhotometry,\n",
    "                           make_psf_model_image)\n",
    "\n",
    "# Change some default plotting parameters\n",
    "import matplotlib as mpl\n",
    "mpl.rcParams['image.origin'] = 'lower'\n",
    "mpl.rcParams['image.interpolation'] = 'nearest'\n",
    "\n",
    "# Run the %matplotlib magic command to enable inline plotting\n",
    "# in the current notebook.\n",
    "%matplotlib inline"
   ]
  },
  {
   "cell_type": "markdown",
   "id": "20a4eef0-612a-4324-b9bb-037899817aee",
   "metadata": {},
   "source": [
    "# Point Spread Function Photometry with Photutils\n",
    "\n",
    "The Photutils PSF photometry module provides modular tools that allow users to completely customize the photometry procedure, e.g., by using different source detection algorithms, local background estimators, source groupers, and PSF models. Photutils provides implementations for each subtask involved in the photometry process, however, users are still able to include their own custom implementations.\n",
    "\n",
    "This modularity is accomplished by using an object oriented programming approach that provides a more convenient user experience.\n",
    "\n",
    "Photutils provides two basic classes to perform PSF photometry, `PSFPhotometry` and `IterativelyPSFPhotometry`. In this notebook, we will cover the basics of the `PSFPhotometry` class."
   ]
  },
  {
   "cell_type": "markdown",
   "id": "8c5fdd1a-6758-4b07-bb39-ef5338e960ad",
   "metadata": {
    "execution": {
     "iopub.execute_input": "2024-01-03T00:50:38.503259Z",
     "iopub.status.busy": "2024-01-03T00:50:38.502878Z",
     "iopub.status.idle": "2024-01-03T00:50:38.508096Z",
     "shell.execute_reply": "2024-01-03T00:50:38.506859Z",
     "shell.execute_reply.started": "2024-01-03T00:50:38.503228Z"
    }
   },
   "source": [
    "First, let's create a PSF model for our sources."
   ]
  },
  {
   "cell_type": "code",
   "execution_count": null,
   "id": "87c992f7-ffcf-4f9b-8dae-f65aa12431f5",
   "metadata": {},
   "outputs": [],
   "source": [
    "psf_model = CircularGaussianPRF(flux=100, fwhm=2.7)"
   ]
  },
  {
   "cell_type": "markdown",
   "id": "f155225d-cbdc-428e-90ec-3f4e3b4d6747",
   "metadata": {},
   "source": [
    "## Create a simulated image\n",
    "\n",
    "### with 250 stars in a 1000 x 1000 image"
   ]
  },
  {
   "cell_type": "code",
   "execution_count": null,
   "id": "3e617b92-1d55-41e1-a0bf-3fd07632c0f3",
   "metadata": {},
   "outputs": [],
   "source": [
    "psf_shape = (9, 9)\n",
    "nsources = 250\n",
    "shape = (1000, 1000)\n",
    "data, true_params = make_psf_model_image(shape, psf_model, nsources,                    \n",
    "                                         flux=(500, 1000), min_separation=25,\n",
    "                                         seed=0, progress_bar=True)"
   ]
  },
  {
   "cell_type": "markdown",
   "id": "486b9ea3-97b2-4765-bf3d-d0383aabbfa6",
   "metadata": {},
   "source": [
    "Now let's add some noise to the image."
   ]
  },
  {
   "cell_type": "code",
   "execution_count": null,
   "id": "9862d8f0-babd-4089-81a6-d98b2b885480",
   "metadata": {},
   "outputs": [],
   "source": [
    "noise = make_noise_image(data.shape, mean=0, stddev=0.1)\n",
    "data += noise\n",
    "error = np.abs(noise)\n",
    "plt.figure(figsize=(5, 5))\n",
    "norm = simple_norm(data, 'sqrt', vmin=-0.1, vmax=2.0)\n",
    "plt.imshow(data, norm=norm);"
   ]
  },
  {
   "cell_type": "markdown",
   "id": "9041cdb5-14f9-4fa9-a889-15ec3fe532a4",
   "metadata": {},
   "source": [
    "The `true_params` output contains an Astropy table containing the true (x, y, flux) of our artificial sources."
   ]
  },
  {
   "cell_type": "code",
   "execution_count": null,
   "id": "68d1a504-f455-4ed7-9da1-ac1193af8bc7",
   "metadata": {},
   "outputs": [],
   "source": [
    "true_params"
   ]
  },
  {
   "cell_type": "markdown",
   "id": "d97a18a8-a62a-4e9a-9996-8efda917d164",
   "metadata": {
    "execution": {
     "iopub.execute_input": "2024-01-03T01:09:16.731455Z",
     "iopub.status.busy": "2024-01-03T01:09:16.731079Z",
     "iopub.status.idle": "2024-01-03T01:09:16.734991Z",
     "shell.execute_reply": "2024-01-03T01:09:16.734203Z",
     "shell.execute_reply.started": "2024-01-03T01:09:16.731424Z"
    }
   },
   "source": [
    "# The `PSFPhotometry` class"
   ]
  },
  {
   "cell_type": "markdown",
   "id": "921c64ea-8bb8-4323-8658-2ad90533ec2e",
   "metadata": {},
   "source": [
    "First, we create the `PSFPhotometry` class instance with a few parameters.\n",
    "\n",
    "We must input a PSF model, which must be an Astropy `Fittable2DModel`.  Photutils provides several PSF models, including a [`GriddedPSFModel`](https://photutils.readthedocs.io/en/latest/api/photutils.psf.GriddedPSFModel.html#photutils.psf.GriddedPSFModel) for spatially-varying PSFs.\n",
    "\n",
    "We must also input the `fit_shape` parameter, which defines the region around the center of the PSF that is used for fitting the model.\n",
    "\n",
    "The `finder` keyword takes a Photutils finder object.  Here, we use the `DAOStarFinder`.  We also input an `aperture_radius` (in pixel) to estimate the initial source fluxes."
   ]
  },
  {
   "cell_type": "code",
   "execution_count": null,
   "id": "b911d80e-2880-49da-8edb-785f32ce1a4b",
   "metadata": {},
   "outputs": [],
   "source": [
    "fit_shape = (5, 5)\n",
    "fit_shape = 5\n",
    "finder= DAOStarFinder(6.0, 2.0)\n",
    "psfphot = PSFPhotometry(psf_model, fit_shape, finder=finder, aperture_radius=5, progress_bar=True)"
   ]
  },
  {
   "cell_type": "markdown",
   "id": "ef9450c7-f87c-4f57-a722-9da65c9f59da",
   "metadata": {},
   "source": [
    "To perform the PSF fitting, we call the `psfphot` object on the data and optional error array.  The result is an Astropy Table. Here, we print only the first 10 rows."
   ]
  },
  {
   "cell_type": "code",
   "execution_count": null,
   "id": "85a9b348-fd53-4815-acd2-a9a1423c8a9c",
   "metadata": {},
   "outputs": [],
   "source": [
    "phot = psfphot(data, error=error)\n",
    "phot[:10]"
   ]
  },
  {
   "cell_type": "markdown",
   "id": "40b1d9c0-4f20-4650-82e7-4fadcf8f3779",
   "metadata": {},
   "source": [
    "We can use the `make_model_image` method to create a PSF model image of the results."
   ]
  },
  {
   "cell_type": "code",
   "execution_count": null,
   "id": "06a4cb98-7855-4f67-80ec-d50962c982bf",
   "metadata": {},
   "outputs": [],
   "source": [
    "model_img = psfphot.make_model_image(data.shape)\n",
    "plt.imshow(model_img, norm=norm);\n",
    "plt.colorbar()"
   ]
  },
  {
   "cell_type": "markdown",
   "id": "cdaaad23-90a5-49ce-bf6e-36b7a861a04c",
   "metadata": {},
   "source": [
    "We can use the `make_residual_image` method to create a residual image."
   ]
  },
  {
   "cell_type": "code",
   "execution_count": null,
   "id": "4dd62bfb-9f90-461f-a083-24146d09a293",
   "metadata": {},
   "outputs": [],
   "source": [
    "resid = psfphot.make_residual_image(data)\n",
    "plt.imshow(resid, norm=norm);\n",
    "plt.colorbar()"
   ]
  },
  {
   "cell_type": "markdown",
   "id": "4624f94b-2eac-40ac-851a-4593d61bfebe",
   "metadata": {},
   "source": [
    "Our residual image is just noise without any sources, which indicates excellent PSF model fits."
   ]
  },
  {
   "cell_type": "markdown",
   "id": "fb13fc5a-83f8-40ea-b4a4-17e52b885794",
   "metadata": {},
   "source": [
    "## Inputing the initial parameters"
   ]
  },
  {
   "cell_type": "markdown",
   "id": "73e6efa9-bd23-4f04-812f-fc1aa79b7d55",
   "metadata": {},
   "source": [
    "Instead of using a star finder, we can pass in a Table of the initial (x, y) positions. To get good results, the initial positions\n",
    "should be very close to the actual positions. You can use a star finder or centroid algorithm to get good initial positions.\n",
    "This initial parameters table can also include the initial fluxes.\n",
    "\n",
    "Let's use the `init_param` table, but shift the (x, y, flux) values by a small amount from their true values (see the `true_params` table defined above)."
   ]
  },
  {
   "cell_type": "code",
   "execution_count": null,
   "id": "f803ee34-20b8-4cc4-a7d6-dd3e47af8ee4",
   "metadata": {},
   "outputs": [],
   "source": [
    "rng = np.random.default_rng(seed=123)\n",
    "init_params = true_params.copy()\n",
    "n_sources = len(true_params)\n",
    "init_params['x_0'] = init_params['x_0'] + rng.uniform(-0.5, 0.5, n_sources)\n",
    "init_params['y_0'] = init_params['y_0'] + rng.uniform(-0.5, 0.5, n_sources)\n",
    "init_params['flux'] = init_params['flux'] + rng.uniform(-10, 10, n_sources)\n",
    "init_params[:10]"
   ]
  },
  {
   "cell_type": "markdown",
   "id": "9b864056-5d40-4555-a5dd-258aad89a26e",
   "metadata": {},
   "source": [
    "Since we are inputing the initial (x, y) values, we no longer need to input the `finder`.  Likewise, since we are inputing the initial flux values, we no longer need to input the `aperture_radius`."
   ]
  },
  {
   "cell_type": "code",
   "execution_count": null,
   "id": "caa7f7f3-6504-4d81-9156-5c874e218b0f",
   "metadata": {},
   "outputs": [],
   "source": [
    "psfphot2 = PSFPhotometry(psf_model, fit_shape, fitter_maxiters=100, progress_bar=True)\n",
    "phot2 = psfphot2(data, error=error, init_params=init_params)\n",
    "phot2[:10]"
   ]
  },
  {
   "cell_type": "code",
   "execution_count": null,
   "id": "a11dec44-30a6-4e88-bccf-cfa732a47554",
   "metadata": {},
   "outputs": [],
   "source": [
    "resid2 = psfphot2.make_residual_image(data)\n",
    "plt.imshow(resid2, norm=norm);\n",
    "plt.colorbar()"
   ]
  },
  {
   "cell_type": "markdown",
   "id": "b2d1a902-4271-4d20-bfed-4e50ef6eb592",
   "metadata": {},
   "source": [
    "Since the sources are ordered, we can directly compare the fit values with the true values."
   ]
  },
  {
   "cell_type": "code",
   "execution_count": null,
   "id": "a19f0a89-43d8-49c9-89d6-88a3168fac37",
   "metadata": {},
   "outputs": [],
   "source": [
    "plt.figure(figsize=(5, 5))\n",
    "plt.plot(true_params['x_0'], phot2['x_fit'], '.')\n",
    "plt.xlabel('x True')\n",
    "plt.ylabel('x Fit');"
   ]
  },
  {
   "cell_type": "code",
   "execution_count": null,
   "id": "4f620b5b-b6d0-4f13-a569-9872fc55c12c",
   "metadata": {},
   "outputs": [],
   "source": [
    "plt.figure(figsize=(5, 5))\n",
    "plt.plot(true_params['y_0'], phot2['y_fit'], '.')\n",
    "plt.xlabel('y True')\n",
    "plt.ylabel('y Fit');"
   ]
  },
  {
   "cell_type": "code",
   "execution_count": null,
   "id": "2de6f227-b708-4c40-bfb6-9699aea64472",
   "metadata": {},
   "outputs": [],
   "source": [
    "plt.figure(figsize=(5, 5))\n",
    "plt.plot(true_params['flux'], phot2['flux_fit'], '.')\n",
    "plt.xlabel('Flux True')\n",
    "plt.ylabel('Flux Fit');"
   ]
  },
  {
   "cell_type": "code",
   "execution_count": null,
   "id": "0fe21771-0b38-4bc3-a6d3-2e6efead6af3",
   "metadata": {},
   "outputs": [],
   "source": [
    "pdiff = (true_params['flux'] - phot2['flux_fit']) / true_params['flux'] * 100.0\n",
    "np.max(np.abs(pdiff))"
   ]
  },
  {
   "cell_type": "code",
   "execution_count": null,
   "id": "1d82b59a-08dc-4583-8f7e-86d5931b5761",
   "metadata": {},
   "outputs": [],
   "source": [
    "plt.hist(pdiff, bins=50)\n",
    "plt.xlabel('True/Fit Flux Percent Difference');"
   ]
  },
  {
   "cell_type": "markdown",
   "id": "245f9dbb-95ea-4421-a331-e08b81bb05ca",
   "metadata": {},
   "source": [
    "Please consult the [PSF Photometry documentation](https://photutils.readthedocs.io/en/1.10.0/psf.html) for additional features including:\n",
    "\n",
    "- Fitting a single (or few) sources in an image\n",
    "- Forced Photometry\n",
    "- Source Grouping\n",
    "- Local Background Subtraction\n",
    "- Iterative PSF Photometry"
   ]
  }
 ],
 "metadata": {
  "kernelspec": {
   "display_name": "Python 3 (ipykernel)",
   "language": "python",
   "name": "python3"
  },
  "language_info": {
   "codemirror_mode": {
    "name": "ipython",
    "version": 3
   },
   "file_extension": ".py",
   "mimetype": "text/x-python",
   "name": "python",
   "nbconvert_exporter": "python",
   "pygments_lexer": "ipython3",
   "version": "3.12.7"
  }
 },
 "nbformat": 4,
 "nbformat_minor": 5
}
