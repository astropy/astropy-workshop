{
 "cells": [
  {
   "cell_type": "markdown",
   "id": "23d9104f-202f-45ad-a43d-ce37648375a0",
   "metadata": {},
   "source": [
    "# Visualization\n",
    "\n",
    "Outline\n",
    "\n",
    "+ `matplotlib` plotting with lines, markers\n",
    "+ `astropy.visualization` tools for scaling and stretching images\n",
    "+ `astrowidgets` for interactive image display\n",
    "+ `jdaviz` for interactive spectrum display (maybe)"
   ]
  },
  {
   "cell_type": "code",
   "execution_count": null,
   "id": "0b5308fd-7a84-4a71-a4fd-d54b9cfde9a4",
   "metadata": {},
   "outputs": [],
   "source": [
    "import numpy as np"
   ]
  },
  {
   "cell_type": "markdown",
   "id": "96ce4742-d883-4ee3-a330-0de7d8dc515b",
   "metadata": {},
   "source": [
    "# Matplotlib for astro\n",
    "\n",
    "We will assume going into this that you have at least a bit of familiarity with [matplotlib](https://matplotlib.org/). But in case that's wrong, you will gain a lot by looking through it's docs, and in particular, the [example gallery](https://matplotlib.org/stable/gallery/index.html).\n",
    "\n",
    "But instead of basics of matplotlib we will focus on ways in which matplotlib and Astropy play well together. Most of the functionality disccussed here is more completely covered in the  [astropy.visualization docs](https://docs.astropy.org/en/stable/visualization/index.html) - this is just a taste.\n",
    "\n",
    "\n",
    "Lets start with the basics of plotting support for a fairly fundamental thing: `Quantity` objects."
   ]
  },
  {
   "cell_type": "code",
   "execution_count": null,
   "id": "88eb6523-3326-4dd7-bd53-e3e23e2a6afc",
   "metadata": {},
   "outputs": [],
   "source": [
    "from astropy import units as u\n",
    "from astropy import time, coordinates, visualization\n",
    "from astropy.io import fits\n",
    "\n",
    "from matplotlib import pyplot as plt"
   ]
  },
  {
   "cell_type": "markdown",
   "id": "a4f2bd02-1c36-4cec-9249-6aa78e93d0eb",
   "metadata": {},
   "source": [
    "Consider the problem of plotting some sort of fundamentally physical quantity.  For the sake of example, maybe you want to compare the pixel scale of various imagers relative to the primary mirror of their telesope. We can just pull numbers from some random places but if we just write down the numbers without reading carefully:"
   ]
  },
  {
   "cell_type": "code",
   "execution_count": null,
   "id": "32fc2a0c-330c-4240-a04b-49279890a2b7",
   "metadata": {},
   "outputs": [],
   "source": [
    "pixel_scale = [\n",
    "   30., #HST ACS as listed in  https://arxiv.org/abs/astro-ph/0703095\n",
    "   0.031, # JWST NIRCam short from https://jwst-docs.stsci.edu/jwst-near-infrared-camera/nircam-observing-modes/nircam-imaging\n",
    "   0.17, # Subaru HSC from https://subarutelescope.org//Observing/Instruments/HSC/parameters.html\n",
    "]\n",
    "\n",
    "mirror_diameter = [\n",
    "    2.4, #HST\n",
    "    6.5, #JWST\n",
    "    8.2, #Subaru\n",
    "]\n",
    "\n",
    "plt.scatter(mirror_diameter, pixel_scale)\n",
    "plt.xlabel('mirror diameter')\n",
    "plt.ylabel('pixel scale'); \n",
    "# note the semicolon - that just cleans up printing in the notebook to not show a meaningless object in the notebook\n",
    "# not strictly necessary if you like Python due to the lack of semicolons ;)"
   ]
  },
  {
   "cell_type": "markdown",
   "id": "b0be224f-7d84-4540-b840-c30590ea7885",
   "metadata": {},
   "source": [
    "But this is utter nonsense, because the ACS pixel scale was quoted in *milli*arcseconds per pixel while the others are arcsec per pixel... This is the sort of confusion quantities can help with:"
   ]
  },
  {
   "cell_type": "code",
   "execution_count": null,
   "id": "250dae82-8cb7-4d41-85df-61288f9de573",
   "metadata": {
    "scrolled": true
   },
   "outputs": [],
   "source": [
    "pixel_scale = [\n",
    "   30.*u.milliarcsecond/u.pixel, #HST ACS as listed in  https://arxiv.org/abs/astro-ph/0703095\n",
    "   0.031*u.arcsecond/u.pixel, # JWST NIRCam short from https://jwst-docs.stsci.edu/jwst-near-infrared-camera/nircam-observing-modes/nircam-imaging\n",
    "   0.17*u.arcsecond/u.pixel, # Subaru HSC from https://subarutelescope.org//Observing/Instruments/HSC/parameters.html\n",
    "]\n",
    "\n",
    "mirror_diameter = [\n",
    "    2.4*u.m, #HST\n",
    "    6.5*u.m, #JWST\n",
    "    8.2*u.m, #Subaru\n",
    "]\n",
    "\n",
    "plt.scatter(u.Quantity(mirror_diameter), u.Quantity(pixel_scale))\n",
    "plt.xlabel('mirror diameter')\n",
    "plt.ylabel('pixel scale'); "
   ]
  },
  {
   "cell_type": "markdown",
   "id": "9465d77c-5b31-4f4f-8e70-57cecb97673b",
   "metadata": {},
   "source": [
    "Ok that's cleaner but it's still easy to get confused why these numbers are so big... thus comes `quantity_support`!"
   ]
  },
  {
   "cell_type": "code",
   "execution_count": null,
   "id": "beefb36d-17c2-4167-b6ad-fe3a16199f6a",
   "metadata": {},
   "outputs": [],
   "source": [
    "from astropy.visualization import quantity_support\n",
    "quantity_support() \n",
    "\n",
    "plt.scatter(u.Quantity(mirror_diameter), u.Quantity(pixel_scale))"
   ]
  },
  {
   "cell_type": "markdown",
   "id": "f67db6e1-0cb5-44c8-8c90-e93ad2e830a2",
   "metadata": {},
   "source": [
    "Now you get units right away that show how the conversion happened.  It will also currently handle *different* units:"
   ]
  },
  {
   "cell_type": "code",
   "execution_count": null,
   "id": "f4973279-a683-424f-b285-e554782f5896",
   "metadata": {},
   "outputs": [],
   "source": [
    "# note we don't have to call quantity_support again because it only needs to get set up once per notebook\n",
    "\n",
    "ground_based_pixel_scales = [0.17]*u.arcsecond/u.pixel\n",
    "ground_based_mirror_diameters = [8.2]*u.m\n",
    "\n",
    "space_based_pixel_scales = [30, 31]*u.milliarcsecond/u.pixel\n",
    "space_based_mirror_diameters = [2.4, 6.5]*u.m\n",
    "\n",
    "plt.scatter(ground_based_mirror_diameters, ground_based_pixel_scales)\n",
    "plt.scatter(space_based_mirror_diameters, space_based_pixel_scales);"
   ]
  },
  {
   "cell_type": "markdown",
   "id": "5cd899c6-8ed1-4d82-bd2c-55fa1e94180e",
   "metadata": {},
   "source": [
    "Similar situations arise with time.  When you google plotting dates on the internet with matplotlib you frequently encounter plot_date:"
   ]
  },
  {
   "cell_type": "code",
   "execution_count": null,
   "id": "b409c715-1a8d-4dee-8b68-3bea34eb373c",
   "metadata": {},
   "outputs": [],
   "source": [
    "import datetime"
   ]
  },
  {
   "cell_type": "code",
   "execution_count": null,
   "id": "0445f1b8-0d78-466a-81a9-ad827a51619b",
   "metadata": {},
   "outputs": [],
   "source": [
    "dates = [datetime.datetime(2024, 4, 8),\n",
    "         datetime.datetime(2020, 1, 20),\n",
    "         datetime.datetime(2017, 8, 21)\n",
    "        ]\n",
    "eclipse = [True, False, True]\n",
    "\n",
    "plt.plot_date(dates, eclipse);"
   ]
  },
  {
   "cell_type": "markdown",
   "id": "29916b63-afee-4611-90f5-beebeb7999d3",
   "metadata": {},
   "source": [
    "But if you read the warning you don't need to do this anymore, you can just do this:"
   ]
  },
  {
   "cell_type": "code",
   "execution_count": null,
   "id": "f715f650-bd5d-432d-ba76-1e9d0a5e682c",
   "metadata": {},
   "outputs": [],
   "source": [
    "plt.scatter(dates, eclipse);"
   ]
  },
  {
   "cell_type": "markdown",
   "id": "07f2d917-ccf0-49c5-af67-22956e5e28cf",
   "metadata": {},
   "source": [
    "That said, there are many reasons why you'd rather use astropy times out-of-the-box... But they don't plot as simply:"
   ]
  },
  {
   "cell_type": "code",
   "execution_count": null,
   "id": "538d4953-6c66-42bb-b987-f1d6b4654bcc",
   "metadata": {},
   "outputs": [],
   "source": [
    "astropy_times = time.Time(['2024-4-8', '2020-1-20', '2017-8-21'])\n",
    "\n",
    "plt.scatter(astropy_times, eclipse);"
   ]
  },
  {
   "cell_type": "markdown",
   "id": "de22dd8a-eeea-4c72-b408-323ea6cc7672",
   "metadata": {},
   "source": [
    "Of course you can ask for a specific kind of time:"
   ]
  },
  {
   "cell_type": "code",
   "execution_count": null,
   "id": "4ee6b598-4707-46e9-bb54-957e13acf97d",
   "metadata": {},
   "outputs": [],
   "source": [
    "astropy_times = time.Time(['2024-4-8', '2020-1-20', '2017-8-21'])\n",
    "\n",
    "plt.scatter(astropy_times.mjd, eclipse);"
   ]
  },
  {
   "cell_type": "markdown",
   "id": "1e86570d-170c-408e-b4ac-db8aabfb5146",
   "metadata": {},
   "source": [
    "But you can also just use the similar `time_support`"
   ]
  },
  {
   "cell_type": "code",
   "execution_count": null,
   "id": "1204a14c-0d5a-4857-bab8-42d3b0faccc2",
   "metadata": {},
   "outputs": [],
   "source": [
    "from astropy.visualization import time_support\n",
    "time_support()\n",
    "\n",
    "plt.scatter(astropy_times, eclipse);"
   ]
  },
  {
   "cell_type": "markdown",
   "id": "973a39a8-ea9c-412c-a248-865ffad7f257",
   "metadata": {},
   "source": [
    "## WCSAxes\n",
    "\n",
    "`astropy.visualization` includes a few more concrete matplotlib-based primatives as well.  Most notable of these is `WCSAxes`, which does as the name implies: lets you use a WCS from a file or that you created yourself with matplotlib to more easily plot.  This really involves two distinct but closely related operations: plotting images with wcs and plotting other things over those images.  For the purposes of this example we will use an example dataset astropy provides:"
   ]
  },
  {
   "cell_type": "code",
   "execution_count": null,
   "id": "5d9c7402-7a9e-4f23-8f50-bfc5fa1a729a",
   "metadata": {},
   "outputs": [],
   "source": [
    "from astropy.utils.data import get_pkg_data_filename\n",
    "\n",
    "example_image_filename = get_pkg_data_filename('galactic_center/gc_msx_e.fits', 'astropy.visualization')\n",
    "example_image = fits.open(example_image_filename)\n",
    "plt.imshow(example_image[0].data, vmin=-2.e-5, vmax=2.e-4)"
   ]
  },
  {
   "cell_type": "markdown",
   "id": "0a385cf3-5cf8-40bf-b049-97ba5391a94a",
   "metadata": {},
   "source": [
    "This looks like some sort of astronomy image... but does not really tell us where it is on the sky.  That's where `WCSAxes` comes in:"
   ]
  },
  {
   "cell_type": "code",
   "execution_count": null,
   "id": "91fb0ce5-0f4e-4abe-82b2-bc09d2fe7198",
   "metadata": {},
   "outputs": [],
   "source": [
    "from astropy.wcs import WCS\n",
    "\n",
    "ax = plt.subplot(projection=WCS(example_image[0].header))\n",
    "ax.imshow(example_image[0].data, vmin=-2.e-5, vmax=2.e-4);"
   ]
  },
  {
   "cell_type": "markdown",
   "id": "1ca952be-e6ce-4a3a-9229-457889961093",
   "metadata": {},
   "source": [
    "And with just a bit of care (but no messy fiddling with WCS keywords directly) we can even overplot the coordinate grids even if they aren't align with the pixel grid:"
   ]
  },
  {
   "cell_type": "code",
   "execution_count": null,
   "id": "6f5a9902-892e-4008-9c19-0999e3e7c5f9",
   "metadata": {},
   "outputs": [],
   "source": [
    "ax = plt.subplot(projection=WCS(example_image[0].header))\n",
    "ax.imshow(example_image[0].data, vmin=-2.e-5, vmax=2.e-4)\n",
    "\n",
    "overlay = ax.get_coords_overlay('fk5')\n",
    "overlay.grid(color='white', ls='dotted')\n",
    "overlay[0].set_axislabel('Right Ascension (J2000)')\n",
    "overlay[1].set_axislabel('Declination (J2000)')"
   ]
  },
  {
   "cell_type": "markdown",
   "id": "c1ca2c93-9f25-4c75-90f1-64b7ee40e500",
   "metadata": {},
   "source": [
    "Now lets suppose we want to overplot a coordinate - this is just as straightforward using special plotting functions `plot_coord` and `scatter_coord`:"
   ]
  },
  {
   "cell_type": "code",
   "execution_count": null,
   "id": "c76ec3fb-2b62-4c66-b338-549534a13079",
   "metadata": {},
   "outputs": [],
   "source": [
    "coord = coordinates.SkyCoord(266.78238*u.deg, -28.769255*u.deg, frame='fk5')\n",
    "\n",
    "\n",
    "ax = plt.subplot(projection=WCS(example_image[0].header))\n",
    "ax.imshow(example_image[0].data, vmin=-2.e-5, vmax=2.e-4)\n",
    "\n",
    "ax.scatter_coord(coord, color='red');"
   ]
  },
  {
   "cell_type": "markdown",
   "id": "45373c85-f615-470f-ad36-beb178d9278a",
   "metadata": {},
   "source": [
    "Even more usefully this works just as well if you have your coordinate in some completely different system than the WCS:"
   ]
  },
  {
   "cell_type": "code",
   "execution_count": null,
   "id": "3dd97fe4-2881-47e1-8543-030428d5ed1b",
   "metadata": {},
   "outputs": [],
   "source": [
    "coord_gal = coordinates.SkyCoord(l=0.31437982*u.deg, b=-0.19565601*u.deg, frame='galactic')\n",
    "\n",
    "ax = plt.subplot(projection=WCS(example_image[0].header))\n",
    "ax.imshow(example_image[0].data, vmin=-2.e-5, vmax=2.e-4)\n",
    "\n",
    "ax.scatter_coord(coord_gal, color='red');"
   ]
  },
  {
   "cell_type": "markdown",
   "id": "9451e2c0-9039-4aad-8f0e-cc11e8832571",
   "metadata": {},
   "source": [
    "## Image stretching and colorizing\n",
    "\n",
    "Lastly, astropy.visualization has some helpful machinery to make matplotlib (or other) images stretch in ways astronomer users expect.  To demonstrate the point of this, note that we hand-chose the bounds for the example image above.  What do we get without this?:"
   ]
  },
  {
   "cell_type": "code",
   "execution_count": null,
   "id": "9ba17096-9f2d-4cf5-bf36-ad6d63292263",
   "metadata": {},
   "outputs": [],
   "source": [
    "plt.imshow(example_image[0].data)\n",
    "plt.colorbar();"
   ]
  },
  {
   "cell_type": "markdown",
   "id": "1f964e09-e57a-4875-a7f7-2490938a61e5",
   "metadata": {},
   "source": [
    "Ick, most of the information is gone.  But picking `vmin`/`vmax` by hand is also not great because it's very manual.  So instead `astropy.visualization` provides some tools to do this stretching for you."
   ]
  },
  {
   "cell_type": "code",
   "execution_count": null,
   "id": "499b2334-69ef-4159-83fc-6fd832a54879",
   "metadata": {},
   "outputs": [],
   "source": [
    "perc99 = visualization.PercentileInterval(99)\n",
    "plt.imshow(perc99(example_image[0].data))\n",
    "plt.colorbar();"
   ]
  },
  {
   "cell_type": "markdown",
   "id": "a0f5e36d-2e83-4056-8151-fa07e1d8ed9c",
   "metadata": {},
   "source": [
    "Under the hood this just remapped everything onto 0-1 but clamps out the outermost edges. Similar tools can also be used to adjust the \"stretch\" of an image:"
   ]
  },
  {
   "cell_type": "code",
   "execution_count": null,
   "id": "f595df0d-4c52-41ba-b2ba-d157aec59fb4",
   "metadata": {},
   "outputs": [],
   "source": [
    "perc99 = visualization.PercentileInterval(99)\n",
    "logstretch = visualization.LogStretch()\n",
    "plt.imshow(logstretch(perc99(example_image[0].data)))\n",
    "plt.colorbar();"
   ]
  },
  {
   "cell_type": "markdown",
   "id": "841ab47d-fa10-4c5a-9b7d-bcc5fea751dd",
   "metadata": {},
   "source": [
    "While for some use cases this is too much fine detail, for some that's exactly the detail you want!\n",
    "\n",
    "These can be used as-is in whatever visualization technique is desired.  But astropy also provides a convenient wrapper to use this with `imshow`, that helpfully then also better preserves the colorbar information:"
   ]
  },
  {
   "cell_type": "code",
   "execution_count": null,
   "id": "c6138f3a-e428-470f-a3d1-04a1b3d6e980",
   "metadata": {},
   "outputs": [],
   "source": [
    "res = visualization.imshow_norm(example_image[0].data, \n",
    "                         interval=visualization.PercentileInterval(99),\n",
    "                         stretch=visualization.LogStretch())\n",
    "plt.colorbar(res[0], ax=plt.gca());"
   ]
  },
  {
   "cell_type": "markdown",
   "id": "cc757e3f-cb38-4840-ab80-52348539d814",
   "metadata": {},
   "source": [
    "### RGB images\n",
    "\n",
    "Lastly, `astropy.visualization` provides a standard function to do a RGB color rendering of a three-band image in the standard method used by the SDSS to preserve color information without distorting luminosity too much."
   ]
  },
  {
   "cell_type": "code",
   "execution_count": null,
   "id": "3445cff4-603d-4ba8-9fce-b291a270618a",
   "metadata": {},
   "outputs": [],
   "source": [
    "g_name = get_pkg_data_filename('visualization/reprojected_sdss_g.fits.bz2', package='astropy.visualization')\n",
    "r_name = get_pkg_data_filename('visualization/reprojected_sdss_r.fits.bz2', package='astropy.visualization')\n",
    "i_name = get_pkg_data_filename('visualization/reprojected_sdss_i.fits.bz2', package='astropy.visualization')\n",
    "\n",
    "g_imagedata = fits.getdata(g_name)\n",
    "r_imagedata = fits.getdata(r_name)\n",
    "i_imagedata = fits.getdata(i_name)"
   ]
  },
  {
   "cell_type": "markdown",
   "id": "0d0e3e66-2771-4c29-b7b3-deb33fe69b8d",
   "metadata": {},
   "source": [
    "First lets look at one of these the way we did before:"
   ]
  },
  {
   "cell_type": "code",
   "execution_count": null,
   "id": "4d7bc654-5975-48f5-a9d7-af18f45e0e64",
   "metadata": {},
   "outputs": [],
   "source": [
    "res = visualization.imshow_norm(r_imagedata, \n",
    "                         interval=visualization.PercentileInterval(99),\n",
    "                         stretch=visualization.LogStretch())"
   ]
  },
  {
   "cell_type": "markdown",
   "id": "306008cd-7a71-4f2d-bbf9-aec500e90dd0",
   "metadata": {},
   "source": [
    "That provides a lot of detailed spatial information but can't show the color.  But we can get this with `make_lupton_rgb`:"
   ]
  },
  {
   "cell_type": "code",
   "execution_count": null,
   "id": "0e9f043e-7ef2-49d2-a036-191c1a2e642b",
   "metadata": {},
   "outputs": [],
   "source": [
    "rgb_default = visualization.make_lupton_rgb(i_imagedata, r_imagedata, g_imagedata)\n",
    "plt.imshow(rgb_default, origin='lower')"
   ]
  },
  {
   "cell_type": "markdown",
   "id": "e2c295b7-3307-4923-9c46-372c90f49e0f",
   "metadata": {},
   "source": [
    "Now we have a nice RGB image that contains all the color information.  You can experiment with the various parameters of `make_lupton_rgb` (``Q`` and ``stretch``, or stretch/interval objects as shown above) and try to get both good colors and good low-surface brightness details."
   ]
  },
  {
   "cell_type": "markdown",
   "id": "1d2402c3-89ed-441d-acbb-9dbd105903ff",
   "metadata": {},
   "source": [
    "# Imviz as an example of a more fully-featured notebook viz tool\n",
    "\n",
    "The world of visualization is bigger than just these tools, though.  Image visualization in particularly a thriving space - you have likely heard of ds9 and perhaps Ginga.  But there are other tools that are specifically designed for notebook work - e.g. the `jdaviz` tool (where the J has a \"strategic ambiguity\"...) As a quick demo:"
   ]
  },
  {
   "cell_type": "code",
   "execution_count": null,
   "id": "6bbebc3e-3dd4-4c74-9abc-6f029ebccfe8",
   "metadata": {},
   "outputs": [],
   "source": [
    "from jdaviz import Imviz"
   ]
  },
  {
   "cell_type": "code",
   "execution_count": null,
   "id": "b67efd30-0407-47cb-a560-8e8e18828ff7",
   "metadata": {},
   "outputs": [],
   "source": [
    "imviz = Imviz()"
   ]
  },
  {
   "cell_type": "code",
   "execution_count": null,
   "id": "332f22b9-4d02-46fd-8d86-7b909f0326fb",
   "metadata": {},
   "outputs": [],
   "source": [
    "imviz.show('sidecar')  # this will only work in Jupyterlab, but you can juse just ``imviz.show()`` in more limited environments"
   ]
  },
  {
   "cell_type": "code",
   "execution_count": null,
   "id": "733581c9-e1e8-451a-a3f3-018059b615af",
   "metadata": {},
   "outputs": [],
   "source": [
    "imviz.load_data(example_image[0])"
   ]
  },
  {
   "cell_type": "code",
   "execution_count": null,
   "id": "ea8483a7-262d-4ad3-9a07-e75227dfa950",
   "metadata": {},
   "outputs": [],
   "source": [
    "imviz.default_viewer.zoom_level = 5"
   ]
  },
  {
   "cell_type": "code",
   "execution_count": null,
   "id": "5cccee16-295c-41d9-8c40-8e2c9a45c9d3",
   "metadata": {},
   "outputs": [],
   "source": [
    "imviz.default_viewer.center_on(coord)"
   ]
  },
  {
   "cell_type": "markdown",
   "id": "e6b252f9-c637-4f31-94f3-3bd972ef5739",
   "metadata": {},
   "source": [
    "We can explore various UI elements but the keypoint is that they are all available either from the notebook or the UI."
   ]
  },
  {
   "cell_type": "markdown",
   "id": "859b1d87-ac04-4c6f-964d-c1f29cbdf997",
   "metadata": {},
   "source": [
    "# Astrowidgets: an idea\n",
    "\n",
    "The catch is: the poor user is then forced to learn a different API if they already like [ginga | pyds9 | js9 | ipyaladin]. \n",
    "\n",
    "Enter the astrowidgets concept.  The idea is a standard API that all the tools can use the same:"
   ]
  },
  {
   "cell_type": "code",
   "execution_count": null,
   "id": "5001f8e7-a576-4f6a-bd2e-56af40526bb2",
   "metadata": {},
   "outputs": [],
   "source": [
    "import astrowidgets\n",
    "\n",
    "aw_ginga = astrowidgets.ImageWidget()\n",
    "aw_ginga"
   ]
  },
  {
   "cell_type": "code",
   "execution_count": null,
   "id": "60d59425-a812-4212-aad7-e645ece03301",
   "metadata": {},
   "outputs": [],
   "source": [
    "aw_ginga.load_fits(example_image[0])"
   ]
  },
  {
   "cell_type": "code",
   "execution_count": null,
   "id": "8cccc752-ccd4-4ffb-a172-6c7b5f46ef9b",
   "metadata": {},
   "outputs": [],
   "source": [
    "aw_ginga.zoom_level = 5"
   ]
  },
  {
   "cell_type": "code",
   "execution_count": null,
   "id": "50ffac2a-b26f-408d-896a-87d9d957629d",
   "metadata": {},
   "outputs": [],
   "source": [
    "aw_ginga.center_on(coord)  "
   ]
  },
  {
   "cell_type": "markdown",
   "id": "6acf4e38-34b0-4c02-bf72-83588ea86603",
   "metadata": {},
   "source": [
    "The above actually doesn't work due to a bug (a subtle one about interpreting the WCS)!  But it illustrates how this needs to be a collaborative effort of defining the interface."
   ]
  },
  {
   "cell_type": "markdown",
   "id": "fde56710-1d90-45c4-b278-845f3d66daf7",
   "metadata": {},
   "source": [
    "# Q&A\n",
    "\n",
    "* What sort of visualization tools are y'all using?\n",
    "* What sort of visualization tools would you like to see for your own use?\n",
    "* What sort of visualization tools would you like to see the community use?\n",
    "* What applications (if any) do you see for the astrowidgets idea?"
   ]
  }
 ],
 "metadata": {
  "kernelspec": {
   "display_name": "Python 3 (ipykernel)",
   "language": "python",
   "name": "python3"
  },
  "language_info": {
   "codemirror_mode": {
    "name": "ipython",
    "version": 3
   },
   "file_extension": ".py",
   "mimetype": "text/x-python",
   "name": "python",
   "nbconvert_exporter": "python",
   "pygments_lexer": "ipython3",
   "version": "3.12.4"
  }
 },
 "nbformat": 4,
 "nbformat_minor": 5
}
