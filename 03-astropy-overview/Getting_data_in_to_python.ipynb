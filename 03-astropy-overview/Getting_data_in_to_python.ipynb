{
 "cells": [
  {
   "cell_type": "code",
   "execution_count": null,
   "id": "b509bab7-2a8c-411d-bbcf-e0e64fa33dc2",
   "metadata": {
    "tags": []
   },
   "outputs": [],
   "source": [
    "from astropy.table import Table\n",
    "\n",
    "import numpy as np\n",
    "import pandas as pd\n",
    "\n",
    "%matplotlib inline\n",
    "import matplotlib.pyplot as plt"
   ]
  },
  {
   "cell_type": "markdown",
   "id": "42510b4e-d3aa-4794-ac1f-b73201115bbb",
   "metadata": {},
   "source": [
    "# Getting your data into Python\n",
    "\n",
    "## Tables and dataframes\n",
    "\n",
    "For more detail about tables, see [this tutorial notebook about tables](../Extras/06-Tables/Tables.ipynb) and the [astropy documentation on tables](https://docs.astropy.org/en/stable/table/index.html)."
   ]
  },
  {
   "cell_type": "markdown",
   "id": "fb08d9a8-3817-4404-b958-bc868a631cff",
   "metadata": {},
   "source": [
    "## Quick table tour\n",
    "\n",
    "### Creating tables\n",
    "\n",
    "There is great deal of flexibility in the way that a table can be initially constructed:\n",
    "\n",
    "- Read an existing table from a file or web URL\n",
    "- Add columns of data one by one\n",
    "- Add rows of data one by one\n",
    "- From an existing data structure in memory:\n",
    "\n",
    "  - List of data columns\n",
    "  - Dict of data columns\n",
    "  - List of row dicts\n",
    "  - NumPy homgeneous array or structured array\n",
    "  - List of row records\n",
    "  \n",
    "See the documentation section on [Constructing a table](http://astropy.readthedocs.org/en/stable/table/construct_table.html) for the details and plenty of examples."
   ]
  },
  {
   "cell_type": "code",
   "execution_count": null,
   "id": "d6bd18fc-7dc4-4c30-81f1-10bff8e278cc",
   "metadata": {
    "tags": []
   },
   "outputs": [],
   "source": [
    "t = Table()\n",
    "t['name'] = ['larry', 'curly', 'moe', 'shemp', 'abbot', 'costello']\n",
    "t['flux'] = [10.3, 5.4, 123, 589, 210, 34]"
   ]
  },
  {
   "cell_type": "markdown",
   "id": "9ee3f26e-9e40-4070-a780-d898dd8a9db8",
   "metadata": {},
   "source": [
    "### Looking at your table\n",
    "\n",
    "In a Jupyter notebook, showing a table will produce a nice HTML representation of the table:"
   ]
  },
  {
   "cell_type": "code",
   "execution_count": null,
   "id": "291c28f3-0736-40ef-a1ea-98d1a7195fbb",
   "metadata": {
    "tags": []
   },
   "outputs": [],
   "source": [
    "t"
   ]
  },
  {
   "cell_type": "markdown",
   "id": "2f9a8f1c-663a-47a2-b1e1-4b12c4e91131",
   "metadata": {},
   "source": [
    "If you did the same in a terminal session you get a different view that isn't as pretty but does give a bit more information about the table:\n",
    "\n",
    "    >>> t\n",
    "    <Table rows=4 names=('name','flux')>\n",
    "    array([('source 1', 1.2), ('source 2', 2.2), ('source 3', 3.1),\n",
    "           ('source 4', 4.3)], \n",
    "          dtype=[('name', 'S8'), ('flux', '<f8')])\n",
    "\n",
    "To get a plain view which is the same in notebook and terminal use `print()`:"
   ]
  },
  {
   "cell_type": "markdown",
   "id": "22666faf-1b47-46dd-989a-e16c2f9f5d15",
   "metadata": {},
   "source": [
    "To get the table column names and data types using the `colnames` and `dtype` properties:"
   ]
  },
  {
   "cell_type": "code",
   "execution_count": null,
   "id": "d937e060-9b1b-4348-b90f-7509a3c92d2f",
   "metadata": {
    "tags": []
   },
   "outputs": [],
   "source": [
    "t.colnames"
   ]
  },
  {
   "cell_type": "code",
   "execution_count": null,
   "id": "b2fcbc2f-a794-44d9-945b-8a63858ca103",
   "metadata": {
    "tags": []
   },
   "outputs": [],
   "source": [
    "t.dtype"
   ]
  },
  {
   "cell_type": "markdown",
   "id": "3d03999c-69f1-404f-94a0-ff89f8d62d0e",
   "metadata": {},
   "source": [
    "### Accessing parts of the table\n",
    "\n",
    "We can access the columns and rows as for NumPy structured arrays. Notice that the outputs are `Column`, `Row`, or `Table` objects depending on the context."
   ]
  },
  {
   "cell_type": "code",
   "execution_count": null,
   "id": "08d9993e-0207-4be7-bb3c-3f75911904f5",
   "metadata": {},
   "outputs": [],
   "source": [
    "t['flux']  # Flux column (notice meta attributes)"
   ]
  },
  {
   "cell_type": "markdown",
   "id": "2a4bb56a-80ee-4936-a9aa-be9344b5d69e",
   "metadata": {},
   "source": [
    "#### Row numbering starts at zero"
   ]
  },
  {
   "cell_type": "code",
   "execution_count": null,
   "id": "56c27c91-1f19-47fc-b5b9-5c4f3249f386",
   "metadata": {},
   "outputs": [],
   "source": [
    "t['flux'][1]  # Row 1 of flux column"
   ]
  },
  {
   "cell_type": "code",
   "execution_count": null,
   "id": "80af1e77-56e1-464c-b8e8-cf7f1a18816c",
   "metadata": {},
   "outputs": [],
   "source": [
    "t[1]  # Row obj for with row 1 values"
   ]
  },
  {
   "cell_type": "code",
   "execution_count": null,
   "id": "0e598bbd-26b8-4a42-8be0-f6c2a6bf419d",
   "metadata": {},
   "outputs": [],
   "source": [
    "t[1]['flux']  # Flux column of row 1"
   ]
  },
  {
   "cell_type": "markdown",
   "id": "6d3b57ba-7f56-4a00-a830-325164800595",
   "metadata": {},
   "source": [
    "#### Slice syntax in python\n",
    "\n",
    "A range of items in Python is called a slice. The slice `[1:3]` means starting at item 1 and going up to, but not including, item 3."
   ]
  },
  {
   "cell_type": "code",
   "execution_count": null,
   "id": "39e050bb-f19a-4cbc-9561-db6cdf24ae2c",
   "metadata": {},
   "outputs": [],
   "source": [
    "t[1:3]  # 2nd and 3rd rows in a new table"
   ]
  },
  {
   "cell_type": "code",
   "execution_count": null,
   "id": "7d18f8e8-083d-4605-9de1-451c8224c5f5",
   "metadata": {},
   "outputs": [],
   "source": [
    "t[-1]"
   ]
  },
  {
   "cell_type": "markdown",
   "id": "56866c24-8ae2-4825-889e-194ebb7407e6",
   "metadata": {},
   "source": [
    "Another type of slices lets you list the items you want."
   ]
  },
  {
   "cell_type": "code",
   "execution_count": null,
   "id": "cbf20de1-648d-4e0e-adc2-6a0e56b231c0",
   "metadata": {},
   "outputs": [],
   "source": [
    "t[[0, 4]] # Just human rows 1 and 5"
   ]
  },
  {
   "cell_type": "markdown",
   "id": "60e86447-86b2-4342-b0c8-76989447e1a8",
   "metadata": {},
   "source": [
    "#### Boolean slice\n",
    "\n",
    "In another type of slicing you provide a list, for each row in the table, that is either `True` or `False`. Rows that are `True` are kept, and rows that `False` are dropped."
   ]
  },
  {
   "cell_type": "code",
   "execution_count": null,
   "id": "de503e96-aebf-46fe-b0a9-5adf6eafb41f",
   "metadata": {},
   "outputs": [],
   "source": [
    "boo_slice = [False, True, False, True, False, False]\n",
    "t[boo_slice]"
   ]
  },
  {
   "cell_type": "markdown",
   "id": "ce62947a-b6c8-48b2-847c-263325ed2819",
   "metadata": {},
   "source": [
    "Boolean indexing may seem more difficult than other methods of slicinig at the moment, but it turns out to be *extremely powerful*."
   ]
  },
  {
   "cell_type": "markdown",
   "id": "cc1793b9-341c-4891-bd05-3edd0b0c48cf",
   "metadata": {},
   "source": [
    "### Making new columns "
   ]
  },
  {
   "cell_type": "markdown",
   "id": "b21ddcb5-a90f-4d6b-b1e3-a044a5c9446d",
   "metadata": {},
   "source": [
    "Since we have a flux column in our data we should probably calculate a magnitude.\n",
    "\n",
    "The [numpy]() package, which everyone abbreviates to `np` in code, has just about any mathematical function or operation you might need, optimized to work with reasonably large arrays.\n",
    "\n",
    "Instrumental magnitude is given by $m = -2.5 \\log_{10}(flux)$, so the code to create a new `mag` column is below."
   ]
  },
  {
   "cell_type": "code",
   "execution_count": null,
   "id": "d250e484-7ee5-421a-b03a-31c13fe85758",
   "metadata": {},
   "outputs": [],
   "source": [
    "t['mag'] = -2.5 * np.log10(t['flux'])"
   ]
  },
  {
   "cell_type": "markdown",
   "id": "35a689cc-418f-4b3d-8665-55299610adb8",
   "metadata": {},
   "source": [
    "Let's also add a color for the B-V color of these stars. "
   ]
  },
  {
   "cell_type": "code",
   "execution_count": null,
   "id": "ace1397a-9cf3-4ce5-ad5f-6b133b7a0359",
   "metadata": {},
   "outputs": [],
   "source": [
    "t['B-V'] = [0.3, -0.1, 0.74, -0.05, 0.41, 1.5]"
   ]
  },
  {
   "cell_type": "code",
   "execution_count": null,
   "id": "8dcce994-0874-4ded-8f71-7c3c4d266cbf",
   "metadata": {},
   "outputs": [],
   "source": [
    "t"
   ]
  },
  {
   "cell_type": "markdown",
   "id": "c6b90064-6144-49de-a73c-808963098e8d",
   "metadata": {},
   "source": [
    "### Boolean indexing 🥳 ♬♪♬"
   ]
  },
  {
   "cell_type": "markdown",
   "id": "4a815fc1-2aa1-4e13-9390-6ddac625248a",
   "metadata": {},
   "source": [
    "#### Boolean indexing is one of the most power properites of tables (and numpy arrays).\n",
    "\n",
    "In the first example of this, above, we manually typed out `True` or `False` for each row in the table. That is tedious and error-prone.\n",
    "\n",
    "Another way to create a boolean index is to use comparison operators. \n",
    "\n",
    "The cell below creates a mask that is true for all rows where the B-V color is less than zero."
   ]
  },
  {
   "cell_type": "code",
   "execution_count": null,
   "id": "94dae71a-2c1c-4b1b-9ceb-3b3cca62f36c",
   "metadata": {},
   "outputs": [],
   "source": [
    "blue_stars = t['B-V'] < 0  # Define boolean index that is true for all stars with negative colors\n",
    "blue_stars  # display the mask"
   ]
  },
  {
   "cell_type": "markdown",
   "id": "d8d80b92-1b8f-4ba9-a395-06c9cc968e21",
   "metadata": {},
   "source": [
    "Once you have created the mask you can index the table with it."
   ]
  },
  {
   "cell_type": "code",
   "execution_count": null,
   "id": "114137fc-b667-47cb-a6a4-4f42c41f02c6",
   "metadata": {},
   "outputs": [],
   "source": [
    "t[blue_stars]"
   ]
  },
  {
   "cell_type": "markdown",
   "id": "9674591e-9e42-4535-96d2-a53da3f44293",
   "metadata": {},
   "source": [
    "#### Boolean indexes can be combined\n",
    "\n",
    "There are three operators for combining masks:\n",
    "\n",
    "+ `&` means logical \"and\"; it results in `True` if both inputs are `True`\n",
    "+ `|` means logical \"or\"; it results in `True` if either input is `True`\n",
    "+ `~` means logical \"not\"; `True` is turned in to `False` and the other way around"
   ]
  },
  {
   "cell_type": "markdown",
   "id": "ac4b23cd-b9ac-45c0-8b3d-bc44834c3adc",
   "metadata": {},
   "source": [
    "Let's now select stars which are blue and bright. For the sake of argument, let's assume by \"bright\" we mean \"brighter than magnitude -4\"."
   ]
  },
  {
   "cell_type": "code",
   "execution_count": null,
   "id": "17355cb8-d3dc-40c5-bbfc-b837d2fe17a2",
   "metadata": {},
   "outputs": [],
   "source": [
    "blue_stars = t['B-V'] < 0\n",
    "bright_stars = t['mag'] < -4 # Remember, the magnitude system is backwards\n",
    "\n",
    "t[blue_stars & bright_stars]  # Return stars which are both blue and bright"
   ]
  },
  {
   "cell_type": "code",
   "execution_count": null,
   "id": "3b1b8891-ca8f-457e-9f51-b7b887d2c773",
   "metadata": {},
   "outputs": [],
   "source": [
    "t[blue_stars | bright_stars] # Return stars which are either blue OR bright OR both"
   ]
  },
  {
   "cell_type": "markdown",
   "id": "26a0b13c-835c-4853-b3a5-6bd0388c59b8",
   "metadata": {},
   "source": [
    "## Reading and writing tabular data"
   ]
  },
  {
   "cell_type": "markdown",
   "id": "1234c65c-d5d1-4b55-b7cb-bbba25f9eeb5",
   "metadata": {},
   "source": [
    "### Writing\n",
    "\n",
    "Astropy can write data to a [large variety of formats](https://docs.astropy.org/en/stable/table/io.html#supported-formats), including CSV and FITS. \n",
    "\n",
    "One particularly useful format is ECSV, which is a plain-text CCSV file with information about the table.\n",
    "\n",
    "As an example, we write out our table in three different formats."
   ]
  },
  {
   "cell_type": "code",
   "execution_count": null,
   "id": "99289360-fb39-4c53-9e0b-e0f7bfdca62e",
   "metadata": {},
   "outputs": [],
   "source": [
    "t.write('my_table.fits')\n",
    "t.write('my_table.csv')\n",
    "t.write('my_table.ecsv')"
   ]
  },
  {
   "cell_type": "markdown",
   "id": "3c9f3397",
   "metadata": {},
   "source": [
    "#### Specifying the format\n",
    "\n",
    "You can specify the format by the file extension, or by using the `format` keyword argument. In the example below we save the table as tab-separated text."
   ]
  },
  {
   "cell_type": "code",
   "execution_count": null,
   "id": "1f228139",
   "metadata": {},
   "outputs": [],
   "source": [
    "t.write('my_table.txt', format='ascii.tab')"
   ]
  },
  {
   "cell_type": "markdown",
   "id": "f624940d-9f2a-404f-90c5-1663f5da6f08",
   "metadata": {},
   "source": [
    "### Reading\n",
    "\n",
    "Astropy can sometimes guess the format of a file you are reading based on the file extension (the part of the file name after the `.`)."
   ]
  },
  {
   "cell_type": "code",
   "execution_count": null,
   "id": "cf9086c7-490d-4688-8efa-0cf8e9546539",
   "metadata": {},
   "outputs": [],
   "source": [
    "my_table_again = Table.read('my_table.ecsv')"
   ]
  },
  {
   "cell_type": "code",
   "execution_count": null,
   "id": "d6c75e43-e02b-4fc6-a201-bfe91a36fdc7",
   "metadata": {},
   "outputs": [],
   "source": [
    "my_table_again"
   ]
  },
  {
   "cell_type": "markdown",
   "id": "0dad26f1-4576-44bc-b4d6-5c0a690512f6",
   "metadata": {},
   "source": [
    "Sometimes, though, astropy cannot guess the format"
   ]
  },
  {
   "cell_type": "code",
   "execution_count": null,
   "id": "202002f8-0336-4f62-9806-1aa9fe055b8f",
   "metadata": {
    "tags": [
     "raises-exception"
    ]
   },
   "outputs": [],
   "source": [
    "my_table_from_txt = Table.read('my_table.txt')"
   ]
  },
  {
   "cell_type": "markdown",
   "id": "31392abb-9f45-42c6-b780-d29d657b27e2",
   "metadata": {},
   "source": [
    "In cases like this, you may have to tell astropy that the file is `ascii`"
   ]
  },
  {
   "cell_type": "code",
   "execution_count": null,
   "id": "bfba8e58-b594-48ea-bbc5-8e9354e09ef9",
   "metadata": {},
   "outputs": [],
   "source": [
    "my_table_from_txt = Table.read('my_table.txt', format='ascii')"
   ]
  },
  {
   "cell_type": "markdown",
   "id": "5d98a3b1-16a4-4427-9899-0a5956a9b075",
   "metadata": {},
   "source": [
    "Let's check that that actually worked by displaying the first 3 rows of the table."
   ]
  },
  {
   "cell_type": "code",
   "execution_count": null,
   "id": "f6b8cfbe-c02b-4562-828a-d4e53679e570",
   "metadata": {},
   "outputs": [],
   "source": [
    "my_table_from_txt[:3]"
   ]
  },
  {
   "cell_type": "markdown",
   "id": "d341de09-7f2a-4772-97d2-de8956d63f38",
   "metadata": {
    "tags": []
   },
   "source": [
    "## Interfacing with Pandas\n",
    "Astropy `Table` includes  `to_pandas()` and `from_pandas()` [methods](http://docs.astropy.org/en/stable/table/pandas.html)  that facilitate conversion to/from [pandas](http://pandas.pydata.org) `DataFrame` objects.  There are a few caveats in making these conversions:\n",
    " - Tables with multi-dimensional columns cannot be converted.\n",
    " - Masked values are converted to `numpy.nan`. Numerical columns, int or float, are thus converted to ``numpy.float`` while string columns with missing values are converted to object columns with ``numpy.nan`` values to indicate missing or masked data. Therefore, you cannot always round-trip between `Table` and `DataFrame`."
   ]
  },
  {
   "cell_type": "code",
   "execution_count": null,
   "id": "9ec83bf6-bc54-45b7-bd37-8fe2d525e866",
   "metadata": {},
   "outputs": [],
   "source": [
    "my_table_data_frame = t.to_pandas()\n",
    "my_table_data_frame"
   ]
  },
  {
   "cell_type": "code",
   "execution_count": null,
   "id": "15f57222-a8ff-4815-93bc-928151b8eee5",
   "metadata": {},
   "outputs": [],
   "source": [
    "t_pd = Table.from_pandas(my_table_data_frame)"
   ]
  }
 ],
 "metadata": {
  "kernelspec": {
   "display_name": "stelldev-pyd2",
   "language": "python",
   "name": "python3"
  },
  "language_info": {
   "codemirror_mode": {
    "name": "ipython",
    "version": 3
   },
   "file_extension": ".py",
   "mimetype": "text/x-python",
   "name": "python",
   "nbconvert_exporter": "python",
   "pygments_lexer": "ipython3",
   "version": "3.11.9"
  }
 },
 "nbformat": 4,
 "nbformat_minor": 5
}
