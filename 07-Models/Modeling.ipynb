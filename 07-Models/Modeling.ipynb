{
 "cells": [
  {
   "cell_type": "markdown",
   "metadata": {},
   "source": [
    "# What is the astropy.modeling package and why is it useful?\n",
    "<div style=\"background-color:#FCF3CF; text-align:left; vertical-align:middle; padding:10px; margin-top:10px\">\n",
    "\n",
    "astropy.modeling provies a framework for representing models, performing model evaluation, and fitting models to data.\n",
    "<br>\n",
    "<ul>\n",
    "<li> Models do not reference fitting algorithms explicitly, this means that different fitting algorithms can be used without updating the model itself.\n",
    "<li> Models can be chained together to represent transforms that are dependent on each other, or follow each other in an explicit order.\n",
    "</ul>\n",
    "</div>\n",
    "\n"
   ]
  },
  {
   "cell_type": "markdown",
   "metadata": {},
   "source": [
    "## Overview of core astropy.modeling features\n",
    "\n",
    "- <i><strong>simple models</strong></i>: one and two dimensional models \n",
    "- <i><strong>fitters</strong></i>: combine optimization algorithms with statistic functions to perform fitting \n",
    "- <i><strong>combined models</strong></i>: new models or classes that are the combination of instances, classes or result from composition\n",
    "- <i><strong>creating new models</strong></i>: defining a new model using a custom decorator or subclass\n"
   ]
  },
  {
   "cell_type": "code",
   "execution_count": null,
   "metadata": {
    "collapsed": true
   },
   "outputs": [],
   "source": [
    "# make sure plots show up inside the notebook \n",
    "%matplotlib inline\n",
    "from matplotlib import pyplot as plt\n",
    "\n",
    "# import other useful libraries\n",
    "import numpy as np"
   ]
  },
  {
   "cell_type": "markdown",
   "metadata": {},
   "source": [
    "## Example Real World Use-Cases \n",
    "The following real world examples will be discussed throughout this notebook as we look at some of the capabilities of the modeling. and fitting packages\n",
    "* adding two gaussians together to create a spectral line\n",
    "* fitting an image of a galaxy for a model including a disk with rotation\n",
    "* creating a transform chain that moves one set of values to another\n"
   ]
  },
  {
   "cell_type": "markdown",
   "metadata": {},
   "source": [
    "### <font color=\"blue\">Adding two gaussians together to create a spectral line"
   ]
  },
  {
   "cell_type": "code",
   "execution_count": null,
   "metadata": {
    "collapsed": true
   },
   "outputs": [],
   "source": [
    "# a number of predefined models exist under the modeling namespace \"models\"\n",
    "from astropy.modeling import models"
   ]
  },
  {
   "cell_type": "markdown",
   "metadata": {},
   "source": [
    "<strong>Most models are defined with their parameters and they maintain an ordered list of parameter names.</strong>\n",
    "<br>The names of the parameters can be easily found by asking the model itself:"
   ]
  },
  {
   "cell_type": "code",
   "execution_count": null,
   "metadata": {},
   "outputs": [],
   "source": [
    "models.Gaussian1D.param_names"
   ]
  },
  {
   "cell_type": "markdown",
   "metadata": {},
   "source": [
    "<strong>Now we know we can specify the amplitude, mean, and standard deviation for the Gaussian1D model.</strong><br>\n",
    "The order of the Model.param_names list is important because models can be initialized by simply providing the values as positional arguments.\n",
    "<br>Let's create our first model:"
   ]
  },
  {
   "cell_type": "code",
   "execution_count": null,
   "metadata": {
    "collapsed": true
   },
   "outputs": [],
   "source": [
    "gaussian_1 = models.Gaussian1D(amplitude=2.5, mean=0.9, stddev=0.5)"
   ]
  },
  {
   "cell_type": "markdown",
   "metadata": {},
   "source": [
    "<strong>Models have also a *parameters* attribute which is a flattened list of all parameter values.</strong>\n",
    "<br>It is what fitters operate on and can be used to update a model's parameters. \n",
    "<br>The values are in the same order as *Model.param_list*."
   ]
  },
  {
   "cell_type": "code",
   "execution_count": null,
   "metadata": {},
   "outputs": [],
   "source": [
    "gaussian_1.parameters"
   ]
  },
  {
   "cell_type": "markdown",
   "metadata": {},
   "source": [
    "<strong> It's possible to set the model parameter values from the model object itself. </strong>\n",
    "<br>Below, I'll create another gaussian, but have it initialized with the default parameter values for the model.\n",
    "<br>Most models have default values for their parameters and can be initialized without providing initial values."
   ]
  },
  {
   "cell_type": "code",
   "execution_count": null,
   "metadata": {},
   "outputs": [],
   "source": [
    "gaussian_2 = models.Gaussian1D()\n",
    "print(gaussian_2)"
   ]
  },
  {
   "cell_type": "markdown",
   "metadata": {},
   "source": [
    "<strong>I can re-set the model parameters by assigning their values directly:"
   ]
  },
  {
   "cell_type": "code",
   "execution_count": null,
   "metadata": {},
   "outputs": [],
   "source": [
    "gaussian_2.amplitude = 1.6\n",
    "gaussian_2.mean = 1.8\n",
    "gaussian_2.stddev = 0.1\n",
    "print(gaussian_2)"
   ]
  },
  {
   "cell_type": "markdown",
   "metadata": {},
   "source": [
    "<strong>Models are evaluated like functions, by passing the inputs. Each dimension is a separate input.</strong>\n",
    "<br>Below, we'll generate some gaussian data with some added noise to make it a little more realistic.\n"
   ]
  },
  {
   "cell_type": "code",
   "execution_count": null,
   "metadata": {
    "collapsed": true
   },
   "outputs": [],
   "source": [
    "np.random.seed(0)\n",
    "data1 = np.linspace(-5., 5., 200)\n",
    "noise = np.random.normal(0., 0.2, data1.shape)\n",
    "\n",
    "# now, feed the data to the models and add noise\n",
    "g1 = gaussian_1(data1) + noise\n",
    "g2 = gaussian_2(data1) + noise"
   ]
  },
  {
   "cell_type": "markdown",
   "metadata": {},
   "source": [
    "<strong>You can see on the plot that we have two different gaussians, we are going to add them together to make a slightly more complex structure."
   ]
  },
  {
   "cell_type": "code",
   "execution_count": null,
   "metadata": {},
   "outputs": [],
   "source": [
    "plt.plot(g2)\n",
    "plt.plot(g1)"
   ]
  },
  {
   "cell_type": "markdown",
   "metadata": {},
   "source": [
    "<strong> Models also support names. <br>\n",
    "We didn't assign a name to either of the gaussians we are working with here, but we can now:"
   ]
  },
  {
   "cell_type": "code",
   "execution_count": null,
   "metadata": {},
   "outputs": [],
   "source": [
    "print(gaussian_1.name)"
   ]
  },
  {
   "cell_type": "code",
   "execution_count": null,
   "metadata": {
    "collapsed": true
   },
   "outputs": [],
   "source": [
    "gaussian_1.name = \"main gaussian\"\n",
    "gaussian_2.name = \"line gaussian\""
   ]
  },
  {
   "cell_type": "markdown",
   "metadata": {},
   "source": [
    "<strong>astropy.modeling supports model combination using arithmetic operators and the specially defined **join (&)** and **composition ( | )** operators. <br> Here we'll simply add the two models we created to generate the compound model:"
   ]
  },
  {
   "cell_type": "code",
   "execution_count": null,
   "metadata": {
    "collapsed": true
   },
   "outputs": [],
   "source": [
    "combined_gaussians = gaussian_1 + gaussian_2"
   ]
  },
  {
   "cell_type": "markdown",
   "metadata": {},
   "source": [
    "<strong>You can see that the names we applied to the individual models are carried through:"
   ]
  },
  {
   "cell_type": "code",
   "execution_count": null,
   "metadata": {},
   "outputs": [],
   "source": [
    "combined_gaussians.submodel_names"
   ]
  },
  {
   "cell_type": "code",
   "execution_count": null,
   "metadata": {},
   "outputs": [],
   "source": [
    "# Evaluate the combined model with the dataset\n",
    "combined_data = combined_gaussians(data1) + noise\n",
    "plt.plot(combined_data)\n",
    "plt.title('Two-Gaussian Model')"
   ]
  },
  {
   "cell_type": "markdown",
   "metadata": {},
   "source": [
    "<strong>The compound combined_gaussians model provides the same result as the individual model results. </strong>"
   ]
  },
  {
   "cell_type": "code",
   "execution_count": null,
   "metadata": {},
   "outputs": [],
   "source": [
    "separate_data = gaussian_1(data1) + gaussian_2(data1) + noise\n",
    "plt.plot(separate_data)\n",
    "plt.title(\"Models evaluated separately\")"
   ]
  },
  {
   "cell_type": "code",
   "execution_count": null,
   "metadata": {},
   "outputs": [],
   "source": [
    "# For good measure, lets demonstrate the equivalence \n",
    "plt.plot( combined_data / separate_data)"
   ]
  },
  {
   "cell_type": "markdown",
   "metadata": {},
   "source": [
    "<strong>Models can be introspected to find out more about their inputs and outputs.<strong>"
   ]
  },
  {
   "cell_type": "code",
   "execution_count": null,
   "metadata": {},
   "outputs": [],
   "source": [
    "print(\"combined_gaussians.n_inputs:\", combined_gaussians.n_inputs)\n",
    "print(\"combined_gaussians.n_outputs:\", combined_gaussians.n_outputs)"
   ]
  },
  {
   "cell_type": "markdown",
   "metadata": {},
   "source": [
    "<strong>and you can always look at the raw summary of their contents:"
   ]
  },
  {
   "cell_type": "code",
   "execution_count": null,
   "metadata": {},
   "outputs": [],
   "source": [
    "print(combined_gaussians)"
   ]
  },
  {
   "cell_type": "markdown",
   "metadata": {},
   "source": [
    "## Fitters : combine optimization algorithms with statistic functions to perform fitting.</strong>"
   ]
  },
  {
   "cell_type": "markdown",
   "metadata": {},
   "source": [
    "<strong>Fitters are under a common namespace too.</strong>"
   ]
  },
  {
   "cell_type": "code",
   "execution_count": null,
   "metadata": {
    "collapsed": true
   },
   "outputs": [],
   "source": [
    "from astropy.modeling import fitting"
   ]
  },
  {
   "cell_type": "markdown",
   "metadata": {},
   "source": [
    "<strong>We'll apply a fitter to the noisy gaussian_1 data we created above:"
   ]
  },
  {
   "cell_type": "code",
   "execution_count": null,
   "metadata": {},
   "outputs": [],
   "source": [
    "# Remember what the data looks like\n",
    "plt.plot(data1, g1)"
   ]
  },
  {
   "cell_type": "markdown",
   "metadata": {},
   "source": [
    "<strong>Create a fitter which uses the Levenberg-Marquardt optimization algorithm and least squares statistics.</strong>\n",
    "\n",
    "When you pass the model and the data to the fitter, the output is a new model with fitted parameters.\n"
   ]
  },
  {
   "cell_type": "code",
   "execution_count": null,
   "metadata": {
    "collapsed": true
   },
   "outputs": [],
   "source": [
    "fitter = fitting.LevMarLSQFitter()\n",
    "\n",
    "# use the default gaussian model as input to the fitter\n",
    "gauss_model = models.Gaussian1D()\n",
    "model = fitter(gauss_model, data1, g1)"
   ]
  },
  {
   "cell_type": "code",
   "execution_count": null,
   "metadata": {},
   "outputs": [],
   "source": [
    "print(\"Fitted Model parameters: {}\\nOriginal Gaussian parameters: {}\".format(model.parameters, gaussian_1.parameters))"
   ]
  },
  {
   "cell_type": "code",
   "execution_count": null,
   "metadata": {},
   "outputs": [],
   "source": [
    "plt.plot(data1, g1, label='data')\n",
    "plt.plot(data1, model(data1), 'r', label='fitted model')\n",
    "plt.legend(loc=2)"
   ]
  },
  {
   "cell_type": "markdown",
   "metadata": {},
   "source": [
    "<strong>Fitters support parameter constraints. </strong>\n",
    "<br>They can be of types *fixed*, *tied* and *bounds*.\n",
    "\n"
   ]
  },
  {
   "cell_type": "code",
   "execution_count": null,
   "metadata": {},
   "outputs": [],
   "source": [
    "gauss_model.parameter_constraints"
   ]
  },
  {
   "cell_type": "markdown",
   "metadata": {},
   "source": [
    "<strong>Fixed parameter constraints are boolean attributes. Let's fix the amplitude to its original value:</strong>"
   ]
  },
  {
   "cell_type": "code",
   "execution_count": null,
   "metadata": {},
   "outputs": [],
   "source": [
    "gauss_model.amplitude.fixed = True\n",
    "model = fitter(gauss_model, data1, g1)\n",
    "print(model.parameters)"
   ]
  },
  {
   "cell_type": "markdown",
   "metadata": {},
   "source": [
    "<strong> This is what the model looks like with the fixed-amplitude constraint:</strong>"
   ]
  },
  {
   "cell_type": "code",
   "execution_count": null,
   "metadata": {},
   "outputs": [],
   "source": [
    "plt.plot(data1, g1, label='data')\n",
    "plt.plot(data1, model(data1), 'r', label='fitted model')\n",
    "plt.legend(loc=2)"
   ]
  },
  {
   "cell_type": "markdown",
   "metadata": {},
   "source": [
    "<strong>Bounds can be set on a parameter, and used during fitting, either by using *min* and *max* or the *bounds* attribute.<br>\n",
    "<em>Different fitters support different types of contstraints.<em>"
   ]
  },
  {
   "cell_type": "code",
   "execution_count": null,
   "metadata": {},
   "outputs": [],
   "source": [
    "print(fitter)\n",
    "fitter.supported_constraints"
   ]
  },
  {
   "cell_type": "code",
   "execution_count": null,
   "metadata": {},
   "outputs": [],
   "source": [
    "gauss_model.stddev.min = .1\n",
    "gauss_model.stddev.max = .2\n",
    "print(gauss_model.stddev.bounds)"
   ]
  },
  {
   "cell_type": "markdown",
   "metadata": {},
   "source": [
    "<strong>Compound models also support parameter constraints. There, constraints are defined on parameters of the compound model, not parameters of the submodels."
   ]
  },
  {
   "cell_type": "markdown",
   "metadata": {},
   "source": [
    "<strong> What happens with the bounds we added to the model stddev and the fixed amplitude constraint?</strong>"
   ]
  },
  {
   "cell_type": "code",
   "execution_count": null,
   "metadata": {},
   "outputs": [],
   "source": [
    "model = fitter(gauss_model, data1, g1)\n",
    "print(model.parameters)"
   ]
  },
  {
   "cell_type": "code",
   "execution_count": null,
   "metadata": {},
   "outputs": [],
   "source": [
    "plt.plot(data1, g1, label='data')\n",
    "plt.plot(data1, model(data1), 'r', label='fitted model')\n",
    "plt.legend(loc=2)"
   ]
  },
  {
   "cell_type": "markdown",
   "metadata": {},
   "source": [
    "<strong>It's also possible to tie (or link) two parameters.<br>\n",
    "In the next example the stddev parameter is tied to the amplitude using a function reference."
   ]
  },
  {
   "cell_type": "code",
   "execution_count": null,
   "metadata": {
    "collapsed": true
   },
   "outputs": [],
   "source": [
    "def tie_stddev_ampl(model):\n",
    "    return model.amplitude / 3.78\n",
    "\n",
    "# set the parameter directly using the reference to the function\n",
    "gauss_model.stddev.tied = tie_stddev_ampl\n",
    "\n",
    "# set the stddev max back to a more reasonable value for this and unfix the amplitude\n",
    "gauss_model.stddev.max = 0.8\n",
    "gauss_model.amplitude.fixed = False"
   ]
  },
  {
   "cell_type": "code",
   "execution_count": null,
   "metadata": {},
   "outputs": [],
   "source": [
    "model_tied = fitter(gauss_model, data1, g1)\n",
    "print(model_tied.parameters)\n",
    "plt.plot(data1, g1, label='data')\n",
    "plt.plot(data1, model_tied(data1), 'r', label='fitted model')\n",
    "plt.legend(loc=2)"
   ]
  },
  {
   "cell_type": "markdown",
   "metadata": {},
   "source": [
    "<strong>astropy.modeling has several other fitters: *SimplexLSQFitter*, *SLSQPLSQFitter* and *LinearLSQFitter*.\n",
    "\n",
    "*LinearLSQFitter* can be used only with linear models and provides an exact solution."
   ]
  },
  {
   "cell_type": "markdown",
   "metadata": {},
   "source": [
    "### Example: Let's look at a different model \n",
    "\n",
    "Create a Chebyshev model, evaluate it and add noise to the data."
   ]
  },
  {
   "cell_type": "code",
   "execution_count": null,
   "metadata": {
    "collapsed": true
   },
   "outputs": [],
   "source": [
    "models.Chebyshev1D?"
   ]
  },
  {
   "cell_type": "code",
   "execution_count": null,
   "metadata": {},
   "outputs": [],
   "source": [
    "cheb1 = models.Chebyshev1D(degree=3, c0=1, c2=1, c3=1)\n",
    "cdata = cheb1(data1) + np.random.normal(0, 20, data1.shape)\n",
    "plt.plot(data1, cdata, 'r')"
   ]
  },
  {
   "cell_type": "markdown",
   "metadata": {},
   "source": [
    "<strong>Fit a *Chebyshev1D* polynomial using the *LinearLSQFitter*.</strong>"
   ]
  },
  {
   "cell_type": "code",
   "execution_count": null,
   "metadata": {},
   "outputs": [],
   "source": [
    "linfitter = fitting.LinearLSQFitter()\n",
    "model = linfitter(cheb1, data1, cdata)\n",
    "\n",
    "plt.plot(data1, cdata, label='data')\n",
    "plt.plot(data1, model(data1), 'r', label='fitted Chebyshev1D')\n",
    "plt.legend(loc=2)"
   ]
  },
  {
   "cell_type": "markdown",
   "metadata": {},
   "source": [
    "## Exercise 1:\n",
    "\n",
    "#Generate fake data\n",
    "```\n",
    "np.random.seed(0)\n",
    "x = np.linspace(-5., 5., 200)\n",
    "y = 3 * np.exp(-0.5 * (x - 1.3)**2 / 0.8**2)\n",
    "y += np.random.normal(0., 0.2, x.shape)\n",
    "```\n",
    "- Fit the data with a Trapezoid1D model.\n",
    "- Fit a Gaussian1D model to it.\n",
    "- Display the results."
   ]
  },
  {
   "cell_type": "code",
   "execution_count": null,
   "metadata": {
    "collapsed": true
   },
   "outputs": [],
   "source": []
  },
  {
   "cell_type": "code",
   "execution_count": null,
   "metadata": {
    "collapsed": true
   },
   "outputs": [],
   "source": []
  },
  {
   "cell_type": "code",
   "execution_count": null,
   "metadata": {
    "collapsed": true
   },
   "outputs": [],
   "source": []
  },
  {
   "cell_type": "markdown",
   "metadata": {},
   "source": [
    "### <font color=\"blue\">Fitting an image of a disk galaxy with a model</font>"
   ]
  },
  {
   "cell_type": "markdown",
   "metadata": {},
   "source": [
    "<strong>First we'll create an example dataset:"
   ]
  },
  {
   "cell_type": "code",
   "execution_count": null,
   "metadata": {},
   "outputs": [],
   "source": [
    "# Generate a noisy background\n",
    "np.random.seed(0)\n",
    "sky = np.random.normal(loc=0., scale=2, size=(128, 128))\n",
    "\n",
    "# Generate a fuzzy galaxy disk\n",
    "x, y = np.mgrid[:128, :128]\n",
    "gal_model = models.Gaussian2D(amplitude=0.0008, x_mean=60, y_mean=60, x_stddev=25, y_stddev=5, theta=0.5)\n",
    "galaxy = gal_model(x, y) * 50000.\n",
    "\n",
    "# combine the background and galaxy to create the image of the fake scene\n",
    "image = galaxy + sky\n"
   ]
  },
  {
   "cell_type": "markdown",
   "metadata": {},
   "source": [
    "<strong>Let's take a look at the galaxy stamp that we created:</strong>"
   ]
  },
  {
   "cell_type": "code",
   "execution_count": null,
   "metadata": {},
   "outputs": [],
   "source": [
    "plt.title(\"Fake galaxy stamp\")\n",
    "plt.imshow(image, origin='lower')"
   ]
  },
  {
   "cell_type": "markdown",
   "metadata": {},
   "source": [
    "<strong>Now, let's work backwards and try and fit this galaxy with a model.</strong>"
   ]
  },
  {
   "cell_type": "code",
   "execution_count": null,
   "metadata": {
    "collapsed": true
   },
   "outputs": [],
   "source": [
    "# We'll use the Levenberg-Marquardt optimization algorithm and least squares statistics.\n",
    "fitter = fitting.LevMarLSQFitter()"
   ]
  },
  {
   "cell_type": "markdown",
   "metadata": {},
   "source": [
    "<strong>We'll assume the background follows a 2D Const and set the value to the median of the image."
   ]
  },
  {
   "cell_type": "code",
   "execution_count": null,
   "metadata": {
    "collapsed": true
   },
   "outputs": [],
   "source": [
    "sky_model = models.Const2D()\n",
    "sky_model.amplitude = np.median(image.flatten())\n",
    "sky_model.amplitude.fixed = True"
   ]
  },
  {
   "cell_type": "markdown",
   "metadata": {},
   "source": [
    "<strong>We'll assume the galaxy follows a 2D Gaussian model, and add initial parameters that act as our starting guess.</strong>\n",
    "<br>REM our input model parameters were:  models.Gaussian2D(0.0008, 60, 60, 25, 5, 0.5)"
   ]
  },
  {
   "cell_type": "code",
   "execution_count": null,
   "metadata": {
    "collapsed": true
   },
   "outputs": [],
   "source": [
    "galaxy_model = models.Gaussian2D(amplitude=0.,x_mean=55, y_mean=55, x_stddev=20, y_stddev=8, theta=0.)\n",
    "galaxy_model.theta.min = 0\n",
    "galaxy_model.theta.max = 2. * np.pi"
   ]
  },
  {
   "cell_type": "markdown",
   "metadata": {},
   "source": [
    "<strong>Create the compound model that will represent the model of our scene:"
   ]
  },
  {
   "cell_type": "code",
   "execution_count": null,
   "metadata": {
    "collapsed": true
   },
   "outputs": [],
   "source": [
    "scene = sky_model + galaxy_model"
   ]
  },
  {
   "cell_type": "markdown",
   "metadata": {},
   "source": [
    "<strong>Now use the fitter to fit the image to the scene model:"
   ]
  },
  {
   "cell_type": "code",
   "execution_count": null,
   "metadata": {
    "collapsed": true
   },
   "outputs": [],
   "source": [
    "model = fitter(scene , x, y, image)"
   ]
  },
  {
   "cell_type": "code",
   "execution_count": null,
   "metadata": {},
   "outputs": [],
   "source": [
    "print(model)"
   ]
  },
  {
   "cell_type": "markdown",
   "metadata": {},
   "source": [
    "<strong> Let's visually see how we did by plotting up the results: </strong>"
   ]
  },
  {
   "cell_type": "code",
   "execution_count": null,
   "metadata": {},
   "outputs": [],
   "source": [
    "fig,(ax1, ax2, ax3) = plt.subplots(1,3, figsize=(18,18))\n",
    "ax1.set_title('Image')\n",
    "ax1.imshow(image, origin='lower')\n",
    "ax2.set_title('Model')\n",
    "ax2.imshow(model(x,y), origin='lower')\n",
    "ax3.set_title('Difference')\n",
    "ax3.imshow(image - model(x,y), origin='lower')\n",
    "plt.tight_layout()"
   ]
  },
  {
   "cell_type": "markdown",
   "metadata": {},
   "source": [
    "## Model Sets"
   ]
  },
  {
   "cell_type": "markdown",
   "metadata": {},
   "source": [
    "<strong>There are cases when it's useful to describe many models of the same type but with different parameter values.</strong>\n",
    "<ul><li>This could be done by passing *n_models* to the model with an integer value indicating the number of models.\n",
    "<li>It is especially useful in the context of simultaneously fitting many linear models using the *LinearLSQFittter*.\n",
    "</ul>\n",
    "<strong><em>Evaluation of sets of models works for all models while fitting of sets of models is currently supported only for linear models.</em></strong>"
   ]
  },
  {
   "cell_type": "code",
   "execution_count": null,
   "metadata": {},
   "outputs": [],
   "source": [
    "# This defines one model\n",
    "poly = models.Polynomial1D(degree=2, c0=0.5, c1=0, c2=1)\n",
    "print(poly)"
   ]
  },
  {
   "cell_type": "markdown",
   "metadata": {},
   "source": [
    "<strong> Lets make a set of 10 models</strong>\n",
    "<br>Here we'll send in an array of values for each of the coefficients, leaving c1 as it's default"
   ]
  },
  {
   "cell_type": "code",
   "execution_count": null,
   "metadata": {},
   "outputs": [],
   "source": [
    "poly10 = models.Polynomial1D(degree=2,\n",
    "                             c0=0.5*np.ones(10) * np.random.normal(0, .1, 10),\n",
    "                             c2=np.ones(10) * np.random.normal(1, .1, 10),\n",
    "                             n_models=10)\n",
    "print(poly10)"
   ]
  },
  {
   "cell_type": "markdown",
   "metadata": {},
   "source": [
    "<strong> Evaluate the models on data in the range [-1, 1].</strong>"
   ]
  },
  {
   "cell_type": "code",
   "execution_count": null,
   "metadata": {},
   "outputs": [],
   "source": [
    "# Create some data \n",
    "x = np.linspace(-1, 1, 21)\n",
    "y = poly10(x, model_set_axis=False)\n",
    "for value in y:\n",
    "    plt.plot(x, value)"
   ]
  },
  {
   "cell_type": "markdown",
   "metadata": {},
   "source": [
    "<strong>We defined the fitter (linfitter) during the Chebyshev example"
   ]
  },
  {
   "cell_type": "code",
   "execution_count": null,
   "metadata": {},
   "outputs": [],
   "source": [
    "fitpoly = linfitter(poly10, x, y)\n",
    "print(\"The fitting results for all 10 models:\\n\\n{}\".format(fitpoly))"
   ]
  },
  {
   "cell_type": "code",
   "execution_count": null,
   "metadata": {},
   "outputs": [],
   "source": [
    "fitdata = fitpoly(x, model_set_axis=False)\n",
    "\n",
    "for model in fitdata:\n",
    "    plt.plot(x, model)"
   ]
  },
  {
   "cell_type": "markdown",
   "metadata": {},
   "source": [
    "<hr>"
   ]
  },
  {
   "cell_type": "markdown",
   "metadata": {},
   "source": [
    "## Exercise 2:"
   ]
  },
  {
   "cell_type": "markdown",
   "metadata": {
    "collapsed": true
   },
   "source": [
    "\n",
    "- read a spectrum from a text file (data/sample_sdss.txt).\n",
    "- Using the rest wavelengths as initial values, fit a gaussian to the H beta and OIII lines.\n",
    "\n",
    "Use the rest wavelengths as initial values for the locaiton of the lines.\n",
    "```\n",
    "Hbeta = 4862.721\n",
    "Halpha = 6564.614\n",
    "OIII_1 = 4958.911\n",
    "OIII_2 = 5008.239\n",
    "Na = 6549.86\n",
    "Nb = 6585.27\n",
    "Sa = 6718.29\n",
    "Sb = 6732.68\n",
    "```"
   ]
  },
  {
   "cell_type": "code",
   "execution_count": null,
   "metadata": {
    "collapsed": true
   },
   "outputs": [],
   "source": []
  },
  {
   "cell_type": "code",
   "execution_count": null,
   "metadata": {
    "collapsed": true
   },
   "outputs": [],
   "source": []
  },
  {
   "cell_type": "markdown",
   "metadata": {},
   "source": [
    "<hr>"
   ]
  },
  {
   "cell_type": "markdown",
   "metadata": {},
   "source": [
    "## <font color='blue'>Creating a transform chain that moves one set of values to another"
   ]
  },
  {
   "cell_type": "markdown",
   "metadata": {},
   "source": [
    "<strong>The composition operator, |, combines models serially by chaining them one after the other. </strong>\n",
    "<br><em>The number of outputs of a model must match the number of inputs of the next one.</em>\n",
    "<br><br>\n",
    "\n",
    "<strong>Let's use the previous example of the 2D Gaussian galaxy model that we created.\n",
    "<br> We'll construct a new model that applies a 2D rotation of the input coordinates before calculating the gaussian model.</strong>"
   ]
  },
  {
   "cell_type": "code",
   "execution_count": null,
   "metadata": {},
   "outputs": [],
   "source": [
    "# remind ourselves what we had\n",
    "x, y = np.mgrid[:128, :128]\n",
    "plt.title(\"Starting model\")\n",
    "plt.imshow(gal_model(x,y), origin='lower')"
   ]
  },
  {
   "cell_type": "code",
   "execution_count": null,
   "metadata": {
    "collapsed": true
   },
   "outputs": [],
   "source": [
    "# Set up the Rotation at a set angle of 23.1\n",
    "rot = models.Rotation2D(angle=23.1, name='Rotation')"
   ]
  },
  {
   "cell_type": "markdown",
   "metadata": {},
   "source": [
    "<strong>Create a new model that takes as input the (x, y) coordinates, rotates those, then sends them through the galaxy model.</strong>"
   ]
  },
  {
   "cell_type": "code",
   "execution_count": null,
   "metadata": {},
   "outputs": [],
   "source": [
    "rotate_galaxy = rot | gal_model\n",
    "print(rotate_galaxy)"
   ]
  },
  {
   "cell_type": "markdown",
   "metadata": {},
   "source": [
    "<strong>When you look at the information printed above for the compound model that we've created you can see that the new model:\n",
    "<ul><li>Takes two input values\n",
    "<li>Returns one output value\n",
    "<li>Takes the information from the first model and \"pipes\" the output to the second (see Expression line)\n",
    "<li>The first model applies the Rotation2D model with an angle of 23.1, and has been given the name 'Rotation'\n",
    "<li>The second model applies the Gaussian2D model with the listed parameters\n",
    "<li>The parameters for the entire compound model are summarized\n",
    "</ul>\n",
    "</strong>"
   ]
  },
  {
   "cell_type": "markdown",
   "metadata": {},
   "source": [
    "<strong>The results:"
   ]
  },
  {
   "cell_type": "code",
   "execution_count": null,
   "metadata": {},
   "outputs": [],
   "source": [
    "fig,(ax1, ax2) = plt.subplots(1,2, figsize=(18,18))\n",
    "ax1.set_title('Starting Model')\n",
    "ax1.imshow(gal_model(x,y), origin='lower')\n",
    "ax2.set_title('Rotated Model')\n",
    "ax2.imshow(rotate_galaxy(x,y), origin='lower')"
   ]
  },
  {
   "cell_type": "markdown",
   "metadata": {},
   "source": [
    "<strong>Chaining these two models as below is an error because the galaxy model has one output, while the rotation has two inputs."
   ]
  },
  {
   "cell_type": "code",
   "execution_count": null,
   "metadata": {},
   "outputs": [],
   "source": [
    "broken_model = gal_model | rot "
   ]
  },
  {
   "cell_type": "markdown",
   "metadata": {},
   "source": [
    "<strong>The join operator, *&*, evaluates the child models on independent inputs and the results are concatenated.</strong>\n",
    "<br>\n",
    "The number of inputs passed to the combined model must equal the total number of inputs of all models."
   ]
  },
  {
   "cell_type": "markdown",
   "metadata": {},
   "source": [
    "<strong>Below, we are going to combine rotation with a shift of the y coordinate for the model, no shift is performed on the x coordinate</strong>"
   ]
  },
  {
   "cell_type": "code",
   "execution_count": null,
   "metadata": {
    "collapsed": true
   },
   "outputs": [],
   "source": [
    "shift_rotate_galaxy = models.Shift(50) & models.Identity(1) | rot | gal_model"
   ]
  },
  {
   "cell_type": "code",
   "execution_count": null,
   "metadata": {},
   "outputs": [],
   "source": [
    "fig,(ax1, ax2) = plt.subplots(1,2, figsize=(18,18))\n",
    "ax1.set_title('Starting Model')\n",
    "ax1.imshow(gal_model(x,y), origin='lower')\n",
    "ax2.set_title('Shifted and Rotated Model')\n",
    "ax2.imshow(shift_rotate_galaxy(x,y), origin='lower')"
   ]
  },
  {
   "cell_type": "markdown",
   "metadata": {},
   "source": [
    "The **Mapping** model takes a tuple of indices into the inputs and returns the corresponding inputs. \n",
    "<br>It is useful for changing the order of inputs, dropping or adding inputs. \n",
    "<br><br>\n",
    "We'll make yet another model that reverses the x and y coordinates going into the galaxy model."
   ]
  },
  {
   "cell_type": "code",
   "execution_count": null,
   "metadata": {
    "collapsed": true
   },
   "outputs": [],
   "source": [
    "# the values (1,0) instruct the chain to take the zeroth input value and swap it with the first\n",
    "invert_galaxy = models.Mapping((1,0)) | gal_model"
   ]
  },
  {
   "cell_type": "code",
   "execution_count": null,
   "metadata": {},
   "outputs": [],
   "source": [
    "fig,(ax1, ax2, ax3) = plt.subplots(1,3, figsize=(18,18))\n",
    "ax1.set_title('Starting Model')\n",
    "ax1.imshow(gal_model(x,y), origin='lower')\n",
    "\n",
    "ax2.set_title('Coordinate inverted Model')\n",
    "ax2.imshow(invert_galaxy(x,y), origin='lower')\n",
    "\n",
    "ax3.set_title('Starting Model with inputs reversed')\n",
    "ax3.imshow(gal_model(y,x), origin='lower')"
   ]
  },
  {
   "cell_type": "markdown",
   "metadata": {},
   "source": [
    "## Inverse of a model"
   ]
  },
  {
   "cell_type": "markdown",
   "metadata": {},
   "source": [
    "<strong>All models have a Model.inverse property which may, for some models, return a new model that is the analytic inverse of the model it is attached to. \n",
    "<br>It is also possible to assign a \"custom_inverse\" by assigning a model to the *inverse* attribute.</strong>"
   ]
  },
  {
   "cell_type": "code",
   "execution_count": null,
   "metadata": {
    "collapsed": true
   },
   "outputs": [],
   "source": [
    "poly1 = models.Polynomial2D(degree=1, c0_0=2, c0_1=.1, c1_0=2, name='Poly_X')"
   ]
  },
  {
   "cell_type": "markdown",
   "metadata": {},
   "source": [
    "<strong>This returns an error because an analytical inverse transform has not been implemented for polynomial models"
   ]
  },
  {
   "cell_type": "code",
   "execution_count": null,
   "metadata": {},
   "outputs": [],
   "source": [
    "print(poly1.inverse)"
   ]
  },
  {
   "cell_type": "markdown",
   "metadata": {},
   "source": [
    "### Once you assign a transform it should work. You can do that by assiging a model as the inverse...."
   ]
  },
  {
   "cell_type": "code",
   "execution_count": null,
   "metadata": {},
   "outputs": [],
   "source": [
    "poly2 = models.Polynomial2D(degree=1, c0_0=1, c1_0=2, name='Poly_Y')\n",
    "poly1.inverse = poly2\n",
    "print(poly1.inverse)"
   ]
  },
  {
   "cell_type": "markdown",
   "metadata": {},
   "source": [
    "### .... but you can also create a custom model...... "
   ]
  },
  {
   "cell_type": "markdown",
   "metadata": {},
   "source": [
    "<strong>Quite a few models are already defined in modeling. In order to see a list of the models, don't execute the following cell, instead place your cursor after the period and hit the \"tab\" key, this will bring up a list of models:"
   ]
  },
  {
   "cell_type": "code",
   "execution_count": null,
   "metadata": {},
   "outputs": [],
   "source": [
    "models."
   ]
  },
  {
   "cell_type": "markdown",
   "metadata": {},
   "source": [
    "<strong>In most cases a new model can be easily defined following an existing model as an example.\n",
    "<br>\n",
    "However, there's also a decorator, which works with user defined functions and turns them onto models."
   ]
  },
  {
   "cell_type": "code",
   "execution_count": null,
   "metadata": {},
   "outputs": [],
   "source": [
    "from astropy.modeling.models import custom_model\n",
    "\n",
    "@custom_model\n",
    "def sine_model(x, amplitude=1, frequency=1):\n",
    "    return amplitude * np.sin(2 * np.pi * frequency * x)\n",
    "\n",
    "model = sine_model(amplitude=3, frequency=2.1) # initialize the model\n",
    "print(model(0.25))"
   ]
  },
  {
   "cell_type": "markdown",
   "metadata": {},
   "source": [
    "<strong>To supply also a derivative, *custom_model* can be used as a function."
   ]
  },
  {
   "cell_type": "code",
   "execution_count": null,
   "metadata": {},
   "outputs": [],
   "source": [
    "def sine_model(x, amplitude=1, frequency=1):\n",
    "    return amplitude * np.sin(2 * np.pi * frequency * x)\n",
    "\n",
    "def sine_deriv(x, amplitude=1, frequency=1):\n",
    "    return 2 * np.pi * amplitude * np.cos(2 * np.pi * frequency *x)\n",
    "\n",
    "SineModel = custom_model(sine_model, fit_deriv=sine_deriv) # create the class\n",
    "model = SineModel(3, 2.1)# and initialize the model\n",
    "print(model(0.25))"
   ]
  },
  {
   "cell_type": "code",
   "execution_count": null,
   "metadata": {
    "collapsed": true
   },
   "outputs": [],
   "source": []
  }
 ],
 "metadata": {
  "anaconda-cloud": {},
  "kernelspec": {
   "display_name": "Python 3",
   "language": "python",
   "name": "python3"
  },
  "language_info": {
   "codemirror_mode": {
    "name": "ipython",
    "version": 3
   },
   "file_extension": ".py",
   "mimetype": "text/x-python",
   "name": "python",
   "nbconvert_exporter": "python",
   "pygments_lexer": "ipython3",
   "version": "3.5.4"
  }
 },
 "nbformat": 4,
 "nbformat_minor": 1
}
