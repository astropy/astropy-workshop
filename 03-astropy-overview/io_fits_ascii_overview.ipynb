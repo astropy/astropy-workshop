{
 "cells": [
  {
   "cell_type": "markdown",
   "metadata": {},
   "source": [
    "# I/O: FITS and ASCII\n",
    "\n",
    "In this section we will:\n",
    "\n",
    "- Learn how to use FITS files\n",
    "    - <a href=\"#Working-with-FITS-files\">Open a FITS file</a>\n",
    "    - <a href=\"#Working-with-headers\">Examine its header</a>\n",
    "    - <a href=\"#Working-with-image-data\">Image data</a>\n",
    "    - <a href=\"#Working-with-FITS-tables\">Table data</a>\n",
    "    - Visualizing with `matplotlib` and `astropy.visualization`\n",
    "- Learn how to use ASCII files\n",
    "    - <a href=\"#Working-with-ASCII-files\">Open an ASCII file</a>\n",
    "    - Visualizing with `matplotlib` and `astropy.visualization`\n",
    "    \n",
    "**For more information, see the Astropy documentation on [FITS](https://docs.astropy.org/en/stable/io/fits/) and [ASCII](https://docs.astropy.org/en/stable/io/ascii/index.html).**\n",
    "\n",
    "---"
   ]
  },
  {
   "cell_type": "markdown",
   "metadata": {},
   "source": [
    "# Working with FITS files"
   ]
  },
  {
   "cell_type": "code",
   "execution_count": null,
   "metadata": {},
   "outputs": [],
   "source": [
    "from astropy.io import fits"
   ]
  },
  {
   "cell_type": "markdown",
   "metadata": {},
   "source": [
    "The `open()` function in [astropy.io.fits](https://docs.astropy.org/en/stable/io/fits/index.html) works with regular and compressed files.\n",
    "\n",
    "Open a FITS file and look at the contents:"
   ]
  },
  {
   "cell_type": "code",
   "execution_count": null,
   "metadata": {},
   "outputs": [],
   "source": [
    "with fits.open('j94f05bgq_flt.fits.gz') as f:\n",
    "    f.info()"
   ]
  },
  {
   "cell_type": "markdown",
   "metadata": {},
   "source": [
    "Opening a FITS file using the Python *with* statement\n",
    "ensures that the file is closed without explicitly doing so."
   ]
  },
  {
   "cell_type": "markdown",
   "metadata": {},
   "source": [
    "There is also a shortcut to look inside a FITS file before fully opening it:"
   ]
  },
  {
   "cell_type": "code",
   "execution_count": null,
   "metadata": {},
   "outputs": [],
   "source": [
    "fits.info('j94f05bgq_flt.fits.gz')"
   ]
  },
  {
   "cell_type": "code",
   "execution_count": null,
   "metadata": {},
   "outputs": [],
   "source": [
    "type(f)"
   ]
  },
  {
   "cell_type": "markdown",
   "metadata": {},
   "source": [
    "FITS file objects, `HDUList`s,  are like lists. Individual HDUs are indexed like lists:"
   ]
  },
  {
   "cell_type": "code",
   "execution_count": null,
   "metadata": {},
   "outputs": [],
   "source": [
    "f[1]"
   ]
  },
  {
   "cell_type": "markdown",
   "metadata": {},
   "source": [
    "Or by using a (EXTNAME, EXTVER) tuple."
   ]
  },
  {
   "cell_type": "code",
   "execution_count": null,
   "metadata": {},
   "outputs": [],
   "source": [
    "f[(\"SCI\", 1)]"
   ]
  },
  {
   "cell_type": "markdown",
   "metadata": {},
   "source": [
    "## Working with headers"
   ]
  },
  {
   "cell_type": "markdown",
   "metadata": {},
   "source": [
    "Headers are similar to Python dictionaries. Here, we will look at a header, modify an existing keyword, and add a new card."
   ]
  },
  {
   "cell_type": "code",
   "execution_count": null,
   "metadata": {},
   "outputs": [],
   "source": [
    "keyname = 'CRPIX1'\n",
    "extnum = 1\n",
    "\n",
    "with fits.open('j94f05bgq_flt.fits.gz', mode='update') as f:\n",
    "    value = f[extnum].header.get(keyname)  # None if non-existent\n",
    "    print(\"{}: {}\".format(keyname, value))\n",
    "    f[extnum].header[keyname] = value + 1  # Reassign the keyword\n",
    "    print(\"Updated {}: {}\".format(keyname, f[extnum].header[keyname]))"
   ]
  },
  {
   "cell_type": "markdown",
   "metadata": {},
   "source": [
    "There are several ways to add a new header card.\n",
    "\n",
    "Note: Attempting to access a non-existing keyword raises a *KeyError*."
   ]
  },
  {
   "cell_type": "code",
   "execution_count": null,
   "metadata": {},
   "outputs": [],
   "source": [
    "f[extnum].header['observer'] = \"Edwin Hubble\"\n",
    "f[extnum].header  # Scroll to the end to see OBSERVER"
   ]
  },
  {
   "cell_type": "code",
   "execution_count": null,
   "metadata": {},
   "outputs": [],
   "source": [
    "# Use \"insert()\" to control where to insert the new keyword.\n",
    "# Here, the tuple is (KEYWORD, VALUE, COMMENT).\n",
    "f[extnum].header.insert('OBSERVER', ('NOBS', 2, \"Number of observing nights\"))\n",
    "f[extnum].header  # Scroll to the end to see NOBS inserted before OBSERVER"
   ]
  },
  {
   "cell_type": "code",
   "execution_count": null,
   "metadata": {},
   "outputs": [],
   "source": [
    "# FITS header keyword is also not case-sensitive.\n",
    "print('observer:', f[extnum].header['OBSERVER'])\n",
    "print('{}: {}'.format(f[extnum].header.comments['NOBS'], f[extnum].header['NOBS']))"
   ]
  },
  {
   "cell_type": "markdown",
   "metadata": {},
   "source": [
    "To delete a keyword/card, it is best to use the *remove* method, which does not raise an exception if the keyword is not present and `ignore_missing=True` option is provided."
   ]
  },
  {
   "cell_type": "code",
   "execution_count": null,
   "metadata": {},
   "outputs": [],
   "source": [
    "f[extnum].header.remove('NOBS', ignore_missing=True)\n",
    "f[extnum].header.remove('observer', ignore_missing=True)"
   ]
  },
  {
   "cell_type": "markdown",
   "metadata": {},
   "source": [
    "Comment and history cards are added with special methods. In this case, a new card is always created."
   ]
  },
  {
   "cell_type": "code",
   "execution_count": null,
   "metadata": {},
   "outputs": [],
   "source": [
    "import time\n",
    "\n",
    "with fits.open('j94f05bgq_flt.fits.gz', mode='update') as f:\n",
    "    f[extnum].header.add_history('{} New history card.'.format(time.ctime()))\n",
    "    f[extnum].header.add_comment('This is a cool image.')\n",
    "    f[extnum].header.add_comment('Much science. So Python.')\n",
    "    print(f[extnum].header['comment'])\n",
    "    print()\n",
    "    print(f[extnum].header['history'])"
   ]
  },
  {
   "cell_type": "markdown",
   "metadata": {},
   "source": [
    "## Working with image data"
   ]
  },
  {
   "cell_type": "code",
   "execution_count": null,
   "metadata": {},
   "outputs": [],
   "source": [
    "with fits.open('pix.fits.gz') as f:\n",
    "    f.info()\n",
    "    scidata = f[0].data.copy()"
   ]
  },
  {
   "cell_type": "markdown",
   "metadata": {},
   "source": [
    "An image is a NumPy array saved as the data part of an HDU."
   ]
  },
  {
   "cell_type": "code",
   "execution_count": null,
   "metadata": {},
   "outputs": [],
   "source": [
    "print(scidata.shape)\n",
    "print(scidata.dtype)"
   ]
  },
  {
   "cell_type": "markdown",
   "metadata": {},
   "source": [
    "`scidata` is a copy of the data array of the HDU. If it changes, it will not affect the data in the FITS file."
   ]
  },
  {
   "cell_type": "code",
   "execution_count": null,
   "metadata": {},
   "outputs": [],
   "source": [
    "# All operations available to NDArray are applicable to the FITS data array.\n",
    "scidata[2:10, 3:7].mean()"
   ]
  },
  {
   "cell_type": "markdown",
   "metadata": {},
   "source": [
    "`astropy.io.fits` provides convenience functions to operate on FITS files. These are good for interactive and quick lookup use. It is recommended to use the object-oriented interface for programming (creating a FITS object that you operate on above)."
   ]
  },
  {
   "cell_type": "code",
   "execution_count": null,
   "metadata": {},
   "outputs": [],
   "source": [
    "# Get the data from an HDU.\n",
    "data = fits.getdata('pix.fits.gz')\n",
    "print(\"min: {}, max: {}\".format(data.min(), data.max()))"
   ]
  },
  {
   "cell_type": "code",
   "execution_count": null,
   "metadata": {},
   "outputs": [],
   "source": [
    "# Get a keyword value.\n",
    "wcsaxes = fits.getval('j94f05bgq_flt.fits.gz', keyword=\"WCSAXES\", ext=1)\n",
    "print(\"WCSAXES:\", wcsaxes)"
   ]
  },
  {
   "cell_type": "code",
   "execution_count": null,
   "metadata": {},
   "outputs": [],
   "source": [
    "# Set a keyword value.\n",
    "fits.setval(\"j94f05bgq_flt.fits.gz\", keyword=\"observer\", value=\"Jodie Foster\")\n",
    "\n",
    "print(\"OBSERVER: \", fits.getval(\"j94f05bgq_flt.fits.gz\", keyword=\"OBSERVER\"))"
   ]
  },
  {
   "cell_type": "code",
   "execution_count": null,
   "metadata": {},
   "outputs": [],
   "source": [
    "# Remove a keyword from a header.\n",
    "fits.delval(\"j94f05bgq_flt.fits.gz\", keyword=\"OBSERVER\")"
   ]
  },
  {
   "cell_type": "markdown",
   "metadata": {},
   "source": [
    "### Visualizing with `matplotlib`"
   ]
  },
  {
   "cell_type": "code",
   "execution_count": null,
   "metadata": {},
   "outputs": [],
   "source": [
    "from astropy.visualization import imshow_norm, PercentileInterval, LogStretch\n",
    "from matplotlib import pyplot as plt\n",
    "\n",
    "%matplotlib inline"
   ]
  },
  {
   "cell_type": "markdown",
   "metadata": {},
   "source": [
    "For astronomical images, you can use `astropy.visualization` to [normalize and stretch](https://docs.astropy.org/en/stable/visualization/normalization.html) the display. (`astropy.visualization` will be covered more in a later section.) Here, we want it to be logarithmic."
   ]
  },
  {
   "cell_type": "code",
   "execution_count": null,
   "metadata": {},
   "outputs": [],
   "source": [
    "# Display the image (you can ignore the warnings if you see them)\n",
    "fig, ax = plt.subplots()\n",
    "im, norm = imshow_norm(\n",
    "    scidata, ax, origin='lower',\n",
    "        interval=PercentileInterval(99.9), stretch=LogStretch())\n",
    "fig.colorbar(im)"
   ]
  },
  {
   "cell_type": "markdown",
   "metadata": {},
   "source": [
    "`matplotlib` has a number of built-in colormaps that can be used to represent data. See all of the options on the [matplotlib website](https://matplotlib.org/examples/color/colormaps_reference.html). "
   ]
  },
  {
   "cell_type": "code",
   "execution_count": null,
   "metadata": {},
   "outputs": [],
   "source": [
    "fig, ax = plt.subplots()\n",
    "im, norm = imshow_norm(\n",
    "    scidata, ax, origin='lower', cmap='gray',\n",
    "    interval=PercentileInterval(99.9), stretch=LogStretch())\n",
    "fig.colorbar(im)"
   ]
  },
  {
   "cell_type": "markdown",
   "metadata": {},
   "source": [
    "## Working with FITS tables"
   ]
  },
  {
   "cell_type": "markdown",
   "metadata": {},
   "source": [
    "**Note**: The recommended method to read and write a single FITS table is using the [Unified I/O read/write interface](https://docs.astropy.org/en/stable/io/unified.html#table-io-fits):\n",
    "\n",
    "    from astropy.table import Table\n",
    "    t = Table.read('data.fits')\n",
    "\n",
    "We also show an example of using [astropy.io.fits](https://docs.astropy.org/en/stable/io/fits/index.html#) below as there is a lot of legacy code which uses it:\n",
    "\n",
    "    with fits.open('data.fits') as hdu_list:\n",
    "        hdu_list.info()\n",
    "        table_data = hdu_list[1].data\n",
    "        print('Column names: \\n', table_data.names)\n",
    "        print('\\nRow 1: \\n', table_data[1])\n",
    "        print('\\nColumn \"time\": \\n', table_data.field('time'))\n",
    "        print('\\nNumber of rows: \\n', len(table_data))"
   ]
  },
  {
   "cell_type": "code",
   "execution_count": null,
   "metadata": {},
   "outputs": [],
   "source": [
    "from astropy.table import QTable\n",
    "from astropy.utils.data import download_file"
   ]
  },
  {
   "cell_type": "code",
   "execution_count": null,
   "metadata": {},
   "outputs": [],
   "source": [
    "table_filename = download_file('http://data.astropy.org/tutorials/FITS-tables/chandra_events.fits', cache=True)"
   ]
  },
  {
   "cell_type": "code",
   "execution_count": null,
   "metadata": {},
   "outputs": [],
   "source": [
    "# When a table contains columns with units, QTable can be used\n",
    "# instead of Table.\n",
    "tab = QTable.read(table_filename, hdu=1)"
   ]
  },
  {
   "cell_type": "code",
   "execution_count": null,
   "metadata": {},
   "outputs": [],
   "source": [
    "tab.colnames"
   ]
  },
  {
   "cell_type": "code",
   "execution_count": null,
   "metadata": {},
   "outputs": [],
   "source": [
    "tab[0]  # First row"
   ]
  },
  {
   "cell_type": "code",
   "execution_count": null,
   "metadata": {},
   "outputs": [],
   "source": [
    "tab['time']"
   ]
  },
  {
   "cell_type": "code",
   "execution_count": null,
   "metadata": {},
   "outputs": [],
   "source": [
    "print(\"Number of rows:\", len(tab))"
   ]
  },
  {
   "cell_type": "markdown",
   "metadata": {},
   "source": [
    "### Visualizing with `matplotlib`\n",
    "#### 1D Histogram"
   ]
  },
  {
   "cell_type": "code",
   "execution_count": null,
   "metadata": {
    "scrolled": false
   },
   "outputs": [],
   "source": [
    "fig, ax = plt.subplots()\n",
    "ax.hist(tab['energy'].value, bins=128, log=True)\n",
    "ax.semilogy()\n",
    "ax.set_xlabel(\"eV\")\n",
    "\n",
    "# The trailing \";\" suppresses extraneous matplotlib output in notebook.\n",
    "ax.set_ylabel(\"Counts per bin\");"
   ]
  },
  {
   "cell_type": "markdown",
   "metadata": {},
   "source": [
    "#### 2D Histogram"
   ]
  },
  {
   "cell_type": "code",
   "execution_count": null,
   "metadata": {},
   "outputs": [],
   "source": [
    "from matplotlib.colors import LogNorm\n",
    "\n",
    "fig, ax = plt.subplots()\n",
    "h = ax.hist2d(tab['x'].value, tab['y'].value,\n",
    "              bins=(1000, 1000), norm=LogNorm())\n",
    "fig.colorbar(h[3]);"
   ]
  },
  {
   "cell_type": "markdown",
   "metadata": {},
   "source": [
    "### Working with large files"
   ]
  },
  {
   "cell_type": "markdown",
   "metadata": {},
   "source": [
    "The `open()` function supports a `memmap=True` option that allows the array data of each HDU to be accessed with memory mapping, rather than being read into memory all at once. This is particularly useful for working with very large arrays that cannot fit entirely into physical memory.\n",
    "\n",
    "For more details, see https://astropy.readthedocs.io/en/stable/io/fits/index.html#working-with-large-files."
   ]
  },
  {
   "cell_type": "markdown",
   "metadata": {},
   "source": [
    "---\n",
    "# Working with ASCII files"
   ]
  },
  {
   "cell_type": "markdown",
   "metadata": {},
   "source": [
    "What if your data is in a text file? We've included `throughput.txt` as an example.\n",
    "\n",
    "    Detector throughput values\n",
    "    ——\n",
    "    Wavelength_microns Throughput\n",
    "    2.0004663860000003 1.7911368754631042e-12\n",
    "    2.002074478 2.5344376991635788e-12\n",
    "    2.00368257 3.3872207023255276e-12\n",
    "    2.005290662 2.891853959468528e-12\n",
    "    ...         ..."
   ]
  },
  {
   "cell_type": "markdown",
   "metadata": {},
   "source": [
    "Python has a built-in method for opening text files like ASCII files, but it is not too friendly. Let's see how it works:"
   ]
  },
  {
   "cell_type": "code",
   "execution_count": null,
   "metadata": {},
   "outputs": [],
   "source": [
    "with open('throughput.txt') as f:\n",
    "    throughput_data = f.read()\n",
    "\n",
    "print(type(throughput_data))\n",
    "print(len(throughput_data))\n",
    "\n",
    "# Now what? How do we extract the data?"
   ]
  },
  {
   "cell_type": "markdown",
   "metadata": {},
   "source": [
    "Luckily, Astropy includes a package to handle ASCII files that immediately separates data into rows and columns, and loads it into an easy-to-use table:"
   ]
  },
  {
   "cell_type": "code",
   "execution_count": null,
   "metadata": {},
   "outputs": [],
   "source": [
    "from astropy import units as u\n",
    "from astropy.table import QTable"
   ]
  },
  {
   "cell_type": "markdown",
   "metadata": {},
   "source": [
    "Since our file has a couple lines of comments at the top, we need to tell the reader to start reading the header at line 2 and the data at line 3. We will also rename the columns by passing in `names`."
   ]
  },
  {
   "cell_type": "code",
   "execution_count": null,
   "metadata": {},
   "outputs": [],
   "source": [
    "throughput_data = QTable.read(\n",
    "    'throughput.txt', format='ascii.basic', data_start=3, header_start=2,\n",
    "    names=['lambda', 'throughput'])\n",
    "\n",
    "# Assign proper unit to wavelength column.\n",
    "throughput_data['lambda'].unit = u.micron\n",
    "\n",
    "throughput_data"
   ]
  },
  {
   "cell_type": "markdown",
   "metadata": {},
   "source": [
    "Astropy's ASCII module can read files with a variety of formats and extensions, including comma-separated (CSV), tab-delimited, fixed-width, HTML, reStructuredText, and more. See the [Astropy docs](https://docs.astropy.org/en/stable/io/ascii/#supported-formats) for a complete list."
   ]
  },
  {
   "cell_type": "markdown",
   "metadata": {},
   "source": [
    "### Visualizing with `matplotlib`"
   ]
  },
  {
   "cell_type": "code",
   "execution_count": null,
   "metadata": {},
   "outputs": [],
   "source": [
    "from astropy.visualization import quantity_support\n",
    "\n",
    "with quantity_support():\n",
    "    fig, ax = plt.subplots()\n",
    "    ax.plot(throughput_data['lambda'], throughput_data['throughput'])\n",
    "    ax.set_title('Some filter')"
   ]
  }
 ],
 "metadata": {
  "anaconda-cloud": {},
  "kernelspec": {
   "display_name": "Python 3",
   "language": "python",
   "name": "python3"
  },
  "language_info": {
   "codemirror_mode": {
    "name": "ipython",
    "version": 3
   },
   "file_extension": ".py",
   "mimetype": "text/x-python",
   "name": "python",
   "nbconvert_exporter": "python",
   "pygments_lexer": "ipython3",
   "version": "3.7.5"
  }
 },
 "nbformat": 4,
 "nbformat_minor": 2
}
