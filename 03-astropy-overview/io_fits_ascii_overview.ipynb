{
 "cells": [
  {
   "cell_type": "markdown",
   "metadata": {},
   "source": [
    "# Working with FITS image data\n",
    "\n",
    "In this section we will learn how access image data."
   ]
  },
  {
   "cell_type": "markdown",
   "metadata": {},
   "source": [
    "# High-level interface for individual images\n",
    "\n",
    "Our introduction to working with FITS image data uses a high-level interface that avoids the need to understand how to set up a number of useful astropy objects, like a WCS. The `CCDData` object takes care of those details for you but is harder to use with more complex FITS files\n",
    "\n",
    "One note about `CCDData` -- it requires that the image have a unit. In the example we've included the FITS file itself does not include a unit for the data so we provide that below"
   ]
  },
  {
   "cell_type": "code",
   "execution_count": null,
   "metadata": {},
   "outputs": [],
   "source": [
    "from astropy.nddata import CCDData"
   ]
  },
  {
   "cell_type": "code",
   "execution_count": null,
   "metadata": {},
   "outputs": [],
   "source": [
    "ccd = CCDData.read(\"pix.fits.gz\", unit=\"adu\")"
   ]
  },
  {
   "cell_type": "markdown",
   "metadata": {},
   "source": [
    "### Quick visualization example\n",
    "\n",
    "We will return to amore extensive discussion of visualization shortly. Below we demonstrate one way display an image."
   ]
  },
  {
   "cell_type": "code",
   "execution_count": null,
   "metadata": {},
   "outputs": [],
   "source": [
    "from astropy.visualization import imshow_norm, PercentileInterval, LogStretch\n",
    "from matplotlib import pyplot as plt\n",
    "\n",
    "%matplotlib inline"
   ]
  },
  {
   "cell_type": "markdown",
   "metadata": {},
   "source": [
    "For astronomical images, you can use `astropy.visualization` to [normalize and stretch](https://docs.astropy.org/en/stable/visualization/normalization.html) the display. (`astropy.visualization` will be covered more in a later section.) Here, we want it to be logarithmic."
   ]
  },
  {
   "cell_type": "code",
   "execution_count": null,
   "metadata": {},
   "outputs": [],
   "source": [
    "# Display the image (you can ignore the warnings if you see them)\n",
    "fig, ax = plt.subplots()\n",
    "im, norm = imshow_norm(\n",
    "    ccd.data, ax, origin='lower',\n",
    "        interval=PercentileInterval(99.9), stretch=LogStretch())\n",
    "fig.colorbar(im)"
   ]
  },
  {
   "cell_type": "markdown",
   "metadata": {},
   "source": [
    "### A few `CCDData` properties"
   ]
  },
  {
   "cell_type": "markdown",
   "metadata": {},
   "source": [
    "The `header` attribute contains the FITS header for the image."
   ]
  },
  {
   "cell_type": "code",
   "execution_count": null,
   "metadata": {},
   "outputs": [],
   "source": [
    "ccd.header"
   ]
  },
  {
   "cell_type": "markdown",
   "metadata": {},
   "source": [
    "You can get the data itself with the `.data` attribute"
   ]
  },
  {
   "cell_type": "code",
   "execution_count": null,
   "metadata": {},
   "outputs": [],
   "source": [
    "ccd.data"
   ]
  },
  {
   "cell_type": "markdown",
   "metadata": {},
   "source": [
    "If the FITS file contains WCS information that is available via the `.wcs` attribute."
   ]
  },
  {
   "cell_type": "code",
   "execution_count": null,
   "metadata": {},
   "outputs": [],
   "source": [
    "ccd.wcs"
   ]
  },
  {
   "cell_type": "code",
   "execution_count": null,
   "metadata": {},
   "outputs": [],
   "source": [
    "ccd.wcs.pixel_to_world((10, 256, 50), (256, 256, 480))"
   ]
  },
  {
   "cell_type": "markdown",
   "metadata": {},
   "source": [
    "### Writing FITS files"
   ]
  },
  {
   "cell_type": "markdown",
   "metadata": {},
   "source": [
    "The `CCDData` object has a `write` method for writing FITS files. It recognizes a broad range of extensions, and can write compressed files if desired."
   ]
  },
  {
   "cell_type": "code",
   "execution_count": null,
   "metadata": {},
   "outputs": [],
   "source": [
    "ccd.write(\"test_write.fts\")"
   ]
  },
  {
   "cell_type": "markdown",
   "metadata": {},
   "source": [
    "### Error and masking"
   ]
  },
  {
   "cell_type": "markdown",
   "metadata": {},
   "source": [
    "You can carry error and masking information along with images data in a `CCDData` object. Here we create the error by simply assuming the only source of error in the image is Poisson (that is not the case).\n",
    "\n",
    "We import the `numpy` module to get an array-aware square root."
   ]
  },
  {
   "cell_type": "code",
   "execution_count": null,
   "metadata": {},
   "outputs": [],
   "source": [
    "import numpy as np\n",
    "ccd.uncertainty = np.sqrt(ccd.data)"
   ]
  },
  {
   "cell_type": "markdown",
   "metadata": {},
   "source": [
    "It appears that there were some negative values in the data, leading to the invalid value warning above. Let's also create a mask that indicates which pixels should be ignored.\n",
    "\n",
    "Note that a value of `True` in the mask means the pixel should be ignored.\n",
    "\n",
    "Also note that *not every function, method, etc pays attention to the mask*. This is true of both astropy and other packages."
   ]
  },
  {
   "cell_type": "code",
   "execution_count": null,
   "metadata": {},
   "outputs": [],
   "source": [
    "ccd.mask = ccd.data < 0\n",
    "ccd.mask.sum()"
   ]
  },
  {
   "cell_type": "markdown",
   "metadata": {},
   "source": [
    "### Saving this \"compound\" image"
   ]
  },
  {
   "cell_type": "markdown",
   "metadata": {},
   "source": [
    "We can save this image the same way we did before. As we will see in a moment, the error and mask are saved to separate extensions.\n",
    "\n",
    "If you wish to overwrite an existing file you must use the `overwrite=True` argument."
   ]
  },
  {
   "cell_type": "code",
   "execution_count": null,
   "metadata": {},
   "outputs": [],
   "source": [
    "ccd.write(\"pix_with_error_mask.fits\", overwrite=True)"
   ]
  },
  {
   "cell_type": "markdown",
   "metadata": {
    "editable": true,
    "slideshow": {
     "slide_type": ""
    },
    "tags": []
   },
   "source": [
    "## Low-level interface for reading FITS files\n",
    "\n",
    "The `fits` module provides an interface for working with FITS files that are more complex than a single image.\n",
    "\n",
    "We will explore this using the image we just saved."
   ]
  },
  {
   "cell_type": "code",
   "execution_count": null,
   "metadata": {},
   "outputs": [],
   "source": [
    "from astropy.io import fits"
   ]
  },
  {
   "cell_type": "markdown",
   "metadata": {},
   "source": [
    "The `open()` function in [astropy.io.fits](https://docs.astropy.org/en/stable/io/fits/index.html) works with regular and compressed files.\n",
    "\n",
    "We begin by opening this FITS file and looking at its structure."
   ]
  },
  {
   "cell_type": "code",
   "execution_count": null,
   "metadata": {},
   "outputs": [],
   "source": [
    "with fits.open('pix_with_error_mask.fits') as f:\n",
    "    f.info()"
   ]
  },
  {
   "cell_type": "markdown",
   "metadata": {},
   "source": [
    "### Reading specific extensions\n",
    "\n",
    "You can get information from specific extensions by referring to them by name or number. The example below reads in just the mask HDU, which is extension 1."
   ]
  },
  {
   "cell_type": "code",
   "execution_count": null,
   "metadata": {},
   "outputs": [],
   "source": [
    "with fits.open(\"pix_with_error_mask.fits\") as f:\n",
    "    mask_hdu = f[1]"
   ]
  },
  {
   "cell_type": "markdown",
   "metadata": {},
   "source": [
    "You can use the `header` attribute of the HDU to access the header:"
   ]
  },
  {
   "cell_type": "code",
   "execution_count": null,
   "metadata": {},
   "outputs": [],
   "source": [
    "mask_hdu.header"
   ]
  },
  {
   "cell_type": "markdown",
   "metadata": {},
   "source": [
    "You might expect that you can use the `.data` attribute to access the data, but that does not work:"
   ]
  },
  {
   "cell_type": "code",
   "execution_count": null,
   "metadata": {
    "editable": true,
    "slideshow": {
     "slide_type": ""
    },
    "tags": [
     "raises-exception"
    ]
   },
   "outputs": [],
   "source": [
    "mask_hdu.data"
   ]
  },
  {
   "cell_type": "markdown",
   "metadata": {},
   "source": [
    "#### Explanation\n",
    "\n",
    "What just happened?! It certainly appeared as if the mask HDU had been loaded since we could access its header, but the data clearly was not loaded. \n",
    "\n",
    "The error message, `ValueError: I/O operation on closed file`, provides a clue.\n",
    "\n",
    "The reason is primarily historical. FITS files are, by default, opened in *memory map* mode to avoid reading in the entire file at once. In memory map mode, the `.data` that looks like an array is actually, because of the way numpy handles memory maps, a reference to the file with the data. That has been the default in astropy since its very beginning, including in the stand-alone `pyfits` package that preceded, and then became a part of, astropy. \n",
    "\n",
    "\n",
    "On the other hand, a context manager is supposed to guarantee that any resources created in the context, like opening a file handle, is cleaned up, i.e. removed, when you exit the context.\n",
    "\n",
    "That has led to a compromise:\n",
    "\n",
    "1. If no reference is made to the data in the with block, e.g., by assigning the data to a variable, and the file is opened with `memmap=True`, the default, then all file handles are closed when you exit the block and you have no access to the data after exiting the block. You do have access to the header because that is always read from disk. This is the case we saw above.\n",
    "2. If there is a reference to the data in the `with` block, and the file is opened with `memmap=True`, the default, then a reference to the file is maintained by `numpy`, which handles the memory map for astropy. That gives you access to the memory-mapped data at the expense of maintaining a hidden file reference. An example of this is below. \n",
    "3. If `memmap=False` the situation is less confusing because the header and data are read in as needed. However, the data is not read in unless it is accessed inside the with block. The downside is that more memory is used, which can be an issue for large images. An example of this is below.\n"
   ]
  },
  {
   "cell_type": "code",
   "execution_count": null,
   "metadata": {},
   "outputs": [],
   "source": [
    "# Case 2 -- explicitly reference the data\n",
    "with fits.open(\"pix_with_error_mask.fits\") as f:\n",
    "    mask_hdu = f[1]\n",
    "    mask_hdu_data = mask_hdu.data\n",
    "\n",
    "# We have access to the data via a \"hidden\" file reference\n",
    "# to \"pix_with_error_mask.fits\"\n",
    "mask_hdu_data[0, 0]"
   ]
  },
  {
   "cell_type": "code",
   "execution_count": null,
   "metadata": {},
   "outputs": [],
   "source": [
    "# Case 3 -- no memory mapping\n",
    "with fits.open(\"pix_with_error_mask.fits\", memmap=False) as f:\n",
    "    mask_hdu = f[1]\n",
    "    # This causes the data to be read from disk, so it is accessible outside\n",
    "    # the with block. Deleting this line will make this cell fail because the \n",
    "    # data is only read if the user explicitly accesses it.\n",
    "    mask_hdu.data\n",
    "\n",
    "# We have access to the data because it was read into memory\n",
    "mask_hdu.data[0, 0]"
   ]
  },
  {
   "cell_type": "markdown",
   "metadata": {},
   "source": [
    "## Working with headers"
   ]
  },
  {
   "cell_type": "markdown",
   "metadata": {},
   "source": [
    "Headers are similar to Python dictionaries. Here, we will look at a header, modify an existing keyword, and add a new card. Note that the FITS file is opened in `update` mode, which means that any changes made to the header or data are saved back to the file."
   ]
  },
  {
   "cell_type": "code",
   "execution_count": null,
   "metadata": {},
   "outputs": [],
   "source": [
    "keyname = 'CRPIX1'\n",
    "extnum = 1\n",
    "\n",
    "with fits.open('j94f05bgq_flt.fits.gz', mode='update') as f:\n",
    "    value = f[extnum].header.get(keyname)  # None if non-existent\n",
    "    print(\"{}: {}\".format(keyname, value))\n",
    "    f[extnum].header[keyname] = value + 1  # Reassign the keyword\n",
    "    print(\"Updated {}: {}\".format(keyname, f[extnum].header[keyname]))"
   ]
  },
  {
   "cell_type": "markdown",
   "metadata": {},
   "source": [
    "Note that once we leave with `with` block changes no longer update the file. Also, unlike regular Python dictionaries, FITS headers are not case-sensitive."
   ]
  },
  {
   "cell_type": "code",
   "execution_count": null,
   "metadata": {},
   "outputs": [],
   "source": [
    "# FITS header keyword is also not case-sensitive.\n",
    "f[extnum].header['observer'] = \"Henrietta Leavitt\"\n",
    "print('observer:', f[extnum].header['OBSERVER'])\n"
   ]
  },
  {
   "cell_type": "markdown",
   "metadata": {},
   "source": [
    "To delete a keyword/card, it is best to use the *remove* method, which does not raise an exception if the keyword is not present and `ignore_missing=True` option is provided."
   ]
  },
  {
   "cell_type": "code",
   "execution_count": null,
   "metadata": {},
   "outputs": [],
   "source": [
    "f[extnum].header.remove('observer', ignore_missing=True)"
   ]
  },
  {
   "cell_type": "markdown",
   "metadata": {},
   "source": [
    "Comment and history cards are added with special methods. In this case, a new card is always created."
   ]
  },
  {
   "cell_type": "code",
   "execution_count": null,
   "metadata": {},
   "outputs": [],
   "source": [
    "import time\n",
    "\n",
    "with fits.open('j94f05bgq_flt.fits.gz', mode='update') as f:\n",
    "    f[extnum].header.add_history('{} New history card.'.format(time.ctime()))\n",
    "    f[extnum].header.add_comment('This is a cool image.')\n",
    "    f[extnum].header.add_comment('Much science. So Python.')\n",
    "    print(f[extnum].header['comment'])\n",
    "    print()\n",
    "    print(f[extnum].header['history'])"
   ]
  },
  {
   "cell_type": "markdown",
   "metadata": {},
   "source": [
    "## Working with image data"
   ]
  },
  {
   "cell_type": "code",
   "execution_count": null,
   "metadata": {},
   "outputs": [],
   "source": [
    "with fits.open('pix.fits.gz') as f:\n",
    "    f.info()\n",
    "    scidata = f[0].data"
   ]
  },
  {
   "cell_type": "markdown",
   "metadata": {},
   "source": [
    "An image is a NumPy array saved as the data part of an HDU."
   ]
  },
  {
   "cell_type": "code",
   "execution_count": null,
   "metadata": {},
   "outputs": [],
   "source": [
    "print(scidata.shape)\n",
    "print(scidata.dtype)"
   ]
  },
  {
   "cell_type": "markdown",
   "metadata": {},
   "source": [
    "👀 `scidata` is a copy of the data array of the HDU. If it changes, it will not affect the data in the FITS file."
   ]
  },
  {
   "cell_type": "code",
   "execution_count": null,
   "metadata": {},
   "outputs": [],
   "source": [
    "# All operations available to NDArray are applicable to the FITS data array.\n",
    "scidata[2:10, 3:7].mean()"
   ]
  },
  {
   "cell_type": "markdown",
   "metadata": {},
   "source": [
    "## Working with FITS tables"
   ]
  },
  {
   "cell_type": "markdown",
   "metadata": {},
   "source": [
    "**Note**: The recommended method to read and write a single FITS table is using the [Unified I/O read/write interface](https://docs.astropy.org/en/stable/io/unified.html#table-io-fits):\n",
    "\n",
    "    from astropy.table import Table\n",
    "    t = Table.read('data.fits')\n",
    "\n",
    "We also show an example of using [astropy.io.fits](https://docs.astropy.org/en/stable/io/fits/index.html#) below as there is a lot of legacy code which uses it:\n",
    "\n",
    "    with fits.open('data.fits') as hdu_list:\n",
    "        hdu_list.info()\n",
    "        table_data = hdu_list[1].data\n",
    "        print('Column names: \\n', table_data.names)\n",
    "        print('\\nRow 1: \\n', table_data[1])\n",
    "        print('\\nColumn \"time\": \\n', table_data.field('time'))\n",
    "        print('\\nNumber of rows: \\n', len(table_data))"
   ]
  }
 ],
 "metadata": {
  "anaconda-cloud": {},
  "kernelspec": {
   "display_name": "Python 3 (ipykernel)",
   "language": "python",
   "name": "python3"
  },
  "language_info": {
   "codemirror_mode": {
    "name": "ipython",
    "version": 3
   },
   "file_extension": ".py",
   "mimetype": "text/x-python",
   "name": "python",
   "nbconvert_exporter": "python",
   "pygments_lexer": "ipython3",
   "version": "3.11.8"
  }
 },
 "nbformat": 4,
 "nbformat_minor": 4
}
